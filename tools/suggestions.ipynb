{
 "metadata": {
  "language_info": {
   "codemirror_mode": {
    "name": "ipython",
    "version": 3
   },
   "file_extension": ".py",
   "mimetype": "text/x-python",
   "name": "python",
   "nbconvert_exporter": "python",
   "pygments_lexer": "ipython3",
   "version": "3.8.5-final"
  },
  "orig_nbformat": 2,
  "kernelspec": {
   "name": "python3",
   "display_name": "Python 3.8.5 64-bit ('analyze': conda)",
   "metadata": {
    "interpreter": {
     "hash": "a333c0f8ebc677255208bd4e95a1a8fc090ff18064a07e3559187093626a8c24"
    }
   }
  }
 },
 "nbformat": 4,
 "nbformat_minor": 2,
 "cells": [
  {
   "cell_type": "code",
   "execution_count": 1,
   "metadata": {},
   "outputs": [],
   "source": [
    "import json\n",
    "import geohash\n",
    "import collections\n",
    "import pandas as pd\n",
    "from geopy.distance import geodesic\n",
    "from shapely.geometry import Point\n",
    "from shapely.geometry.polygon import Polygon\n",
    "from shapely.ops import nearest_points"
   ]
  },
  {
   "cell_type": "code",
   "execution_count": 2,
   "metadata": {},
   "outputs": [],
   "source": [
    "def grid_dict(jsonpath):\n",
    "    \"\"\"\n",
    "    type jsonpath: String, the path where stores fenceID and its grids\n",
    "    \"\"\"\n",
    "    f=open(jsonpath,\"r\")\n",
    "    content=f.readline()\n",
    "    f.close()\n",
    "    fence_grid = json.loads(content)\n",
    "    grid_fence = collections.defaultdict(set)\n",
    "    for k, v in fence_grid.items():\n",
    "        for grid in v:\n",
    "            grid_fence[grid].add(k)\n",
    "    return grid_fence\n",
    "\n",
    "def point_grids(point):\n",
    "    \"\"\"\n",
    "    :type point: Tuple or List, format: (Latitude, Longitude)\n",
    "    :rtype: List, related geohash grids to current point\n",
    "    \"\"\"\n",
    "    center = geohash.encode(point[0], point[1], 7)\n",
    "    # 将center扩展为九宫格,避免\"错误最近点\"现象出现\n",
    "    nears = geohash.expand(center)\n",
    "    return [center] + nears"
   ]
  },
  {
   "source": [
    "fences = pd.read_csv('../cleaned_data/suggestions/fences_fillall.csv')\n",
    "bikes = pd.read_csv('../cleaned_data/suggestions/bikes_fillall.csv')"
   ],
   "cell_type": "code",
   "metadata": {},
   "execution_count": 3,
   "outputs": []
  },
  {
   "cell_type": "code",
   "execution_count": 4,
   "metadata": {},
   "outputs": [
    {
     "output_type": "stream",
     "name": "stdout",
     "text": [
      "<class 'pandas.core.frame.DataFrame'>\nRangeIndex: 14071 entries, 0 to 14070\nData columns (total 37 columns):\n #   Column        Non-Null Count  Dtype  \n---  ------        --------------  -----  \n 0   FENCE_ID      14071 non-null  object \n 1   LATITUDE_0    14071 non-null  float64\n 2   LONGITUDE_0   14071 non-null  float64\n 3   LATITUDE_1    14071 non-null  float64\n 4   LONGITUDE_1   14071 non-null  float64\n 5   LATITUDE_2    14071 non-null  float64\n 6   LONGITUDE_2   14071 non-null  float64\n 7   LATITUDE_3    14071 non-null  float64\n 8   LONGITUDE_3   14071 non-null  float64\n 9   LATITUDE_4    14071 non-null  float64\n 10  LONGITUDE_4   14071 non-null  float64\n 11  F_LATITUDE    14071 non-null  float64\n 12  F_LONGITUDE   14071 non-null  float64\n 13  ROAD          14071 non-null  object \n 14  AREA          14071 non-null  float64\n 15  FID           14071 non-null  int64  \n 16  LENGTH        14071 non-null  float64\n 17  WIDTH         14071 non-null  float64\n 18  21_0          14071 non-null  int64  \n 19  21_1          14071 non-null  int64  \n 20  22_0          14071 non-null  int64  \n 21  22_1          14071 non-null  int64  \n 22  23_0          14071 non-null  int64  \n 23  23_1          14071 non-null  int64  \n 24  24_0          14071 non-null  int64  \n 25  24_1          14071 non-null  int64  \n 26  25_0          14071 non-null  int64  \n 27  25_1          14071 non-null  int64  \n 28  21_FLOW       14071 non-null  int64  \n 29  22_FLOW       14071 non-null  int64  \n 30  23_FLOW       14071 non-null  int64  \n 31  24_FLOW       14071 non-null  int64  \n 32  25_FLOW       14071 non-null  int64  \n 33  FLOW          14071 non-null  int64  \n 34  FLOW_DENSITY  14071 non-null  float64\n 35  ACTIVE_DAYS   14071 non-null  int64  \n 36  CLUSTER       14071 non-null  int64  \ndtypes: float64(16), int64(19), object(2)\nmemory usage: 4.0+ MB\n"
     ]
    }
   ],
   "source": [
    "fences.info()"
   ]
  },
  {
   "cell_type": "code",
   "execution_count": 5,
   "metadata": {},
   "outputs": [],
   "source": [
    "grid_fences = grid_dict('../cleaned_data/middlewares/fence_grids.json')"
   ]
  },
  {
   "cell_type": "code",
   "execution_count": 6,
   "metadata": {},
   "outputs": [],
   "source": [
    "key = fences.sort_values(\"FLOW\", ascending=False)['FID'].iloc[0]\n",
    "a_bike = bikes[bikes['FID'] == key].iloc[0]\n",
    "bike_pos = (a_bike['LATITUDE'], a_bike['LONGITUDE'])\n",
    "point = Point(bike_pos)\n",
    "# 由于调度范围可能大于153米,所以使用了7位geohash九宫格.这样选择跨度可以达到400米以上. 在实际调度过程中可考虑使用更低位的geohash\n",
    "bike_near_grids = point_grids(bike_pos)\n",
    "\n",
    "# 经验参数,可以调整.这里是乱填的\n",
    "max_dist = 300\n",
    "dist_weight = 0.5\n",
    "active_day_weight = 0.2\n",
    "flow_weight = 0.3\n",
    "\n",
    "near_fences = []\n",
    "for grid in bike_near_grids:\n",
    "    near_fences += grid_fences[grid]\n",
    "near_fences = list(set(near_fences))\n",
    "\n",
    "near_f, flow, active_days, distances = [], [], [], []\n",
    "\n",
    "# 因为缺乏图数据所以这里的距离只能使用地理直线距离代替,若能获取图数据,则使用Dijkstra算法\n",
    "for fid in near_fences:\n",
    "    fid = int(fid)\n",
    "    curfence_flow = fences.loc[fid, 'FLOW']\n",
    "    curfence_active_day = fences.loc[fid, 'ACTIVE_DAYS']\n",
    "    curfence_position = fences.iloc[fid, 1:11]\n",
    "    polygon_data = []\n",
    "    for i in range(0, 10, 2):\n",
    "        polygon_data.append((curfence_position[i], curfence_position[i + 1]))\n",
    "    polygon = Polygon(polygon_data)\n",
    "    boundary_obj = nearest_points(polygon, point)[0]\n",
    "    nearest_point = boundary_obj.bounds[:2]\n",
    "    dist = geodesic(bike_pos, nearest_point).meters\n",
    "    if dist < max_dist:\n",
    "        flow.append(curfence_flow)\n",
    "        active_days.append(curfence_active_day)\n",
    "        distances.append(dist)\n",
    "        near_f.append(fid)"
   ]
  },
  {
   "cell_type": "code",
   "execution_count": 7,
   "metadata": {},
   "outputs": [],
   "source": [
    "near_df = pd.DataFrame()\n",
    "near_df['FID'] = near_f\n",
    "near_df['ACTIVE_DAYS'] = active_days\n",
    "near_df['FLOW'] = flow\n",
    "near_df['DISTANCE'] = distances\n",
    "\n",
    "def get_zscore(dfseries):\n",
    "    return (dfseries - dfseries.mean())/dfseries.std()\n",
    "\n",
    "near_df['SCORE'] = get_zscore(near_df['ACTIVE_DAYS']) * active_day_weight + get_zscore(near_df['FLOW']) * flow_weight + get_zscore(near_df['DISTANCE']) * dist_weight\n",
    "sorted_df = near_df.sort_values(\"SCORE\")"
   ]
  },
  {
   "cell_type": "code",
   "execution_count": 15,
   "metadata": {},
   "outputs": [
    {
     "output_type": "execute_result",
     "data": {
      "text/plain": [
       "      FID  ACTIVE_DAYS  FLOW    DISTANCE     SCORE\n",
       "10   1758            0    -9  180.466975 -0.649823\n",
       "15  11440            2     3  173.929824 -0.488180\n",
       "19   6490            5   565    9.412627 -0.467737\n",
       "16   9678            0   -18  212.511926 -0.388687\n",
       "12   9679            0   -17  214.396922 -0.370153\n",
       "23   1759            3     3  179.992604 -0.338330\n",
       "1    1752            0    -6  216.450368 -0.329395\n",
       "6    9732            0     0  219.936623 -0.286503\n",
       "20   9750            3     4  188.271769 -0.263962\n",
       "5    9675            1    -1  213.607034 -0.246936\n",
       "2    9680            0   -15  231.033915 -0.220730\n",
       "21   1754            2     0  211.991317 -0.162058\n",
       "13   1751            0    -3  235.938196 -0.153004\n",
       "4    9733            0   -14  239.661801 -0.143317\n",
       "9    9681            1    -3  233.683893 -0.075778\n",
       "18   9731            1    -7  242.832735 -0.004192\n",
       "3    9677            4     5  209.606338  0.021315\n",
       "8    1753            4     5  217.007358  0.085940\n",
       "11   1757            5    20  225.389161  0.287167\n",
       "0    3755            2     1  295.809673  0.571908\n",
       "17   6488            5    36  283.254140  0.825640\n",
       "22  11441            5   451  185.360505  0.832046\n",
       "7    6489            5    34  299.623395  0.964423\n",
       "14   6491            5    65  296.370095  1.000347"
      ],
      "text/html": "<div>\n<style scoped>\n    .dataframe tbody tr th:only-of-type {\n        vertical-align: middle;\n    }\n\n    .dataframe tbody tr th {\n        vertical-align: top;\n    }\n\n    .dataframe thead th {\n        text-align: right;\n    }\n</style>\n<table border=\"1\" class=\"dataframe\">\n  <thead>\n    <tr style=\"text-align: right;\">\n      <th></th>\n      <th>FID</th>\n      <th>ACTIVE_DAYS</th>\n      <th>FLOW</th>\n      <th>DISTANCE</th>\n      <th>SCORE</th>\n    </tr>\n  </thead>\n  <tbody>\n    <tr>\n      <th>10</th>\n      <td>1758</td>\n      <td>0</td>\n      <td>-9</td>\n      <td>180.466975</td>\n      <td>-0.649823</td>\n    </tr>\n    <tr>\n      <th>15</th>\n      <td>11440</td>\n      <td>2</td>\n      <td>3</td>\n      <td>173.929824</td>\n      <td>-0.488180</td>\n    </tr>\n    <tr>\n      <th>19</th>\n      <td>6490</td>\n      <td>5</td>\n      <td>565</td>\n      <td>9.412627</td>\n      <td>-0.467737</td>\n    </tr>\n    <tr>\n      <th>16</th>\n      <td>9678</td>\n      <td>0</td>\n      <td>-18</td>\n      <td>212.511926</td>\n      <td>-0.388687</td>\n    </tr>\n    <tr>\n      <th>12</th>\n      <td>9679</td>\n      <td>0</td>\n      <td>-17</td>\n      <td>214.396922</td>\n      <td>-0.370153</td>\n    </tr>\n    <tr>\n      <th>23</th>\n      <td>1759</td>\n      <td>3</td>\n      <td>3</td>\n      <td>179.992604</td>\n      <td>-0.338330</td>\n    </tr>\n    <tr>\n      <th>1</th>\n      <td>1752</td>\n      <td>0</td>\n      <td>-6</td>\n      <td>216.450368</td>\n      <td>-0.329395</td>\n    </tr>\n    <tr>\n      <th>6</th>\n      <td>9732</td>\n      <td>0</td>\n      <td>0</td>\n      <td>219.936623</td>\n      <td>-0.286503</td>\n    </tr>\n    <tr>\n      <th>20</th>\n      <td>9750</td>\n      <td>3</td>\n      <td>4</td>\n      <td>188.271769</td>\n      <td>-0.263962</td>\n    </tr>\n    <tr>\n      <th>5</th>\n      <td>9675</td>\n      <td>1</td>\n      <td>-1</td>\n      <td>213.607034</td>\n      <td>-0.246936</td>\n    </tr>\n    <tr>\n      <th>2</th>\n      <td>9680</td>\n      <td>0</td>\n      <td>-15</td>\n      <td>231.033915</td>\n      <td>-0.220730</td>\n    </tr>\n    <tr>\n      <th>21</th>\n      <td>1754</td>\n      <td>2</td>\n      <td>0</td>\n      <td>211.991317</td>\n      <td>-0.162058</td>\n    </tr>\n    <tr>\n      <th>13</th>\n      <td>1751</td>\n      <td>0</td>\n      <td>-3</td>\n      <td>235.938196</td>\n      <td>-0.153004</td>\n    </tr>\n    <tr>\n      <th>4</th>\n      <td>9733</td>\n      <td>0</td>\n      <td>-14</td>\n      <td>239.661801</td>\n      <td>-0.143317</td>\n    </tr>\n    <tr>\n      <th>9</th>\n      <td>9681</td>\n      <td>1</td>\n      <td>-3</td>\n      <td>233.683893</td>\n      <td>-0.075778</td>\n    </tr>\n    <tr>\n      <th>18</th>\n      <td>9731</td>\n      <td>1</td>\n      <td>-7</td>\n      <td>242.832735</td>\n      <td>-0.004192</td>\n    </tr>\n    <tr>\n      <th>3</th>\n      <td>9677</td>\n      <td>4</td>\n      <td>5</td>\n      <td>209.606338</td>\n      <td>0.021315</td>\n    </tr>\n    <tr>\n      <th>8</th>\n      <td>1753</td>\n      <td>4</td>\n      <td>5</td>\n      <td>217.007358</td>\n      <td>0.085940</td>\n    </tr>\n    <tr>\n      <th>11</th>\n      <td>1757</td>\n      <td>5</td>\n      <td>20</td>\n      <td>225.389161</td>\n      <td>0.287167</td>\n    </tr>\n    <tr>\n      <th>0</th>\n      <td>3755</td>\n      <td>2</td>\n      <td>1</td>\n      <td>295.809673</td>\n      <td>0.571908</td>\n    </tr>\n    <tr>\n      <th>17</th>\n      <td>6488</td>\n      <td>5</td>\n      <td>36</td>\n      <td>283.254140</td>\n      <td>0.825640</td>\n    </tr>\n    <tr>\n      <th>22</th>\n      <td>11441</td>\n      <td>5</td>\n      <td>451</td>\n      <td>185.360505</td>\n      <td>0.832046</td>\n    </tr>\n    <tr>\n      <th>7</th>\n      <td>6489</td>\n      <td>5</td>\n      <td>34</td>\n      <td>299.623395</td>\n      <td>0.964423</td>\n    </tr>\n    <tr>\n      <th>14</th>\n      <td>6491</td>\n      <td>5</td>\n      <td>65</td>\n      <td>296.370095</td>\n      <td>1.000347</td>\n    </tr>\n  </tbody>\n</table>\n</div>"
     },
     "metadata": {},
     "execution_count": 15
    }
   ],
   "source": [
    "sorted_df"
   ]
  },
  {
   "cell_type": "code",
   "execution_count": 19,
   "metadata": {},
   "outputs": [],
   "source": [
    "idx = sorted_df['FID'].iloc[0]\n",
    "fence_name = fences['FENCE_ID'][idx]\n",
    "dist = sorted_df['DISTANCE'].iloc[0]\n",
    "flow_there = sorted_df['FLOW'].iloc[0]"
   ]
  },
  {
   "cell_type": "code",
   "execution_count": 20,
   "metadata": {},
   "outputs": [
    {
     "output_type": "stream",
     "name": "stdout",
     "text": [
      "将用户引导至会展路(塔埔路至吕岭路段 )_L_2, 距离当前用户为180.466974998578米, 该点流量为-9\n"
     ]
    }
   ],
   "source": [
    "print(\"将用户引导至{}, 距离当前用户为{}米, 该点流量为{}\".format(fence_name, dist, flow_there))"
   ]
  },
  {
   "cell_type": "code",
   "execution_count": null,
   "metadata": {},
   "outputs": [],
   "source": []
  }
 ]
}