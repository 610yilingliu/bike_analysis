{
 "metadata": {
  "language_info": {
   "codemirror_mode": {
    "name": "ipython",
    "version": 3
   },
   "file_extension": ".py",
   "mimetype": "text/x-python",
   "name": "python",
   "nbconvert_exporter": "python",
   "pygments_lexer": "ipython3",
   "version": "3.8.5-final"
  },
  "orig_nbformat": 2,
  "kernelspec": {
   "name": "python3",
   "display_name": "Python 3.8.5 64-bit ('analyze': conda)",
   "metadata": {
    "interpreter": {
     "hash": "a333c0f8ebc677255208bd4e95a1a8fc090ff18064a07e3559187093626a8c24"
    }
   }
  }
 },
 "nbformat": 4,
 "nbformat_minor": 2,
 "cells": [
  {
   "cell_type": "code",
   "execution_count": 1,
   "metadata": {},
   "outputs": [],
   "source": [
    "import os\n",
    "import pandas as pd\n",
    "import numpy as np\n",
    "import matplotlib.pyplot as plt"
   ]
  },
  {
   "cell_type": "code",
   "execution_count": 3,
   "metadata": {},
   "outputs": [],
   "source": [
    "bikes = pd.read_csv('../cleaned_data/bike_detail.csv')\n",
    "fences = pd.read_csv('../cleaned_data/fence_position.csv')"
   ]
  },
  {
   "cell_type": "code",
   "execution_count": 4,
   "metadata": {},
   "outputs": [
    {
     "output_type": "execute_result",
     "data": {
      "text/plain": [
       "        Unnamed: 0                        BICYCLE_ID   LATITUDE   LONGITUDE  \\\n",
       "222865      222865  390b9e79c6ccb89d8d80010195c66c2f  24.489370  118.169477   \n",
       "86255        86255  0f06e6c458f3ab781f5990329455bdd6  24.454473  118.071165   \n",
       "106239      106239  6469121743db18e8c350a4f256ba2ee2  24.491727  118.121015   \n",
       "53787        53787  61f2eb9d90a6aa01ef8c6df84328065e  24.453361  118.078400   \n",
       "225164      225164  53c0e5f4e71f59980b8c96b8ed0f7995  24.497420  118.128614   \n",
       "\n",
       "        LOCK_STATUS         UPDATE_TIME     GRID     BID  NEAREST_FENCE  \\\n",
       "222865            1  2020/12/25 8:21:59  wsk5340  222865          12203   \n",
       "86255             1  2020/12/21 7:42:12  ws7gngb   86255          13792   \n",
       "106239            0  2020/12/22 8:13:23  ws7grft  106239           8894   \n",
       "53787             0  2020/12/21 7:36:24  ws7gngw   53787          12918   \n",
       "225164            0  2020/12/25 7:32:32  wsk525d  225164           7663   \n",
       "\n",
       "         DISTANCE  \n",
       "222865   0.000000  \n",
       "86255    5.114458  \n",
       "106239  37.175576  \n",
       "53787   28.390089  \n",
       "225164  44.563636  "
      ],
      "text/html": "<div>\n<style scoped>\n    .dataframe tbody tr th:only-of-type {\n        vertical-align: middle;\n    }\n\n    .dataframe tbody tr th {\n        vertical-align: top;\n    }\n\n    .dataframe thead th {\n        text-align: right;\n    }\n</style>\n<table border=\"1\" class=\"dataframe\">\n  <thead>\n    <tr style=\"text-align: right;\">\n      <th></th>\n      <th>Unnamed: 0</th>\n      <th>BICYCLE_ID</th>\n      <th>LATITUDE</th>\n      <th>LONGITUDE</th>\n      <th>LOCK_STATUS</th>\n      <th>UPDATE_TIME</th>\n      <th>GRID</th>\n      <th>BID</th>\n      <th>NEAREST_FENCE</th>\n      <th>DISTANCE</th>\n    </tr>\n  </thead>\n  <tbody>\n    <tr>\n      <th>222865</th>\n      <td>222865</td>\n      <td>390b9e79c6ccb89d8d80010195c66c2f</td>\n      <td>24.489370</td>\n      <td>118.169477</td>\n      <td>1</td>\n      <td>2020/12/25 8:21:59</td>\n      <td>wsk5340</td>\n      <td>222865</td>\n      <td>12203</td>\n      <td>0.000000</td>\n    </tr>\n    <tr>\n      <th>86255</th>\n      <td>86255</td>\n      <td>0f06e6c458f3ab781f5990329455bdd6</td>\n      <td>24.454473</td>\n      <td>118.071165</td>\n      <td>1</td>\n      <td>2020/12/21 7:42:12</td>\n      <td>ws7gngb</td>\n      <td>86255</td>\n      <td>13792</td>\n      <td>5.114458</td>\n    </tr>\n    <tr>\n      <th>106239</th>\n      <td>106239</td>\n      <td>6469121743db18e8c350a4f256ba2ee2</td>\n      <td>24.491727</td>\n      <td>118.121015</td>\n      <td>0</td>\n      <td>2020/12/22 8:13:23</td>\n      <td>ws7grft</td>\n      <td>106239</td>\n      <td>8894</td>\n      <td>37.175576</td>\n    </tr>\n    <tr>\n      <th>53787</th>\n      <td>53787</td>\n      <td>61f2eb9d90a6aa01ef8c6df84328065e</td>\n      <td>24.453361</td>\n      <td>118.078400</td>\n      <td>0</td>\n      <td>2020/12/21 7:36:24</td>\n      <td>ws7gngw</td>\n      <td>53787</td>\n      <td>12918</td>\n      <td>28.390089</td>\n    </tr>\n    <tr>\n      <th>225164</th>\n      <td>225164</td>\n      <td>53c0e5f4e71f59980b8c96b8ed0f7995</td>\n      <td>24.497420</td>\n      <td>118.128614</td>\n      <td>0</td>\n      <td>2020/12/25 7:32:32</td>\n      <td>wsk525d</td>\n      <td>225164</td>\n      <td>7663</td>\n      <td>44.563636</td>\n    </tr>\n  </tbody>\n</table>\n</div>"
     },
     "metadata": {},
     "execution_count": 4
    }
   ],
   "source": [
    "bikes.sample(5)"
   ]
  },
  {
   "cell_type": "code",
   "execution_count": 5,
   "metadata": {},
   "outputs": [
    {
     "output_type": "execute_result",
     "data": {
      "text/plain": [
       "                 FENCE_ID  LONGITUDE_0  LATITUDE_0  LONGITUDE_1  LATITUDE_1  \\\n",
       "1655            会展南三路_R_3   118.177242   24.464628   118.177203   24.464573   \n",
       "12992             长兴路_R_2   118.092934   24.523924   118.092937   24.523849   \n",
       "9999             石亭路0_R_4   118.086573   24.483933   118.086555   24.483928   \n",
       "6563             机场北路_R_6   118.116746   24.549035   118.116660   24.549034   \n",
       "4647   嘉禾路(莲前西路至吕岭路段)_R_5   118.116673   24.482657   118.116661   24.482606   \n",
       "\n",
       "       LONGITUDE_2  LATITUDE_2  LONGITUDE_3  LATITUDE_3  LONGITUDE_4  \\\n",
       "1655    118.177189   24.464582   118.177227   24.464636   118.177242   \n",
       "12992   118.092921   24.523848   118.092918   24.523924   118.092934   \n",
       "9999    118.086536   24.483977   118.086554   24.483982   118.086573   \n",
       "6563    118.116660   24.549049   118.116746   24.549050   118.116746   \n",
       "4647    118.116642   24.482609   118.116654   24.482661   118.116673   \n",
       "\n",
       "       LATITUDE_4   LATITUDE   LONGITUDE          ROAD      AREA    FID  \n",
       "1655    24.464628  24.464605  118.177215         会展南三路  6.578132   1655  \n",
       "12992   24.523924  24.523886  118.092927           长兴路  6.989963  12992  \n",
       "9999    24.483933  24.483955  118.086555           石亭路  5.717886   9999  \n",
       "6563    24.549035  24.549042  118.116703          机场北路  7.729719   6563  \n",
       "4647    24.482657  24.482633  118.116658  嘉禾路莲前西路至吕岭路段  6.029995   4647  "
      ],
      "text/html": "<div>\n<style scoped>\n    .dataframe tbody tr th:only-of-type {\n        vertical-align: middle;\n    }\n\n    .dataframe tbody tr th {\n        vertical-align: top;\n    }\n\n    .dataframe thead th {\n        text-align: right;\n    }\n</style>\n<table border=\"1\" class=\"dataframe\">\n  <thead>\n    <tr style=\"text-align: right;\">\n      <th></th>\n      <th>FENCE_ID</th>\n      <th>LONGITUDE_0</th>\n      <th>LATITUDE_0</th>\n      <th>LONGITUDE_1</th>\n      <th>LATITUDE_1</th>\n      <th>LONGITUDE_2</th>\n      <th>LATITUDE_2</th>\n      <th>LONGITUDE_3</th>\n      <th>LATITUDE_3</th>\n      <th>LONGITUDE_4</th>\n      <th>LATITUDE_4</th>\n      <th>LATITUDE</th>\n      <th>LONGITUDE</th>\n      <th>ROAD</th>\n      <th>AREA</th>\n      <th>FID</th>\n    </tr>\n  </thead>\n  <tbody>\n    <tr>\n      <th>1655</th>\n      <td>会展南三路_R_3</td>\n      <td>118.177242</td>\n      <td>24.464628</td>\n      <td>118.177203</td>\n      <td>24.464573</td>\n      <td>118.177189</td>\n      <td>24.464582</td>\n      <td>118.177227</td>\n      <td>24.464636</td>\n      <td>118.177242</td>\n      <td>24.464628</td>\n      <td>24.464605</td>\n      <td>118.177215</td>\n      <td>会展南三路</td>\n      <td>6.578132</td>\n      <td>1655</td>\n    </tr>\n    <tr>\n      <th>12992</th>\n      <td>长兴路_R_2</td>\n      <td>118.092934</td>\n      <td>24.523924</td>\n      <td>118.092937</td>\n      <td>24.523849</td>\n      <td>118.092921</td>\n      <td>24.523848</td>\n      <td>118.092918</td>\n      <td>24.523924</td>\n      <td>118.092934</td>\n      <td>24.523924</td>\n      <td>24.523886</td>\n      <td>118.092927</td>\n      <td>长兴路</td>\n      <td>6.989963</td>\n      <td>12992</td>\n    </tr>\n    <tr>\n      <th>9999</th>\n      <td>石亭路0_R_4</td>\n      <td>118.086573</td>\n      <td>24.483933</td>\n      <td>118.086555</td>\n      <td>24.483928</td>\n      <td>118.086536</td>\n      <td>24.483977</td>\n      <td>118.086554</td>\n      <td>24.483982</td>\n      <td>118.086573</td>\n      <td>24.483933</td>\n      <td>24.483955</td>\n      <td>118.086555</td>\n      <td>石亭路</td>\n      <td>5.717886</td>\n      <td>9999</td>\n    </tr>\n    <tr>\n      <th>6563</th>\n      <td>机场北路_R_6</td>\n      <td>118.116746</td>\n      <td>24.549035</td>\n      <td>118.116660</td>\n      <td>24.549034</td>\n      <td>118.116660</td>\n      <td>24.549049</td>\n      <td>118.116746</td>\n      <td>24.549050</td>\n      <td>118.116746</td>\n      <td>24.549035</td>\n      <td>24.549042</td>\n      <td>118.116703</td>\n      <td>机场北路</td>\n      <td>7.729719</td>\n      <td>6563</td>\n    </tr>\n    <tr>\n      <th>4647</th>\n      <td>嘉禾路(莲前西路至吕岭路段)_R_5</td>\n      <td>118.116673</td>\n      <td>24.482657</td>\n      <td>118.116661</td>\n      <td>24.482606</td>\n      <td>118.116642</td>\n      <td>24.482609</td>\n      <td>118.116654</td>\n      <td>24.482661</td>\n      <td>118.116673</td>\n      <td>24.482657</td>\n      <td>24.482633</td>\n      <td>118.116658</td>\n      <td>嘉禾路莲前西路至吕岭路段</td>\n      <td>6.029995</td>\n      <td>4647</td>\n    </tr>\n  </tbody>\n</table>\n</div>"
     },
     "metadata": {},
     "execution_count": 5
    }
   ],
   "source": [
    "fences.sample(5)"
   ]
  },
  {
   "cell_type": "code",
   "execution_count": null,
   "metadata": {},
   "outputs": [],
   "source": [
    "if 'Unnamed: 0' in bikes.columns:\n",
    "    bikes.drop('Unnamed: 0', axis = 1, inplace = True)"
   ]
  },
  {
   "cell_type": "code",
   "execution_count": 6,
   "metadata": {},
   "outputs": [],
   "source": [
    "def extract_hms(update_time):\n",
    "    update_time = update_time.split(' ')\n",
    "    return update_time[-1]"
   ]
  },
  {
   "cell_type": "code",
   "execution_count": 7,
   "metadata": {},
   "outputs": [
    {
     "output_type": "stream",
     "name": "stdout",
     "text": [
      "一天中最早获得的自行车数据在6:00:00\n一天中最晚获得的自行车数据在9:59:59\n"
     ]
    }
   ],
   "source": [
    "max_time = max([extract_hms(time) for time in bikes['UPDATE_TIME']])\n",
    "min_time = min([extract_hms(time) for time in bikes['UPDATE_TIME']])\n",
    "print(\"一天中最早获得的自行车数据在\" + min_time)\n",
    "print(\"一天中最晚获得的自行车数据在\" + max_time)"
   ]
  },
  {
   "cell_type": "code",
   "execution_count": null,
   "metadata": {},
   "outputs": [],
   "source": []
  }
 ]
}