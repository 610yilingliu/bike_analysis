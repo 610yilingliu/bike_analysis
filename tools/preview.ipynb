{
 "metadata": {
  "language_info": {
   "codemirror_mode": {
    "name": "ipython",
    "version": 3
   },
   "file_extension": ".py",
   "mimetype": "text/x-python",
   "name": "python",
   "nbconvert_exporter": "python",
   "pygments_lexer": "ipython3",
   "version": "3.8.8"
  },
  "orig_nbformat": 2,
  "kernelspec": {
   "name": "python388jvsc74a57bd03f995880c754bdaedb88803473eeb53b37ff86989258e46b15709c0dad5ca37b",
   "display_name": "Python 3.8.8 64-bit ('analyze': conda)"
  }
 },
 "nbformat": 4,
 "nbformat_minor": 2,
 "cells": [
  {
   "cell_type": "code",
   "execution_count": 1,
   "metadata": {},
   "outputs": [],
   "source": [
    "import pandas as pd\n",
    "import matplotlib.pyplot as plt"
   ]
  },
  {
   "source": [
    "设置pandas显示选项, 使其显示所有的行,列及单个单元格中内容\n",
    "\n",
    "**思考:如果不加这几行会发生什么?**"
   ],
   "cell_type": "markdown",
   "metadata": {}
  },
  {
   "cell_type": "code",
   "execution_count": 2,
   "metadata": {},
   "outputs": [],
   "source": [
    "pd.set_option('display.max_columns', None)\n",
    "pd.set_option('display.max_rows', None)\n",
    "pd.set_option('max_colwidth', 1000)"
   ]
  },
  {
   "source": [
    "载入共享单车停车点和订单数据"
   ],
   "cell_type": "markdown",
   "metadata": {}
  },
  {
   "cell_type": "code",
   "execution_count": 3,
   "metadata": {},
   "outputs": [],
   "source": [
    "tcd = pd.read_csv('./data/gxdc_tcd.csv')\n",
    "dd = pd.read_csv('./data/gxdc_dd.csv')"
   ]
  },
  {
   "source": [
    "## 预览共享单车停车点数据"
   ],
   "cell_type": "markdown",
   "metadata": {}
  },
  {
   "cell_type": "code",
   "execution_count": 4,
   "metadata": {},
   "outputs": [
    {
     "output_type": "execute_result",
     "data": {
      "text/plain": [
       "        FENCE_ID  \\\n",
       "0  长乐路0_L_A17001   \n",
       "1  长乐路0_L_A17002   \n",
       "2  长乐路0_L_A17003   \n",
       "3  长乐路0_L_A17004   \n",
       "4  长乐路0_L_A17005   \n",
       "\n",
       "                                                                                                            FENCE_LOC  \n",
       "0  [118.103198,24.527338],[118.103224,24.527373],[118.103236,24.527366],[118.103209,24.527331],[118.103198,24.527338]  \n",
       "1  [118.103171,24.527303],[118.103198,24.527338],[118.103209,24.527331],[118.103182,24.527296],[118.103171,24.527303]  \n",
       "2   [118.103231,24.527386],[118.103257,24.527421],[118.10327,24.527413],[118.103244,24.527378],[118.103231,24.527386]  \n",
       "3   [118.103257,24.527421],[118.103282,24.527455],[118.103295,24.527447],[118.10327,24.527413],[118.103257,24.527421]  \n",
       "4  [118.102948,24.527003],[118.102979,24.527046],[118.102992,24.527038],[118.102961,24.526995],[118.102948,24.527003]  "
      ],
      "text/html": "<div>\n<style scoped>\n    .dataframe tbody tr th:only-of-type {\n        vertical-align: middle;\n    }\n\n    .dataframe tbody tr th {\n        vertical-align: top;\n    }\n\n    .dataframe thead th {\n        text-align: right;\n    }\n</style>\n<table border=\"1\" class=\"dataframe\">\n  <thead>\n    <tr style=\"text-align: right;\">\n      <th></th>\n      <th>FENCE_ID</th>\n      <th>FENCE_LOC</th>\n    </tr>\n  </thead>\n  <tbody>\n    <tr>\n      <th>0</th>\n      <td>长乐路0_L_A17001</td>\n      <td>[118.103198,24.527338],[118.103224,24.527373],[118.103236,24.527366],[118.103209,24.527331],[118.103198,24.527338]</td>\n    </tr>\n    <tr>\n      <th>1</th>\n      <td>长乐路0_L_A17002</td>\n      <td>[118.103171,24.527303],[118.103198,24.527338],[118.103209,24.527331],[118.103182,24.527296],[118.103171,24.527303]</td>\n    </tr>\n    <tr>\n      <th>2</th>\n      <td>长乐路0_L_A17003</td>\n      <td>[118.103231,24.527386],[118.103257,24.527421],[118.10327,24.527413],[118.103244,24.527378],[118.103231,24.527386]</td>\n    </tr>\n    <tr>\n      <th>3</th>\n      <td>长乐路0_L_A17004</td>\n      <td>[118.103257,24.527421],[118.103282,24.527455],[118.103295,24.527447],[118.10327,24.527413],[118.103257,24.527421]</td>\n    </tr>\n    <tr>\n      <th>4</th>\n      <td>长乐路0_L_A17005</td>\n      <td>[118.102948,24.527003],[118.102979,24.527046],[118.102992,24.527038],[118.102961,24.526995],[118.102948,24.527003]</td>\n    </tr>\n  </tbody>\n</table>\n</div>"
     },
     "metadata": {},
     "execution_count": 4
    }
   ],
   "source": [
    "tcd.head()"
   ]
  },
  {
   "source": [
    "可以看出停车点数据集中的FENCE_LOC像是几个列表,但是在python数据结构中真的如此吗?"
   ],
   "cell_type": "markdown",
   "metadata": {}
  },
  {
   "cell_type": "code",
   "execution_count": 5,
   "metadata": {},
   "outputs": [
    {
     "output_type": "stream",
     "name": "stdout",
     "text": [
      "<class 'str'>\n长乐路0_L_A17001\n\n\n<class 'str'>\n[118.103198,24.527338],[118.103224,24.527373],[118.103236,24.527366],[118.103209,24.527331],[118.103198,24.527338]\n\n\n"
     ]
    }
   ],
   "source": [
    "for col in tcd.iloc[0, :]:\n",
    "    print(type(col))\n",
    "    print(col)\n",
    "    print('\\n')"
   ]
  },
  {
   "cell_type": "code",
   "execution_count": 6,
   "metadata": {},
   "outputs": [
    {
     "output_type": "execute_result",
     "data": {
      "text/plain": [
       "'['"
      ]
     },
     "metadata": {},
     "execution_count": 6
    }
   ],
   "source": [
    "tcd.iloc[0,1][0]"
   ]
  },
  {
   "source": [
    "可以看出停车点的第二列以字符串形式存储,我们是无法直接使用类似`tcd.iloc[0,1][0]`, `tcd.iloc[0,1][1]`的代码提取`[118.103198,24.527338]`,`[118.103224,24.527373]`这样的坐标的. 使用`tcd.iloc[0,1][0]`只会输出`[`也就是字符串`[118.103198,24.527338],[118.103224,24.527373],[118.103236,24.527366],[118.103209,24.527331],[118.103198,24.527338]`的第一个字符\n",
    "\n",
    "所以我们需要对FENCE_LOC进行特殊处理,使其在被pandas读入之后以列表或元组形式存储,这样我们才能正确地使用上述代码取到围栏四角坐标"
   ],
   "cell_type": "markdown",
   "metadata": {}
  },
  {
   "cell_type": "code",
   "execution_count": 7,
   "metadata": {},
   "outputs": [],
   "source": [
    "# 如果之前已经知道停车围栏坐标是由几个列表组成的,那么将读取代码改成这样\n",
    "# tcd = pd.read_csv('./data/gxdc_tcd.csv', converters={'FENCE_LOC': eval})\n",
    "# 这样能在读入的时候把FENCE_LOC列数据变为元组\n",
    "# 如果已经读进来了,就对现有的,被读成字符串的列表做eval, 使其转换为元组\n",
    "tcd['FENCE_LOC'] = tcd['FENCE_LOC'].apply(lambda x: eval(x))\n",
    "# 上面注释掉的代码和没注释掉的代码效果一样, 只不过如果已经读入了,注释掉的代码会再读一遍"
   ]
  },
  {
   "cell_type": "code",
   "execution_count": 8,
   "metadata": {},
   "outputs": [
    {
     "output_type": "execute_result",
     "data": {
      "text/plain": [
       "        FENCE_ID  \\\n",
       "0  长乐路0_L_A17001   \n",
       "1  长乐路0_L_A17002   \n",
       "2  长乐路0_L_A17003   \n",
       "3  长乐路0_L_A17004   \n",
       "4  长乐路0_L_A17005   \n",
       "\n",
       "                                                                                                                       FENCE_LOC  \n",
       "0  ([118.103198, 24.527338], [118.103224, 24.527373], [118.103236, 24.527366], [118.103209, 24.527331], [118.103198, 24.527338])  \n",
       "1  ([118.103171, 24.527303], [118.103198, 24.527338], [118.103209, 24.527331], [118.103182, 24.527296], [118.103171, 24.527303])  \n",
       "2   ([118.103231, 24.527386], [118.103257, 24.527421], [118.10327, 24.527413], [118.103244, 24.527378], [118.103231, 24.527386])  \n",
       "3   ([118.103257, 24.527421], [118.103282, 24.527455], [118.103295, 24.527447], [118.10327, 24.527413], [118.103257, 24.527421])  \n",
       "4  ([118.102948, 24.527003], [118.102979, 24.527046], [118.102992, 24.527038], [118.102961, 24.526995], [118.102948, 24.527003])  "
      ],
      "text/html": "<div>\n<style scoped>\n    .dataframe tbody tr th:only-of-type {\n        vertical-align: middle;\n    }\n\n    .dataframe tbody tr th {\n        vertical-align: top;\n    }\n\n    .dataframe thead th {\n        text-align: right;\n    }\n</style>\n<table border=\"1\" class=\"dataframe\">\n  <thead>\n    <tr style=\"text-align: right;\">\n      <th></th>\n      <th>FENCE_ID</th>\n      <th>FENCE_LOC</th>\n    </tr>\n  </thead>\n  <tbody>\n    <tr>\n      <th>0</th>\n      <td>长乐路0_L_A17001</td>\n      <td>([118.103198, 24.527338], [118.103224, 24.527373], [118.103236, 24.527366], [118.103209, 24.527331], [118.103198, 24.527338])</td>\n    </tr>\n    <tr>\n      <th>1</th>\n      <td>长乐路0_L_A17002</td>\n      <td>([118.103171, 24.527303], [118.103198, 24.527338], [118.103209, 24.527331], [118.103182, 24.527296], [118.103171, 24.527303])</td>\n    </tr>\n    <tr>\n      <th>2</th>\n      <td>长乐路0_L_A17003</td>\n      <td>([118.103231, 24.527386], [118.103257, 24.527421], [118.10327, 24.527413], [118.103244, 24.527378], [118.103231, 24.527386])</td>\n    </tr>\n    <tr>\n      <th>3</th>\n      <td>长乐路0_L_A17004</td>\n      <td>([118.103257, 24.527421], [118.103282, 24.527455], [118.103295, 24.527447], [118.10327, 24.527413], [118.103257, 24.527421])</td>\n    </tr>\n    <tr>\n      <th>4</th>\n      <td>长乐路0_L_A17005</td>\n      <td>([118.102948, 24.527003], [118.102979, 24.527046], [118.102992, 24.527038], [118.102961, 24.526995], [118.102948, 24.527003])</td>\n    </tr>\n  </tbody>\n</table>\n</div>"
     },
     "metadata": {},
     "execution_count": 8
    }
   ],
   "source": [
    "tcd.head()"
   ]
  },
  {
   "cell_type": "code",
   "execution_count": 9,
   "metadata": {},
   "outputs": [
    {
     "output_type": "stream",
     "name": "stdout",
     "text": [
      "<class 'str'>\n长乐路0_L_A17001\n\n\n<class 'tuple'>\n([118.103198, 24.527338], [118.103224, 24.527373], [118.103236, 24.527366], [118.103209, 24.527331], [118.103198, 24.527338])\n\n\n"
     ]
    }
   ],
   "source": [
    "for col in tcd.iloc[0, :]:\n",
    "    print(type(col))\n",
    "    print(col)\n",
    "    print('\\n')"
   ]
  },
  {
   "source": [
    "现在就可以使用定位方式取到围栏四角坐标了"
   ],
   "cell_type": "markdown",
   "metadata": {}
  },
  {
   "cell_type": "code",
   "execution_count": 10,
   "metadata": {},
   "outputs": [
    {
     "output_type": "execute_result",
     "data": {
      "text/plain": [
       "[118.103198, 24.527338]"
      ]
     },
     "metadata": {},
     "execution_count": 10
    }
   ],
   "source": [
    "tcd.iloc[0,1][0]"
   ]
  },
  {
   "cell_type": "code",
   "execution_count": 11,
   "metadata": {},
   "outputs": [
    {
     "output_type": "stream",
     "name": "stdout",
     "text": [
      "<class 'pandas.core.frame.DataFrame'>\nRangeIndex: 14071 entries, 0 to 14070\nData columns (total 2 columns):\n #   Column     Non-Null Count  Dtype \n---  ------     --------------  ----- \n 0   FENCE_ID   14071 non-null  object\n 1   FENCE_LOC  14071 non-null  object\ndtypes: object(2)\nmemory usage: 220.0+ KB\n"
     ]
    }
   ],
   "source": [
    "tcd.info()"
   ]
  },
  {
   "source": [
    "从info中我们可以看出, 数据集有14071行,而FENCE_ID和FENCE_LOC中的非空数据量均为14071, 所以我们不需要对空值进行处理"
   ],
   "cell_type": "markdown",
   "metadata": {}
  },
  {
   "cell_type": "code",
   "execution_count": 12,
   "metadata": {},
   "outputs": [
    {
     "output_type": "execute_result",
     "data": {
      "text/plain": [
       "         FENCE_ID  \\\n",
       "count       14071   \n",
       "unique      14071   \n",
       "top     厦禾路0_R_60   \n",
       "freq            1   \n",
       "\n",
       "                                                                                                                                                          FENCE_LOC  \n",
       "count                                                                                                                                                         14071  \n",
       "unique                                                                                                                                                        14071  \n",
       "top     ([118.0717758256, 24.4641683573], [118.0717886, 24.46423061], [118.0718009744, 24.4642284827], [118.0717882, 24.46416623], [118.0717758256, 24.4641683573])  \n",
       "freq                                                                                                                                                              1  "
      ],
      "text/html": "<div>\n<style scoped>\n    .dataframe tbody tr th:only-of-type {\n        vertical-align: middle;\n    }\n\n    .dataframe tbody tr th {\n        vertical-align: top;\n    }\n\n    .dataframe thead th {\n        text-align: right;\n    }\n</style>\n<table border=\"1\" class=\"dataframe\">\n  <thead>\n    <tr style=\"text-align: right;\">\n      <th></th>\n      <th>FENCE_ID</th>\n      <th>FENCE_LOC</th>\n    </tr>\n  </thead>\n  <tbody>\n    <tr>\n      <th>count</th>\n      <td>14071</td>\n      <td>14071</td>\n    </tr>\n    <tr>\n      <th>unique</th>\n      <td>14071</td>\n      <td>14071</td>\n    </tr>\n    <tr>\n      <th>top</th>\n      <td>厦禾路0_R_60</td>\n      <td>([118.0717758256, 24.4641683573], [118.0717886, 24.46423061], [118.0718009744, 24.4642284827], [118.0717882, 24.46416623], [118.0717758256, 24.4641683573])</td>\n    </tr>\n    <tr>\n      <th>freq</th>\n      <td>1</td>\n      <td>1</td>\n    </tr>\n  </tbody>\n</table>\n</div>"
     },
     "metadata": {},
     "execution_count": 12
    }
   ],
   "source": [
    "tcd.describe()"
   ]
  },
  {
   "source": [
    "从describe中可以看出, 这14071个FENCE_ID和14071个FENCE_LOC都是没有重复的, 我们也无需进行去重操作"
   ],
   "cell_type": "markdown",
   "metadata": {}
  },
  {
   "source": [
    "## 预览共享单车订单数据"
   ],
   "cell_type": "markdown",
   "metadata": {}
  },
  {
   "source": [
    "dd.head()"
   ],
   "cell_type": "code",
   "metadata": {},
   "execution_count": 13,
   "outputs": [
    {
     "output_type": "execute_result",
     "data": {
      "text/plain": [
       "                         BICYCLE_ID   LATITUDE   LONGITUDE  LOCK_STATUS  \\\n",
       "0  f8f99ef8d9bd3942580c2f8f5d1232ba  24.495537  118.126619            0   \n",
       "1  8d1abc077be52af3eecf8340f4ea6981  24.443596  118.083372            0   \n",
       "2  1122da7c68701a8d60df2eb7a89b6452  24.485108  118.092266            1   \n",
       "3  324943a3613a133055f4f2e4162cef5f  24.501391  118.083000            1   \n",
       "4  f6720d758b03dcec0765e49b4ce46111  24.483700  118.117027            1   \n",
       "\n",
       "          UPDATE_TIME  \n",
       "0  2020/12/22 6:25:56  \n",
       "1  2020/12/22 6:25:57  \n",
       "2  2020/12/22 6:25:58  \n",
       "3  2020/12/22 6:25:59  \n",
       "4  2020/12/22 6:25:59  "
      ],
      "text/html": "<div>\n<style scoped>\n    .dataframe tbody tr th:only-of-type {\n        vertical-align: middle;\n    }\n\n    .dataframe tbody tr th {\n        vertical-align: top;\n    }\n\n    .dataframe thead th {\n        text-align: right;\n    }\n</style>\n<table border=\"1\" class=\"dataframe\">\n  <thead>\n    <tr style=\"text-align: right;\">\n      <th></th>\n      <th>BICYCLE_ID</th>\n      <th>LATITUDE</th>\n      <th>LONGITUDE</th>\n      <th>LOCK_STATUS</th>\n      <th>UPDATE_TIME</th>\n    </tr>\n  </thead>\n  <tbody>\n    <tr>\n      <th>0</th>\n      <td>f8f99ef8d9bd3942580c2f8f5d1232ba</td>\n      <td>24.495537</td>\n      <td>118.126619</td>\n      <td>0</td>\n      <td>2020/12/22 6:25:56</td>\n    </tr>\n    <tr>\n      <th>1</th>\n      <td>8d1abc077be52af3eecf8340f4ea6981</td>\n      <td>24.443596</td>\n      <td>118.083372</td>\n      <td>0</td>\n      <td>2020/12/22 6:25:57</td>\n    </tr>\n    <tr>\n      <th>2</th>\n      <td>1122da7c68701a8d60df2eb7a89b6452</td>\n      <td>24.485108</td>\n      <td>118.092266</td>\n      <td>1</td>\n      <td>2020/12/22 6:25:58</td>\n    </tr>\n    <tr>\n      <th>3</th>\n      <td>324943a3613a133055f4f2e4162cef5f</td>\n      <td>24.501391</td>\n      <td>118.083000</td>\n      <td>1</td>\n      <td>2020/12/22 6:25:59</td>\n    </tr>\n    <tr>\n      <th>4</th>\n      <td>f6720d758b03dcec0765e49b4ce46111</td>\n      <td>24.483700</td>\n      <td>118.117027</td>\n      <td>1</td>\n      <td>2020/12/22 6:25:59</td>\n    </tr>\n  </tbody>\n</table>\n</div>"
     },
     "metadata": {},
     "execution_count": 13
    }
   ]
  },
  {
   "source": [
    "最后一列是时间,和上面的停车点坐标一样,如果不加以特殊处理会以字符串形式存储,所以我们需要将其重新存储为时间格式"
   ],
   "cell_type": "markdown",
   "metadata": {}
  },
  {
   "cell_type": "code",
   "execution_count": 14,
   "metadata": {},
   "outputs": [],
   "source": [
    "dd['UPDATE_TIME'] = pd.to_datetime(dd['UPDATE_TIME'], format='%Y/%m/%d %H:%M:%S')"
   ]
  },
  {
   "cell_type": "code",
   "execution_count": 15,
   "metadata": {},
   "outputs": [
    {
     "output_type": "stream",
     "name": "stdout",
     "text": [
      "<class 'pandas.core.frame.DataFrame'>\nRangeIndex: 585292 entries, 0 to 585291\nData columns (total 5 columns):\n #   Column       Non-Null Count   Dtype         \n---  ------       --------------   -----         \n 0   BICYCLE_ID   585292 non-null  object        \n 1   LATITUDE     585292 non-null  float64       \n 2   LONGITUDE    585292 non-null  float64       \n 3   LOCK_STATUS  585292 non-null  int64         \n 4   UPDATE_TIME  585292 non-null  datetime64[ns]\ndtypes: datetime64[ns](1), float64(2), int64(1), object(1)\nmemory usage: 22.3+ MB\n"
     ]
    }
   ],
   "source": [
    "dd.info()"
   ]
  },
  {
   "source": [
    "从info中可以看出,订单数据中同样没有空值"
   ],
   "cell_type": "markdown",
   "metadata": {}
  },
  {
   "cell_type": "code",
   "execution_count": 16,
   "metadata": {},
   "outputs": [
    {
     "output_type": "stream",
     "name": "stderr",
     "text": [
      "<ipython-input-16-644fca726a72>:2: FutureWarning: Treating datetime data as categorical rather than numeric in `.describe` is deprecated and will be removed in a future version of pandas. Specify `datetime_is_numeric=True` to silence this warning and adopt the future behavior now.\n  dd.describe(include = 'all')\n"
     ]
    },
    {
     "output_type": "execute_result",
     "data": {
      "text/plain": [
       "                              BICYCLE_ID       LATITUDE      LONGITUDE  \\\n",
       "count                             585292  585292.000000  585292.000000   \n",
       "unique                             53630            NaN            NaN   \n",
       "top     1677a23507c85c2e90f7d6f7fb30d07e            NaN            NaN   \n",
       "freq                                 687            NaN            NaN   \n",
       "first                                NaN            NaN            NaN   \n",
       "last                                 NaN            NaN            NaN   \n",
       "mean                                 NaN      24.493837     118.126170   \n",
       "std                                  NaN       0.023531       0.031745   \n",
       "min                                  NaN      24.425358     118.058908   \n",
       "25%                                  NaN      24.476612     118.100946   \n",
       "50%                                  NaN      24.490166     118.122539   \n",
       "75%                                  NaN      24.511676     118.151563   \n",
       "max                                  NaN      24.559082     118.195922   \n",
       "\n",
       "          LOCK_STATUS          UPDATE_TIME  \n",
       "count   585292.000000               585292  \n",
       "unique            NaN                67030  \n",
       "top               NaN  2020-12-25 08:18:42  \n",
       "freq              NaN                   55  \n",
       "first             NaN  2020-12-21 06:00:01  \n",
       "last              NaN  2020-12-25 09:59:59  \n",
       "mean         0.384367                  NaN  \n",
       "std          0.486446                  NaN  \n",
       "min          0.000000                  NaN  \n",
       "25%          0.000000                  NaN  \n",
       "50%          0.000000                  NaN  \n",
       "75%          1.000000                  NaN  \n",
       "max          1.000000                  NaN  "
      ],
      "text/html": "<div>\n<style scoped>\n    .dataframe tbody tr th:only-of-type {\n        vertical-align: middle;\n    }\n\n    .dataframe tbody tr th {\n        vertical-align: top;\n    }\n\n    .dataframe thead th {\n        text-align: right;\n    }\n</style>\n<table border=\"1\" class=\"dataframe\">\n  <thead>\n    <tr style=\"text-align: right;\">\n      <th></th>\n      <th>BICYCLE_ID</th>\n      <th>LATITUDE</th>\n      <th>LONGITUDE</th>\n      <th>LOCK_STATUS</th>\n      <th>UPDATE_TIME</th>\n    </tr>\n  </thead>\n  <tbody>\n    <tr>\n      <th>count</th>\n      <td>585292</td>\n      <td>585292.000000</td>\n      <td>585292.000000</td>\n      <td>585292.000000</td>\n      <td>585292</td>\n    </tr>\n    <tr>\n      <th>unique</th>\n      <td>53630</td>\n      <td>NaN</td>\n      <td>NaN</td>\n      <td>NaN</td>\n      <td>67030</td>\n    </tr>\n    <tr>\n      <th>top</th>\n      <td>1677a23507c85c2e90f7d6f7fb30d07e</td>\n      <td>NaN</td>\n      <td>NaN</td>\n      <td>NaN</td>\n      <td>2020-12-25 08:18:42</td>\n    </tr>\n    <tr>\n      <th>freq</th>\n      <td>687</td>\n      <td>NaN</td>\n      <td>NaN</td>\n      <td>NaN</td>\n      <td>55</td>\n    </tr>\n    <tr>\n      <th>first</th>\n      <td>NaN</td>\n      <td>NaN</td>\n      <td>NaN</td>\n      <td>NaN</td>\n      <td>2020-12-21 06:00:01</td>\n    </tr>\n    <tr>\n      <th>last</th>\n      <td>NaN</td>\n      <td>NaN</td>\n      <td>NaN</td>\n      <td>NaN</td>\n      <td>2020-12-25 09:59:59</td>\n    </tr>\n    <tr>\n      <th>mean</th>\n      <td>NaN</td>\n      <td>24.493837</td>\n      <td>118.126170</td>\n      <td>0.384367</td>\n      <td>NaN</td>\n    </tr>\n    <tr>\n      <th>std</th>\n      <td>NaN</td>\n      <td>0.023531</td>\n      <td>0.031745</td>\n      <td>0.486446</td>\n      <td>NaN</td>\n    </tr>\n    <tr>\n      <th>min</th>\n      <td>NaN</td>\n      <td>24.425358</td>\n      <td>118.058908</td>\n      <td>0.000000</td>\n      <td>NaN</td>\n    </tr>\n    <tr>\n      <th>25%</th>\n      <td>NaN</td>\n      <td>24.476612</td>\n      <td>118.100946</td>\n      <td>0.000000</td>\n      <td>NaN</td>\n    </tr>\n    <tr>\n      <th>50%</th>\n      <td>NaN</td>\n      <td>24.490166</td>\n      <td>118.122539</td>\n      <td>0.000000</td>\n      <td>NaN</td>\n    </tr>\n    <tr>\n      <th>75%</th>\n      <td>NaN</td>\n      <td>24.511676</td>\n      <td>118.151563</td>\n      <td>1.000000</td>\n      <td>NaN</td>\n    </tr>\n    <tr>\n      <th>max</th>\n      <td>NaN</td>\n      <td>24.559082</td>\n      <td>118.195922</td>\n      <td>1.000000</td>\n      <td>NaN</td>\n    </tr>\n  </tbody>\n</table>\n</div>"
     },
     "metadata": {},
     "execution_count": 16
    }
   ],
   "source": [
    "# 如果不加include = 'all', 在有非object类型列的前提下,describe不会输出object类型列的描述\n",
    "dd.describe(include = 'all')"
   ]
  },
  {
   "source": [
    "对于非object数据, top, unique和freq会显示为NAN\n",
    "\n",
    "而对于object数据,标准差,平均值,分位数等统计信息会显示为NAN\n",
    "\n",
    "从describe中可以看出, 这58.52万个订单数据是由53630辆共享单车产生的, ID为1677a23507c85c2e90f7d6f7fb30d07e产生了最多的,687个订单\n",
    "\n",
    "比赛要求的时间段为7:00-9:00, 从UPDATE_TIME的描述中可以看出最早的数据在早上六点,最晚在9:59:59, 和官网描述一致.我们应去除早于7点的,和9点后的数据\n",
    "\n",
    "从官网数据介绍中我们可以知道LOCK_STATUS是锁的状态, 0为开锁, 1为关锁.按理来说一个开锁应该配一个关锁的,即使数据被截断,开关锁的数据量差距也不会很大,mean应该接近0.5,这里mean为什么是0.384367?\n",
    "\n",
    "我们需要对开关锁状态进行进一步探索"
   ],
   "cell_type": "markdown",
   "metadata": {}
  },
  {
   "cell_type": "code",
   "execution_count": 17,
   "metadata": {},
   "outputs": [],
   "source": [
    "dd = dd[(dd[\"UPDATE_TIME\"].dt.hour >= 7) & (dd[\"UPDATE_TIME\"].dt.hour < 9)] #删除7点前和9点后数据"
   ]
  },
  {
   "cell_type": "code",
   "execution_count": 18,
   "metadata": {},
   "outputs": [
    {
     "output_type": "execute_result",
     "data": {
      "text/plain": [
       "0    270504\n",
       "1    167211\n",
       "Name: LOCK_STATUS, dtype: int64"
      ]
     },
     "metadata": {},
     "execution_count": 18
    }
   ],
   "source": [
    "dd['LOCK_STATUS'].value_counts()"
   ]
  },
  {
   "source": [
    "7点到9点之间的开关锁数据并不平衡,开锁数量远多于关锁\n",
    "我们来做个透视表查看"
   ],
   "cell_type": "markdown",
   "metadata": {}
  },
  {
   "cell_type": "code",
   "execution_count": 19,
   "metadata": {},
   "outputs": [],
   "source": [
    "dd['DAY'] = dd['UPDATE_TIME'].dt.day # 将每一天分离出来\r\n",
    "dd_pivot = pd.pivot_table(dd,index=['BICYCLE_ID', 'DAY', 'LOCK_STATUS'], aggfunc={'LOCK_STATUS':len}) # 根据车辆ID,归属的日,开关锁状态进行数量统计"
   ]
  },
  {
   "source": [
    "透视表长这样:"
   ],
   "cell_type": "markdown",
   "metadata": {}
  },
  {
   "cell_type": "code",
   "execution_count": 20,
   "metadata": {},
   "outputs": [
    {
     "output_type": "execute_result",
     "data": {
      "text/plain": [
       "                                                  LOCK_STATUS\n",
       "BICYCLE_ID                       DAY LOCK_STATUS             \n",
       "0000ff105fd5f9099b866bccd157dc50 21  0                      1\n",
       "                                     1                      1\n",
       "                                 22  0                      4\n",
       "                                     1                      4\n",
       "                                 24  0                      2\n",
       "                                     1                      2\n",
       "00034c3b03361e84da499169e51b2315 22  0                      2\n",
       "                                     1                      2\n",
       "0003fd17bc68116eb180bf44a52f732e 24  0                      1\n",
       "                                     1                      1"
      ],
      "text/html": "<div>\n<style scoped>\n    .dataframe tbody tr th:only-of-type {\n        vertical-align: middle;\n    }\n\n    .dataframe tbody tr th {\n        vertical-align: top;\n    }\n\n    .dataframe thead th {\n        text-align: right;\n    }\n</style>\n<table border=\"1\" class=\"dataframe\">\n  <thead>\n    <tr style=\"text-align: right;\">\n      <th></th>\n      <th></th>\n      <th></th>\n      <th>LOCK_STATUS</th>\n    </tr>\n    <tr>\n      <th>BICYCLE_ID</th>\n      <th>DAY</th>\n      <th>LOCK_STATUS</th>\n      <th></th>\n    </tr>\n  </thead>\n  <tbody>\n    <tr>\n      <th rowspan=\"6\" valign=\"top\">0000ff105fd5f9099b866bccd157dc50</th>\n      <th rowspan=\"2\" valign=\"top\">21</th>\n      <th>0</th>\n      <td>1</td>\n    </tr>\n    <tr>\n      <th>1</th>\n      <td>1</td>\n    </tr>\n    <tr>\n      <th rowspan=\"2\" valign=\"top\">22</th>\n      <th>0</th>\n      <td>4</td>\n    </tr>\n    <tr>\n      <th>1</th>\n      <td>4</td>\n    </tr>\n    <tr>\n      <th rowspan=\"2\" valign=\"top\">24</th>\n      <th>0</th>\n      <td>2</td>\n    </tr>\n    <tr>\n      <th>1</th>\n      <td>2</td>\n    </tr>\n    <tr>\n      <th rowspan=\"2\" valign=\"top\">00034c3b03361e84da499169e51b2315</th>\n      <th rowspan=\"2\" valign=\"top\">22</th>\n      <th>0</th>\n      <td>2</td>\n    </tr>\n    <tr>\n      <th>1</th>\n      <td>2</td>\n    </tr>\n    <tr>\n      <th rowspan=\"2\" valign=\"top\">0003fd17bc68116eb180bf44a52f732e</th>\n      <th rowspan=\"2\" valign=\"top\">24</th>\n      <th>0</th>\n      <td>1</td>\n    </tr>\n    <tr>\n      <th>1</th>\n      <td>1</td>\n    </tr>\n  </tbody>\n</table>\n</div>"
     },
     "metadata": {},
     "execution_count": 20
    }
   ],
   "source": [
    "dd_pivot.head(10)"
   ]
  },
  {
   "source": [
    "也可以使用rename把LOCK_STATUS的统计重命名一下,对于强迫症来说这样看起来舒服点"
   ],
   "cell_type": "markdown",
   "metadata": {}
  },
  {
   "cell_type": "code",
   "execution_count": 21,
   "metadata": {},
   "outputs": [
    {
     "output_type": "execute_result",
     "data": {
      "text/plain": [
       "                                                  LOCK_STATUS_CNT\n",
       "BICYCLE_ID                       DAY LOCK_STATUS                 \n",
       "0000ff105fd5f9099b866bccd157dc50 21  0                          1\n",
       "                                     1                          1\n",
       "                                 22  0                          4\n",
       "                                     1                          4\n",
       "                                 24  0                          2\n",
       "                                     1                          2\n",
       "00034c3b03361e84da499169e51b2315 22  0                          2\n",
       "                                     1                          2\n",
       "0003fd17bc68116eb180bf44a52f732e 24  0                          1\n",
       "                                     1                          1"
      ],
      "text/html": "<div>\n<style scoped>\n    .dataframe tbody tr th:only-of-type {\n        vertical-align: middle;\n    }\n\n    .dataframe tbody tr th {\n        vertical-align: top;\n    }\n\n    .dataframe thead th {\n        text-align: right;\n    }\n</style>\n<table border=\"1\" class=\"dataframe\">\n  <thead>\n    <tr style=\"text-align: right;\">\n      <th></th>\n      <th></th>\n      <th></th>\n      <th>LOCK_STATUS_CNT</th>\n    </tr>\n    <tr>\n      <th>BICYCLE_ID</th>\n      <th>DAY</th>\n      <th>LOCK_STATUS</th>\n      <th></th>\n    </tr>\n  </thead>\n  <tbody>\n    <tr>\n      <th rowspan=\"6\" valign=\"top\">0000ff105fd5f9099b866bccd157dc50</th>\n      <th rowspan=\"2\" valign=\"top\">21</th>\n      <th>0</th>\n      <td>1</td>\n    </tr>\n    <tr>\n      <th>1</th>\n      <td>1</td>\n    </tr>\n    <tr>\n      <th rowspan=\"2\" valign=\"top\">22</th>\n      <th>0</th>\n      <td>4</td>\n    </tr>\n    <tr>\n      <th>1</th>\n      <td>4</td>\n    </tr>\n    <tr>\n      <th rowspan=\"2\" valign=\"top\">24</th>\n      <th>0</th>\n      <td>2</td>\n    </tr>\n    <tr>\n      <th>1</th>\n      <td>2</td>\n    </tr>\n    <tr>\n      <th rowspan=\"2\" valign=\"top\">00034c3b03361e84da499169e51b2315</th>\n      <th rowspan=\"2\" valign=\"top\">22</th>\n      <th>0</th>\n      <td>2</td>\n    </tr>\n    <tr>\n      <th>1</th>\n      <td>2</td>\n    </tr>\n    <tr>\n      <th rowspan=\"2\" valign=\"top\">0003fd17bc68116eb180bf44a52f732e</th>\n      <th rowspan=\"2\" valign=\"top\">24</th>\n      <th>0</th>\n      <td>1</td>\n    </tr>\n    <tr>\n      <th>1</th>\n      <td>1</td>\n    </tr>\n  </tbody>\n</table>\n</div>"
     },
     "metadata": {},
     "execution_count": 21
    }
   ],
   "source": [
    "dd_pivot.rename(columns={'LOCK_STATUS': 'LOCK_STATUS_CNT'}, inplace = True)\n",
    "dd_pivot.head(10)"
   ]
  },
  {
   "source": [
    "我们需要找到一辆LOCK_STATUS不正常(即, 开锁数量-关锁数量大于1)的车来进行观察"
   ],
   "cell_type": "markdown",
   "metadata": {}
  },
  {
   "source": [
    "abnormal_bike = None #这步其实可以不写,在这个数据集中不会出错.但是初始化数据是一个好习惯.否则在下面for循环中如果没有找到符合if中条件的数据会报错\n",
    "abnormal_day = None\n",
    "# bikes_ls = sorted(list(set(dd_pivot.index.get_level_values(0).tolist())))\n",
    "# days = sorted(list(set(dd_pivot.index.get_level_values(1).tolist()))) # set的作用都是去重.其实这里不一定需要转为list后再进行排列,这个操作只是为了使得每次输出的abnormal_bike都一样\n",
    "bikes_ls = set(dd_pivot.index.get_level_values(0).tolist())\n",
    "days = set(dd_pivot.index.get_level_values(1).tolist())\n",
    "exit_flag = False # 用于跳出多层循环的标志\n",
    "for bike in bikes_ls:\n",
    "    for d in days:\n",
    "    # level=和里面的东西可以不填,这里只是为了让大家理解.筛选pandas pivot table中内容的教程晚上比较难找到\n",
    "    # 关于xs的一些例子: https://pandas.pydata.org/pandas-docs/stable/reference/api/pandas.DataFrame.xs.html\n",
    "    # 这两个巨大的if...else判定是为了防止部分车辆在某一天没有开锁数据或者关锁数据导致的报错.如果没有,就记为0\n",
    "        current_zero = dd_pivot.xs((bike, d, 0), level = [0, 1, 'LOCK_STATUS']).values.item() if dd_pivot.xs((bike, d, 0), level = [0, 1, 'LOCK_STATUS']).empty == False else 0\n",
    "        current_one = dd_pivot.xs((bike, d, 1), level = [0, 1, 'LOCK_STATUS']).values.item() if dd_pivot.xs((bike, d, 1), level = [0, 1, 'LOCK_STATUS']).empty == False else 0\n",
    "        # 如果当日开/关锁数据之差大于1\n",
    "        if abs(current_zero - current_one) > 1:\n",
    "            print(\"ID为 {bike_id} 的共享单车在{day}日的LOCK_STATUS不正常, 其开锁数量为{zero},关锁数量为{one}\".format(bike_id = bike,day = abnormal_day, zero = current_zero, one = current_one))\n",
    "            abnormal_bike = bike\n",
    "            abnormal_day = d\n",
    "            exit_flag = True\n",
    "            break\n",
    "    if exit_flag: # 如果跳出多层循环的标志是True,就退出\n",
    "        break"
   ],
   "cell_type": "code",
   "metadata": {},
   "execution_count": 22,
   "outputs": [
    {
     "output_type": "stream",
     "name": "stdout",
     "text": [
      "ID为 f3bf2e7036fd8ab3a992c5a4a7dfd2ba 的共享单车在None日的LOCK_STATUS不正常, 其开锁数量为38,关锁数量为3\n"
     ]
    }
   ]
  },
  {
   "source": [
    "我们来看看这辆车的开关锁数据发生了什么奇怪的事情"
   ],
   "cell_type": "markdown",
   "metadata": {}
  },
  {
   "cell_type": "code",
   "execution_count": 23,
   "metadata": {},
   "outputs": [
    {
     "output_type": "stream",
     "name": "stderr",
     "text": [
      "<ipython-input-23-eebab2b6ba88>:2: SettingWithCopyWarning: \nA value is trying to be set on a copy of a slice from a DataFrame\n\nSee the caveats in the documentation: https://pandas.pydata.org/pandas-docs/stable/user_guide/indexing.html#returning-a-view-versus-a-copy\n  abnormal_example.sort_values(\"UPDATE_TIME\", inplace = True) # 按照时间排列该车开关锁数据\n"
     ]
    },
    {
     "output_type": "execute_result",
     "data": {
      "text/plain": [
       "                              BICYCLE_ID   LATITUDE   LONGITUDE  LOCK_STATUS  \\\n",
       "243398  f3bf2e7036fd8ab3a992c5a4a7dfd2ba  24.476061  118.098778            0   \n",
       "266802  f3bf2e7036fd8ab3a992c5a4a7dfd2ba  24.476091  118.099177            0   \n",
       "243397  f3bf2e7036fd8ab3a992c5a4a7dfd2ba  24.475979  118.098717            0   \n",
       "243396  f3bf2e7036fd8ab3a992c5a4a7dfd2ba  24.476056  118.098664            0   \n",
       "243395  f3bf2e7036fd8ab3a992c5a4a7dfd2ba  24.476133  118.098604            0   \n",
       "243394  f3bf2e7036fd8ab3a992c5a4a7dfd2ba  24.476356  118.098507            0   \n",
       "243393  f3bf2e7036fd8ab3a992c5a4a7dfd2ba  24.476254  118.098378            0   \n",
       "243392  f3bf2e7036fd8ab3a992c5a4a7dfd2ba  24.476106  118.098435            0   \n",
       "243391  f3bf2e7036fd8ab3a992c5a4a7dfd2ba  24.476541  118.098350            0   \n",
       "243390  f3bf2e7036fd8ab3a992c5a4a7dfd2ba  24.476472  118.098234            0   \n",
       "243389  f3bf2e7036fd8ab3a992c5a4a7dfd2ba  24.476260  118.098907            0   \n",
       "243388  f3bf2e7036fd8ab3a992c5a4a7dfd2ba  24.476244  118.098781            0   \n",
       "243387  f3bf2e7036fd8ab3a992c5a4a7dfd2ba  24.476302  118.098696            0   \n",
       "243386  f3bf2e7036fd8ab3a992c5a4a7dfd2ba  24.476363  118.098563            0   \n",
       "243385  f3bf2e7036fd8ab3a992c5a4a7dfd2ba  24.476412  118.098756            0   \n",
       "243384  f3bf2e7036fd8ab3a992c5a4a7dfd2ba  24.476460  118.098650            0   \n",
       "243383  f3bf2e7036fd8ab3a992c5a4a7dfd2ba  24.476509  118.098560            0   \n",
       "243382  f3bf2e7036fd8ab3a992c5a4a7dfd2ba  24.476315  118.098552            0   \n",
       "243381  f3bf2e7036fd8ab3a992c5a4a7dfd2ba  24.476278  118.098646            0   \n",
       "243380  f3bf2e7036fd8ab3a992c5a4a7dfd2ba  24.476283  118.098746            0   \n",
       "243379  f3bf2e7036fd8ab3a992c5a4a7dfd2ba  24.476265  118.098601            0   \n",
       "243378  f3bf2e7036fd8ab3a992c5a4a7dfd2ba  24.476140  118.098531            0   \n",
       "243377  f3bf2e7036fd8ab3a992c5a4a7dfd2ba  24.476220  118.098370            0   \n",
       "243376  f3bf2e7036fd8ab3a992c5a4a7dfd2ba  24.476386  118.098505            0   \n",
       "233330  f3bf2e7036fd8ab3a992c5a4a7dfd2ba  24.476176  118.098654            0   \n",
       "233329  f3bf2e7036fd8ab3a992c5a4a7dfd2ba  24.476095  118.098706            0   \n",
       "233328  f3bf2e7036fd8ab3a992c5a4a7dfd2ba  24.475954  118.098519            0   \n",
       "233327  f3bf2e7036fd8ab3a992c5a4a7dfd2ba  24.475783  118.098609            0   \n",
       "233326  f3bf2e7036fd8ab3a992c5a4a7dfd2ba  24.475990  118.098615            0   \n",
       "244137  f3bf2e7036fd8ab3a992c5a4a7dfd2ba  24.469262  118.102795            1   \n",
       "234985  f3bf2e7036fd8ab3a992c5a4a7dfd2ba  24.469566  118.102689            0   \n",
       "226105  f3bf2e7036fd8ab3a992c5a4a7dfd2ba  24.472456  118.101608            0   \n",
       "246977  f3bf2e7036fd8ab3a992c5a4a7dfd2ba  24.472762  118.101450            0   \n",
       "246976  f3bf2e7036fd8ab3a992c5a4a7dfd2ba  24.472601  118.101564            0   \n",
       "246975  f3bf2e7036fd8ab3a992c5a4a7dfd2ba  24.472616  118.101423            0   \n",
       "246974  f3bf2e7036fd8ab3a992c5a4a7dfd2ba  24.472577  118.101594            0   \n",
       "246863  f3bf2e7036fd8ab3a992c5a4a7dfd2ba  24.472595  118.101471            0   \n",
       "204573  f3bf2e7036fd8ab3a992c5a4a7dfd2ba  24.472455  118.101765            1   \n",
       "246972  f3bf2e7036fd8ab3a992c5a4a7dfd2ba  24.472554  118.101584            0   \n",
       "278949  f3bf2e7036fd8ab3a992c5a4a7dfd2ba  24.471934  118.103078            0   \n",
       "268266  f3bf2e7036fd8ab3a992c5a4a7dfd2ba  24.470640  118.081641            1   \n",
       "\n",
       "               UPDATE_TIME  DAY  \n",
       "243398 2020-12-25 07:00:59   25  \n",
       "266802 2020-12-25 07:01:16   25  \n",
       "243397 2020-12-25 07:01:27   25  \n",
       "243396 2020-12-25 07:01:39   25  \n",
       "243395 2020-12-25 07:01:49   25  \n",
       "243394 2020-12-25 07:02:24   25  \n",
       "243393 2020-12-25 07:03:11   25  \n",
       "243392 2020-12-25 07:03:17   25  \n",
       "243391 2020-12-25 07:03:35   25  \n",
       "243390 2020-12-25 07:03:41   25  \n",
       "243389 2020-12-25 07:03:57   25  \n",
       "243388 2020-12-25 07:04:42   25  \n",
       "243387 2020-12-25 07:05:08   25  \n",
       "243386 2020-12-25 07:05:51   25  \n",
       "243385 2020-12-25 07:07:19   25  \n",
       "243384 2020-12-25 07:07:30   25  \n",
       "243383 2020-12-25 07:07:33   25  \n",
       "243382 2020-12-25 07:07:34   25  \n",
       "243381 2020-12-25 07:07:45   25  \n",
       "243380 2020-12-25 07:07:51   25  \n",
       "243379 2020-12-25 07:08:18   25  \n",
       "243378 2020-12-25 07:08:24   25  \n",
       "243377 2020-12-25 07:08:30   25  \n",
       "243376 2020-12-25 07:08:45   25  \n",
       "233330 2020-12-25 07:08:52   25  \n",
       "233329 2020-12-25 07:08:53   25  \n",
       "233328 2020-12-25 07:08:55   25  \n",
       "233327 2020-12-25 07:08:57   25  \n",
       "233326 2020-12-25 07:08:58   25  \n",
       "244137 2020-12-25 07:08:59   25  \n",
       "234985 2020-12-25 07:30:12   25  \n",
       "226105 2020-12-25 07:32:01   25  \n",
       "246977 2020-12-25 07:32:05   25  \n",
       "246976 2020-12-25 07:32:06   25  \n",
       "246975 2020-12-25 07:32:09   25  \n",
       "246974 2020-12-25 07:32:12   25  \n",
       "246863 2020-12-25 07:32:13   25  \n",
       "204573 2020-12-25 07:32:14   25  \n",
       "246972 2020-12-25 07:32:17   25  \n",
       "278949 2020-12-25 08:18:45   25  \n",
       "268266 2020-12-25 08:32:55   25  "
      ],
      "text/html": "<div>\n<style scoped>\n    .dataframe tbody tr th:only-of-type {\n        vertical-align: middle;\n    }\n\n    .dataframe tbody tr th {\n        vertical-align: top;\n    }\n\n    .dataframe thead th {\n        text-align: right;\n    }\n</style>\n<table border=\"1\" class=\"dataframe\">\n  <thead>\n    <tr style=\"text-align: right;\">\n      <th></th>\n      <th>BICYCLE_ID</th>\n      <th>LATITUDE</th>\n      <th>LONGITUDE</th>\n      <th>LOCK_STATUS</th>\n      <th>UPDATE_TIME</th>\n      <th>DAY</th>\n    </tr>\n  </thead>\n  <tbody>\n    <tr>\n      <th>243398</th>\n      <td>f3bf2e7036fd8ab3a992c5a4a7dfd2ba</td>\n      <td>24.476061</td>\n      <td>118.098778</td>\n      <td>0</td>\n      <td>2020-12-25 07:00:59</td>\n      <td>25</td>\n    </tr>\n    <tr>\n      <th>266802</th>\n      <td>f3bf2e7036fd8ab3a992c5a4a7dfd2ba</td>\n      <td>24.476091</td>\n      <td>118.099177</td>\n      <td>0</td>\n      <td>2020-12-25 07:01:16</td>\n      <td>25</td>\n    </tr>\n    <tr>\n      <th>243397</th>\n      <td>f3bf2e7036fd8ab3a992c5a4a7dfd2ba</td>\n      <td>24.475979</td>\n      <td>118.098717</td>\n      <td>0</td>\n      <td>2020-12-25 07:01:27</td>\n      <td>25</td>\n    </tr>\n    <tr>\n      <th>243396</th>\n      <td>f3bf2e7036fd8ab3a992c5a4a7dfd2ba</td>\n      <td>24.476056</td>\n      <td>118.098664</td>\n      <td>0</td>\n      <td>2020-12-25 07:01:39</td>\n      <td>25</td>\n    </tr>\n    <tr>\n      <th>243395</th>\n      <td>f3bf2e7036fd8ab3a992c5a4a7dfd2ba</td>\n      <td>24.476133</td>\n      <td>118.098604</td>\n      <td>0</td>\n      <td>2020-12-25 07:01:49</td>\n      <td>25</td>\n    </tr>\n    <tr>\n      <th>243394</th>\n      <td>f3bf2e7036fd8ab3a992c5a4a7dfd2ba</td>\n      <td>24.476356</td>\n      <td>118.098507</td>\n      <td>0</td>\n      <td>2020-12-25 07:02:24</td>\n      <td>25</td>\n    </tr>\n    <tr>\n      <th>243393</th>\n      <td>f3bf2e7036fd8ab3a992c5a4a7dfd2ba</td>\n      <td>24.476254</td>\n      <td>118.098378</td>\n      <td>0</td>\n      <td>2020-12-25 07:03:11</td>\n      <td>25</td>\n    </tr>\n    <tr>\n      <th>243392</th>\n      <td>f3bf2e7036fd8ab3a992c5a4a7dfd2ba</td>\n      <td>24.476106</td>\n      <td>118.098435</td>\n      <td>0</td>\n      <td>2020-12-25 07:03:17</td>\n      <td>25</td>\n    </tr>\n    <tr>\n      <th>243391</th>\n      <td>f3bf2e7036fd8ab3a992c5a4a7dfd2ba</td>\n      <td>24.476541</td>\n      <td>118.098350</td>\n      <td>0</td>\n      <td>2020-12-25 07:03:35</td>\n      <td>25</td>\n    </tr>\n    <tr>\n      <th>243390</th>\n      <td>f3bf2e7036fd8ab3a992c5a4a7dfd2ba</td>\n      <td>24.476472</td>\n      <td>118.098234</td>\n      <td>0</td>\n      <td>2020-12-25 07:03:41</td>\n      <td>25</td>\n    </tr>\n    <tr>\n      <th>243389</th>\n      <td>f3bf2e7036fd8ab3a992c5a4a7dfd2ba</td>\n      <td>24.476260</td>\n      <td>118.098907</td>\n      <td>0</td>\n      <td>2020-12-25 07:03:57</td>\n      <td>25</td>\n    </tr>\n    <tr>\n      <th>243388</th>\n      <td>f3bf2e7036fd8ab3a992c5a4a7dfd2ba</td>\n      <td>24.476244</td>\n      <td>118.098781</td>\n      <td>0</td>\n      <td>2020-12-25 07:04:42</td>\n      <td>25</td>\n    </tr>\n    <tr>\n      <th>243387</th>\n      <td>f3bf2e7036fd8ab3a992c5a4a7dfd2ba</td>\n      <td>24.476302</td>\n      <td>118.098696</td>\n      <td>0</td>\n      <td>2020-12-25 07:05:08</td>\n      <td>25</td>\n    </tr>\n    <tr>\n      <th>243386</th>\n      <td>f3bf2e7036fd8ab3a992c5a4a7dfd2ba</td>\n      <td>24.476363</td>\n      <td>118.098563</td>\n      <td>0</td>\n      <td>2020-12-25 07:05:51</td>\n      <td>25</td>\n    </tr>\n    <tr>\n      <th>243385</th>\n      <td>f3bf2e7036fd8ab3a992c5a4a7dfd2ba</td>\n      <td>24.476412</td>\n      <td>118.098756</td>\n      <td>0</td>\n      <td>2020-12-25 07:07:19</td>\n      <td>25</td>\n    </tr>\n    <tr>\n      <th>243384</th>\n      <td>f3bf2e7036fd8ab3a992c5a4a7dfd2ba</td>\n      <td>24.476460</td>\n      <td>118.098650</td>\n      <td>0</td>\n      <td>2020-12-25 07:07:30</td>\n      <td>25</td>\n    </tr>\n    <tr>\n      <th>243383</th>\n      <td>f3bf2e7036fd8ab3a992c5a4a7dfd2ba</td>\n      <td>24.476509</td>\n      <td>118.098560</td>\n      <td>0</td>\n      <td>2020-12-25 07:07:33</td>\n      <td>25</td>\n    </tr>\n    <tr>\n      <th>243382</th>\n      <td>f3bf2e7036fd8ab3a992c5a4a7dfd2ba</td>\n      <td>24.476315</td>\n      <td>118.098552</td>\n      <td>0</td>\n      <td>2020-12-25 07:07:34</td>\n      <td>25</td>\n    </tr>\n    <tr>\n      <th>243381</th>\n      <td>f3bf2e7036fd8ab3a992c5a4a7dfd2ba</td>\n      <td>24.476278</td>\n      <td>118.098646</td>\n      <td>0</td>\n      <td>2020-12-25 07:07:45</td>\n      <td>25</td>\n    </tr>\n    <tr>\n      <th>243380</th>\n      <td>f3bf2e7036fd8ab3a992c5a4a7dfd2ba</td>\n      <td>24.476283</td>\n      <td>118.098746</td>\n      <td>0</td>\n      <td>2020-12-25 07:07:51</td>\n      <td>25</td>\n    </tr>\n    <tr>\n      <th>243379</th>\n      <td>f3bf2e7036fd8ab3a992c5a4a7dfd2ba</td>\n      <td>24.476265</td>\n      <td>118.098601</td>\n      <td>0</td>\n      <td>2020-12-25 07:08:18</td>\n      <td>25</td>\n    </tr>\n    <tr>\n      <th>243378</th>\n      <td>f3bf2e7036fd8ab3a992c5a4a7dfd2ba</td>\n      <td>24.476140</td>\n      <td>118.098531</td>\n      <td>0</td>\n      <td>2020-12-25 07:08:24</td>\n      <td>25</td>\n    </tr>\n    <tr>\n      <th>243377</th>\n      <td>f3bf2e7036fd8ab3a992c5a4a7dfd2ba</td>\n      <td>24.476220</td>\n      <td>118.098370</td>\n      <td>0</td>\n      <td>2020-12-25 07:08:30</td>\n      <td>25</td>\n    </tr>\n    <tr>\n      <th>243376</th>\n      <td>f3bf2e7036fd8ab3a992c5a4a7dfd2ba</td>\n      <td>24.476386</td>\n      <td>118.098505</td>\n      <td>0</td>\n      <td>2020-12-25 07:08:45</td>\n      <td>25</td>\n    </tr>\n    <tr>\n      <th>233330</th>\n      <td>f3bf2e7036fd8ab3a992c5a4a7dfd2ba</td>\n      <td>24.476176</td>\n      <td>118.098654</td>\n      <td>0</td>\n      <td>2020-12-25 07:08:52</td>\n      <td>25</td>\n    </tr>\n    <tr>\n      <th>233329</th>\n      <td>f3bf2e7036fd8ab3a992c5a4a7dfd2ba</td>\n      <td>24.476095</td>\n      <td>118.098706</td>\n      <td>0</td>\n      <td>2020-12-25 07:08:53</td>\n      <td>25</td>\n    </tr>\n    <tr>\n      <th>233328</th>\n      <td>f3bf2e7036fd8ab3a992c5a4a7dfd2ba</td>\n      <td>24.475954</td>\n      <td>118.098519</td>\n      <td>0</td>\n      <td>2020-12-25 07:08:55</td>\n      <td>25</td>\n    </tr>\n    <tr>\n      <th>233327</th>\n      <td>f3bf2e7036fd8ab3a992c5a4a7dfd2ba</td>\n      <td>24.475783</td>\n      <td>118.098609</td>\n      <td>0</td>\n      <td>2020-12-25 07:08:57</td>\n      <td>25</td>\n    </tr>\n    <tr>\n      <th>233326</th>\n      <td>f3bf2e7036fd8ab3a992c5a4a7dfd2ba</td>\n      <td>24.475990</td>\n      <td>118.098615</td>\n      <td>0</td>\n      <td>2020-12-25 07:08:58</td>\n      <td>25</td>\n    </tr>\n    <tr>\n      <th>244137</th>\n      <td>f3bf2e7036fd8ab3a992c5a4a7dfd2ba</td>\n      <td>24.469262</td>\n      <td>118.102795</td>\n      <td>1</td>\n      <td>2020-12-25 07:08:59</td>\n      <td>25</td>\n    </tr>\n    <tr>\n      <th>234985</th>\n      <td>f3bf2e7036fd8ab3a992c5a4a7dfd2ba</td>\n      <td>24.469566</td>\n      <td>118.102689</td>\n      <td>0</td>\n      <td>2020-12-25 07:30:12</td>\n      <td>25</td>\n    </tr>\n    <tr>\n      <th>226105</th>\n      <td>f3bf2e7036fd8ab3a992c5a4a7dfd2ba</td>\n      <td>24.472456</td>\n      <td>118.101608</td>\n      <td>0</td>\n      <td>2020-12-25 07:32:01</td>\n      <td>25</td>\n    </tr>\n    <tr>\n      <th>246977</th>\n      <td>f3bf2e7036fd8ab3a992c5a4a7dfd2ba</td>\n      <td>24.472762</td>\n      <td>118.101450</td>\n      <td>0</td>\n      <td>2020-12-25 07:32:05</td>\n      <td>25</td>\n    </tr>\n    <tr>\n      <th>246976</th>\n      <td>f3bf2e7036fd8ab3a992c5a4a7dfd2ba</td>\n      <td>24.472601</td>\n      <td>118.101564</td>\n      <td>0</td>\n      <td>2020-12-25 07:32:06</td>\n      <td>25</td>\n    </tr>\n    <tr>\n      <th>246975</th>\n      <td>f3bf2e7036fd8ab3a992c5a4a7dfd2ba</td>\n      <td>24.472616</td>\n      <td>118.101423</td>\n      <td>0</td>\n      <td>2020-12-25 07:32:09</td>\n      <td>25</td>\n    </tr>\n    <tr>\n      <th>246974</th>\n      <td>f3bf2e7036fd8ab3a992c5a4a7dfd2ba</td>\n      <td>24.472577</td>\n      <td>118.101594</td>\n      <td>0</td>\n      <td>2020-12-25 07:32:12</td>\n      <td>25</td>\n    </tr>\n    <tr>\n      <th>246863</th>\n      <td>f3bf2e7036fd8ab3a992c5a4a7dfd2ba</td>\n      <td>24.472595</td>\n      <td>118.101471</td>\n      <td>0</td>\n      <td>2020-12-25 07:32:13</td>\n      <td>25</td>\n    </tr>\n    <tr>\n      <th>204573</th>\n      <td>f3bf2e7036fd8ab3a992c5a4a7dfd2ba</td>\n      <td>24.472455</td>\n      <td>118.101765</td>\n      <td>1</td>\n      <td>2020-12-25 07:32:14</td>\n      <td>25</td>\n    </tr>\n    <tr>\n      <th>246972</th>\n      <td>f3bf2e7036fd8ab3a992c5a4a7dfd2ba</td>\n      <td>24.472554</td>\n      <td>118.101584</td>\n      <td>0</td>\n      <td>2020-12-25 07:32:17</td>\n      <td>25</td>\n    </tr>\n    <tr>\n      <th>278949</th>\n      <td>f3bf2e7036fd8ab3a992c5a4a7dfd2ba</td>\n      <td>24.471934</td>\n      <td>118.103078</td>\n      <td>0</td>\n      <td>2020-12-25 08:18:45</td>\n      <td>25</td>\n    </tr>\n    <tr>\n      <th>268266</th>\n      <td>f3bf2e7036fd8ab3a992c5a4a7dfd2ba</td>\n      <td>24.470640</td>\n      <td>118.081641</td>\n      <td>1</td>\n      <td>2020-12-25 08:32:55</td>\n      <td>25</td>\n    </tr>\n  </tbody>\n</table>\n</div>"
     },
     "metadata": {},
     "execution_count": 23
    }
   ],
   "source": [
    "abnormal_example = dd.loc[(dd['BICYCLE_ID'] == abnormal_bike) & (dd['DAY'] == abnormal_day)] # 筛选出id等于abnormal_value的单车\n",
    "abnormal_example.sort_values(\"UPDATE_TIME\", inplace = True) # 按照时间排列该车开关锁数据\n",
    "abnormal_example"
   ]
  },
  {
   "source": [
    "不用管那个warming,这是由于设置了`inplace=True`,使得重新排序后的abnormal_example覆盖了老的abnormal_example导致的.\n",
    "\n",
    "如果觉得碍眼,在代码开始`import pandas as pd`后加一行`pd.set_option('mode.chained_assignment', None)`即可关闭此类提醒信息\n",
    "\n",
    "从以上单车信息中我们可以发现存在着很多连续的0.使用matplotlib进行可视化,试图还原该车辆开关锁发生坐标"
   ],
   "cell_type": "markdown",
   "metadata": {}
  },
  {
   "cell_type": "code",
   "execution_count": 24,
   "metadata": {},
   "outputs": [
    {
     "output_type": "display_data",
     "data": {
      "text/plain": "<Figure size 576x576 with 1 Axes>",
      "image/svg+xml": "<?xml version=\"1.0\" encoding=\"utf-8\" standalone=\"no\"?>\r\n<!DOCTYPE svg PUBLIC \"-//W3C//DTD SVG 1.1//EN\"\r\n  \"http://www.w3.org/Graphics/SVG/1.1/DTD/svg11.dtd\">\r\n<!-- Created with matplotlib (https://matplotlib.org/) -->\r\n<svg height=\"478.63625pt\" version=\"1.1\" viewBox=\"0 0 502.790625 478.63625\" width=\"502.790625pt\" xmlns=\"http://www.w3.org/2000/svg\" xmlns:xlink=\"http://www.w3.org/1999/xlink\">\r\n <metadata>\r\n  <rdf:RDF xmlns:cc=\"http://creativecommons.org/ns#\" xmlns:dc=\"http://purl.org/dc/elements/1.1/\" xmlns:rdf=\"http://www.w3.org/1999/02/22-rdf-syntax-ns#\">\r\n   <cc:Work>\r\n    <dc:type rdf:resource=\"http://purl.org/dc/dcmitype/StillImage\"/>\r\n    <dc:date>2021-04-23T04:14:16.109769</dc:date>\r\n    <dc:format>image/svg+xml</dc:format>\r\n    <dc:creator>\r\n     <cc:Agent>\r\n      <dc:title>Matplotlib v3.3.4, https://matplotlib.org/</dc:title>\r\n     </cc:Agent>\r\n    </dc:creator>\r\n   </cc:Work>\r\n  </rdf:RDF>\r\n </metadata>\r\n <defs>\r\n  <style type=\"text/css\">*{stroke-linecap:butt;stroke-linejoin:round;}</style>\r\n </defs>\r\n <g id=\"figure_1\">\r\n  <g id=\"patch_1\">\r\n   <path d=\"M 0 478.63625 \r\nL 502.790625 478.63625 \r\nL 502.790625 0 \r\nL 0 0 \r\nz\r\n\" style=\"fill:none;\"/>\r\n  </g>\r\n  <g id=\"axes_1\">\r\n   <g id=\"patch_2\">\r\n    <path d=\"M 49.190625 442.08 \r\nL 495.590625 442.08 \r\nL 495.590625 7.2 \r\nL 49.190625 7.2 \r\nz\r\n\" style=\"fill:#ffffff;\"/>\r\n   </g>\r\n   <g id=\"PathCollection_1\">\r\n    <defs>\r\n     <path d=\"M 0 3 \r\nC 0.795609 3 1.55874 2.683901 2.12132 2.12132 \r\nC 2.683901 1.55874 3 0.795609 3 0 \r\nC 3 -0.795609 2.683901 -1.55874 2.12132 -2.12132 \r\nC 1.55874 -2.683901 0.795609 -3 0 -3 \r\nC -0.795609 -3 -1.55874 -2.683901 -2.12132 -2.12132 \r\nC -2.683901 -1.55874 -3 -0.795609 -3 0 \r\nC -3 0.795609 -2.683901 1.55874 -2.12132 2.12132 \r\nC -1.55874 2.683901 -0.795609 3 0 3 \r\nz\r\n\" id=\"m0186328f7f\" style=\"stroke:#0000ff;\"/>\r\n    </defs>\r\n    <g clip-path=\"url(#p634c86d550)\">\r\n     <use style=\"fill:#0000ff;stroke:#0000ff;\" x=\"469.942318\" xlink:href=\"#m0186328f7f\" y=\"422.312727\"/>\r\n    </g>\r\n   </g>\r\n   <g id=\"PathCollection_2\">\r\n    <g clip-path=\"url(#p634c86d550)\">\r\n     <use style=\"fill:#0000ff;stroke:#0000ff;\" x=\"450.44366\" xlink:href=\"#m0186328f7f\" y=\"248.890824\"/>\r\n    </g>\r\n   </g>\r\n   <g id=\"PathCollection_3\">\r\n    <g clip-path=\"url(#p634c86d550)\">\r\n     <use style=\"fill:#0000ff;stroke:#0000ff;\" x=\"69.481534\" xlink:href=\"#m0186328f7f\" y=\"347.4692\"/>\r\n    </g>\r\n   </g>\r\n   <g id=\"PathCollection_4\">\r\n    <defs>\r\n     <path d=\"M 0 3 \r\nC 0.795609 3 1.55874 2.683901 2.12132 2.12132 \r\nC 2.683901 1.55874 3 0.795609 3 0 \r\nC 3 -0.795609 2.683901 -1.55874 2.12132 -2.12132 \r\nC 1.55874 -2.683901 0.795609 -3 0 -3 \r\nC -0.795609 -3 -1.55874 -2.683901 -2.12132 -2.12132 \r\nC -2.683901 -1.55874 -3 -0.795609 -3 0 \r\nC -3 0.795609 -2.683901 1.55874 -2.12132 2.12132 \r\nC -1.55874 2.683901 -0.795609 3 0 3 \r\nz\r\n\" id=\"m8f9a29c065\" style=\"stroke:#ff0000;stroke-opacity:0.034483;\"/>\r\n    </defs>\r\n    <g clip-path=\"url(#p634c86d550)\">\r\n     <use style=\"fill:#ff0000;fill-opacity:0.034483;stroke:#ff0000;stroke-opacity:0.034483;\" x=\"390.811842\" xlink:href=\"#m8f9a29c065\" y=\"56.893821\"/>\r\n    </g>\r\n   </g>\r\n   <g id=\"PathCollection_5\">\r\n    <defs>\r\n     <path d=\"M 0 3 \r\nC 0.795609 3 1.55874 2.683901 2.12132 2.12132 \r\nC 2.683901 1.55874 3 0.795609 3 0 \r\nC 3 -0.795609 2.683901 -1.55874 2.12132 -2.12132 \r\nC 1.55874 -2.683901 0.795609 -3 0 -3 \r\nC -0.795609 -3 -1.55874 -2.683901 -2.12132 -2.12132 \r\nC -2.683901 -1.55874 -3 -0.795609 -3 0 \r\nC -3 0.795609 -2.683901 1.55874 -2.12132 2.12132 \r\nC -1.55874 2.683901 -0.795609 3 0 3 \r\nz\r\n\" id=\"m8c55b36182\" style=\"stroke:#ff0000;stroke-opacity:0.068966;\"/>\r\n    </defs>\r\n    <g clip-path=\"url(#p634c86d550)\">\r\n     <use style=\"fill:#ff0000;fill-opacity:0.068966;stroke:#ff0000;stroke-opacity:0.068966;\" x=\"390.698258\" xlink:href=\"#m8c55b36182\" y=\"68.136644\"/>\r\n    </g>\r\n   </g>\r\n   <g id=\"PathCollection_6\">\r\n    <defs>\r\n     <path d=\"M 0 3 \r\nC 0.795609 3 1.55874 2.683901 2.12132 2.12132 \r\nC 2.683901 1.55874 3 0.795609 3 0 \r\nC 3 -0.795609 2.683901 -1.55874 2.12132 -2.12132 \r\nC 1.55874 -2.683901 0.795609 -3 0 -3 \r\nC -0.795609 -3 -1.55874 -2.683901 -2.12132 -2.12132 \r\nC -2.683901 -1.55874 -3 -0.795609 -3 0 \r\nC -3 0.795609 -2.683901 1.55874 -2.12132 2.12132 \r\nC -1.55874 2.683901 -0.795609 3 0 3 \r\nz\r\n\" id=\"m4f8ea2d4ab\" style=\"stroke:#ff0000;stroke-opacity:0.103448;\"/>\r\n    </defs>\r\n    <g clip-path=\"url(#p634c86d550)\">\r\n     <use style=\"fill:#ff0000;fill-opacity:0.103448;stroke:#ff0000;stroke-opacity:0.103448;\" x=\"388.994492\" xlink:href=\"#m4f8ea2d4ab\" y=\"58.849095\"/>\r\n    </g>\r\n   </g>\r\n   <g id=\"PathCollection_7\">\r\n    <defs>\r\n     <path d=\"M 0 3 \r\nC 0.795609 3 1.55874 2.683901 2.12132 2.12132 \r\nC 2.683901 1.55874 3 0.795609 3 0 \r\nC 3 -0.795609 2.683901 -1.55874 2.12132 -2.12132 \r\nC 1.55874 -2.683901 0.795609 -3 0 -3 \r\nC -0.795609 -3 -1.55874 -2.683901 -2.12132 -2.12132 \r\nC -2.683901 -1.55874 -3 -0.795609 -3 0 \r\nC -3 0.795609 -2.683901 1.55874 -2.12132 2.12132 \r\nC -1.55874 2.683901 -0.795609 3 0 3 \r\nz\r\n\" id=\"m5b6e7332d4\" style=\"stroke:#ff0000;stroke-opacity:0.137931;\"/>\r\n    </defs>\r\n    <g clip-path=\"url(#p634c86d550)\">\r\n     <use style=\"fill:#ff0000;fill-opacity:0.137931;stroke:#ff0000;stroke-opacity:0.137931;\" x=\"392.534539\" xlink:href=\"#m5b6e7332d4\" y=\"51.19094\"/>\r\n    </g>\r\n   </g>\r\n   <g id=\"PathCollection_8\">\r\n    <defs>\r\n     <path d=\"M 0 3 \r\nC 0.795609 3 1.55874 2.683901 2.12132 2.12132 \r\nC 2.683901 1.55874 3 0.795609 3 0 \r\nC 3 -0.795609 2.683901 -1.55874 2.12132 -2.12132 \r\nC 1.55874 -2.683901 0.795609 -3 0 -3 \r\nC -0.795609 -3 -1.55874 -2.683901 -2.12132 -2.12132 \r\nC -2.683901 -1.55874 -3 -0.795609 -3 0 \r\nC -3 0.795609 -2.683901 1.55874 -2.12132 2.12132 \r\nC -1.55874 2.683901 -0.795609 3 0 3 \r\nz\r\n\" id=\"mfd90fdeff6\" style=\"stroke:#ff0000;stroke-opacity:0.172414;\"/>\r\n    </defs>\r\n    <g clip-path=\"url(#p634c86d550)\">\r\n     <use style=\"fill:#ff0000;fill-opacity:0.172414;stroke:#ff0000;stroke-opacity:0.172414;\" x=\"391.550141\" xlink:href=\"#mfd90fdeff6\" y=\"46.791574\"/>\r\n    </g>\r\n   </g>\r\n   <g id=\"PathCollection_9\">\r\n    <defs>\r\n     <path d=\"M 0 3 \r\nC 0.795609 3 1.55874 2.683901 2.12132 2.12132 \r\nC 2.683901 1.55874 3 0.795609 3 0 \r\nC 3 -0.795609 2.683901 -1.55874 2.12132 -2.12132 \r\nC 1.55874 -2.683901 0.795609 -3 0 -3 \r\nC -0.795609 -3 -1.55874 -2.683901 -2.12132 -2.12132 \r\nC -2.683901 -1.55874 -3 -0.795609 -3 0 \r\nC -3 0.795609 -2.683901 1.55874 -2.12132 2.12132 \r\nC -1.55874 2.683901 -0.795609 3 0 3 \r\nz\r\n\" id=\"mf85cff58ba\" style=\"stroke:#ff0000;stroke-opacity:0.206897;\"/>\r\n    </defs>\r\n    <g clip-path=\"url(#p634c86d550)\">\r\n     <use style=\"fill:#ff0000;fill-opacity:0.206897;stroke:#ff0000;stroke-opacity:0.206897;\" x=\"388.729461\" xlink:href=\"#mf85cff58ba\" y=\"35.385812\"/>\r\n    </g>\r\n   </g>\r\n   <g id=\"PathCollection_10\">\r\n    <defs>\r\n     <path d=\"M 0 3 \r\nC 0.795609 3 1.55874 2.683901 2.12132 2.12132 \r\nC 2.683901 1.55874 3 0.795609 3 0 \r\nC 3 -0.795609 2.683901 -1.55874 2.12132 -2.12132 \r\nC 1.55874 -2.683901 0.795609 -3 0 -3 \r\nC -0.795609 -3 -1.55874 -2.683901 -2.12132 -2.12132 \r\nC -2.683901 -1.55874 -3 -0.795609 -3 0 \r\nC -3 0.795609 -2.683901 1.55874 -2.12132 2.12132 \r\nC -1.55874 2.683901 -0.795609 3 0 3 \r\nz\r\n\" id=\"mc1ac1cf358\" style=\"stroke:#ff0000;stroke-opacity:0.241379;\"/>\r\n    </defs>\r\n    <g clip-path=\"url(#p634c86d550)\">\r\n     <use style=\"fill:#ff0000;fill-opacity:0.241379;stroke:#ff0000;stroke-opacity:0.241379;\" x=\"386.173812\" xlink:href=\"#mc1ac1cf358\" y=\"44.401795\"/>\r\n    </g>\r\n   </g>\r\n   <g id=\"PathCollection_11\">\r\n    <defs>\r\n     <path d=\"M 0 3 \r\nC 0.795609 3 1.55874 2.683901 2.12132 2.12132 \r\nC 2.683901 1.55874 3 0.795609 3 0 \r\nC 3 -0.795609 2.683901 -1.55874 2.12132 -2.12132 \r\nC 1.55874 -2.683901 0.795609 -3 0 -3 \r\nC -0.795609 -3 -1.55874 -2.683901 -2.12132 -2.12132 \r\nC -2.683901 -1.55874 -3 -0.795609 -3 0 \r\nC -3 0.795609 -2.683901 1.55874 -2.12132 2.12132 \r\nC -1.55874 2.683901 -0.795609 3 0 3 \r\nz\r\n\" id=\"m452113d2fc\" style=\"stroke:#ff0000;stroke-opacity:0.275862;\"/>\r\n    </defs>\r\n    <g clip-path=\"url(#p634c86d550)\">\r\n     <use style=\"fill:#ff0000;fill-opacity:0.275862;stroke:#ff0000;stroke-opacity:0.275862;\" x=\"389.221661\" xlink:href=\"#m452113d2fc\" y=\"48.746848\"/>\r\n    </g>\r\n   </g>\r\n   <g id=\"PathCollection_12\">\r\n    <defs>\r\n     <path d=\"M 0 3 \r\nC 0.795609 3 1.55874 2.683901 2.12132 2.12132 \r\nC 2.683901 1.55874 3 0.795609 3 0 \r\nC 3 -0.795609 2.683901 -1.55874 2.12132 -2.12132 \r\nC 1.55874 -2.683901 0.795609 -3 0 -3 \r\nC -0.795609 -3 -1.55874 -2.683901 -2.12132 -2.12132 \r\nC -2.683901 -1.55874 -3 -0.795609 -3 0 \r\nC -3 0.795609 -2.683901 1.55874 -2.12132 2.12132 \r\nC -1.55874 2.683901 -0.795609 3 0 3 \r\nz\r\n\" id=\"me388bc80ac\" style=\"stroke:#ff0000;stroke-opacity:0.310345;\"/>\r\n    </defs>\r\n    <g clip-path=\"url(#p634c86d550)\">\r\n     <use style=\"fill:#ff0000;fill-opacity:0.310345;stroke:#ff0000;stroke-opacity:0.310345;\" x=\"390.546812\" xlink:href=\"#me388bc80ac\" y=\"41.957703\"/>\r\n    </g>\r\n   </g>\r\n   <g id=\"PathCollection_13\">\r\n    <defs>\r\n     <path d=\"M 0 3 \r\nC 0.795609 3 1.55874 2.683901 2.12132 2.12132 \r\nC 2.683901 1.55874 3 0.795609 3 0 \r\nC 3 -0.795609 2.683901 -1.55874 2.12132 -2.12132 \r\nC 1.55874 -2.683901 0.795609 -3 0 -3 \r\nC -0.795609 -3 -1.55874 -2.683901 -2.12132 -2.12132 \r\nC -2.683901 -1.55874 -3 -0.795609 -3 0 \r\nC -3 0.795609 -2.683901 1.55874 -2.12132 2.12132 \r\nC -1.55874 2.683901 -0.795609 3 0 3 \r\nz\r\n\" id=\"me93e5fda8b\" style=\"stroke:#ff0000;stroke-opacity:0.344828;\"/>\r\n    </defs>\r\n    <g clip-path=\"url(#p634c86d550)\">\r\n     <use style=\"fill:#ff0000;fill-opacity:0.344828;stroke:#ff0000;stroke-opacity:0.344828;\" x=\"393.291769\" xlink:href=\"#me93e5fda8b\" y=\"40.980067\"/>\r\n    </g>\r\n   </g>\r\n   <g id=\"PathCollection_14\">\r\n    <defs>\r\n     <path d=\"M 0 3 \r\nC 0.795609 3 1.55874 2.683901 2.12132 2.12132 \r\nC 2.683901 1.55874 3 0.795609 3 0 \r\nC 3 -0.795609 2.683901 -1.55874 2.12132 -2.12132 \r\nC 1.55874 -2.683901 0.795609 -3 0 -3 \r\nC -0.795609 -3 -1.55874 -2.683901 -2.12132 -2.12132 \r\nC -2.683901 -1.55874 -3 -0.795609 -3 0 \r\nC -3 0.795609 -2.683901 1.55874 -2.12132 2.12132 \r\nC -1.55874 2.683901 -0.795609 3 0 3 \r\nz\r\n\" id=\"me106ec98f1\" style=\"stroke:#ff0000;stroke-opacity:0.37931;\"/>\r\n    </defs>\r\n    <g clip-path=\"url(#p634c86d550)\">\r\n     <use style=\"fill:#ff0000;fill-opacity:0.37931;stroke:#ff0000;stroke-opacity:0.37931;\" x=\"391.398695\" xlink:href=\"#me106ec98f1\" y=\"41.251632\"/>\r\n    </g>\r\n   </g>\r\n   <g id=\"PathCollection_15\">\r\n    <defs>\r\n     <path d=\"M 0 3 \r\nC 0.795609 3 1.55874 2.683901 2.12132 2.12132 \r\nC 2.683901 1.55874 3 0.795609 3 0 \r\nC 3 -0.795609 2.683901 -1.55874 2.12132 -2.12132 \r\nC 1.55874 -2.683901 0.795609 -3 0 -3 \r\nC -0.795609 -3 -1.55874 -2.683901 -2.12132 -2.12132 \r\nC -2.683901 -1.55874 -3 -0.795609 -3 0 \r\nC -3 0.795609 -2.683901 1.55874 -2.12132 2.12132 \r\nC -1.55874 2.683901 -0.795609 3 0 3 \r\nz\r\n\" id=\"m9d6b491e10\" style=\"stroke:#ff0000;stroke-opacity:0.413793;\"/>\r\n    </defs>\r\n    <g clip-path=\"url(#p634c86d550)\">\r\n     <use style=\"fill:#ff0000;fill-opacity:0.413793;stroke:#ff0000;stroke-opacity:0.413793;\" x=\"389.619206\" xlink:href=\"#m9d6b491e10\" y=\"39.242046\"/>\r\n    </g>\r\n   </g>\r\n   <g id=\"PathCollection_16\">\r\n    <defs>\r\n     <path d=\"M 0 3 \r\nC 0.795609 3 1.55874 2.683901 2.12132 2.12132 \r\nC 2.683901 1.55874 3 0.795609 3 0 \r\nC 3 -0.795609 2.683901 -1.55874 2.12132 -2.12132 \r\nC 1.55874 -2.683901 0.795609 -3 0 -3 \r\nC -0.795609 -3 -1.55874 -2.683901 -2.12132 -2.12132 \r\nC -2.683901 -1.55874 -3 -0.795609 -3 0 \r\nC -3 0.795609 -2.683901 1.55874 -2.12132 2.12132 \r\nC -1.55874 2.683901 -0.795609 3 0 3 \r\nz\r\n\" id=\"mc4b4535c11\" style=\"stroke:#ff0000;stroke-opacity:0.448276;\"/>\r\n    </defs>\r\n    <g clip-path=\"url(#p634c86d550)\">\r\n     <use style=\"fill:#ff0000;fill-opacity:0.448276;stroke:#ff0000;stroke-opacity:0.448276;\" x=\"389.770652\" xlink:href=\"#mc4b4535c11\" y=\"28.705294\"/>\r\n    </g>\r\n   </g>\r\n   <g id=\"PathCollection_17\">\r\n    <defs>\r\n     <path d=\"M 0 3 \r\nC 0.795609 3 1.55874 2.683901 2.12132 2.12132 \r\nC 2.683901 1.55874 3 0.795609 3 0 \r\nC 3 -0.795609 2.683901 -1.55874 2.12132 -2.12132 \r\nC 1.55874 -2.683901 0.795609 -3 0 -3 \r\nC -0.795609 -3 -1.55874 -2.683901 -2.12132 -2.12132 \r\nC -2.683901 -1.55874 -3 -0.795609 -3 0 \r\nC -3 0.795609 -2.683901 1.55874 -2.12132 2.12132 \r\nC -1.55874 2.683901 -0.795609 3 0 3 \r\nz\r\n\" id=\"m35ea0d82ee\" style=\"stroke:#ff0000;stroke-opacity:0.482759;\"/>\r\n    </defs>\r\n    <g clip-path=\"url(#p634c86d550)\">\r\n     <use style=\"fill:#ff0000;fill-opacity:0.482759;stroke:#ff0000;stroke-opacity:0.482759;\" x=\"391.474418\" xlink:href=\"#m35ea0d82ee\" y=\"31.366638\"/>\r\n    </g>\r\n   </g>\r\n   <g id=\"PathCollection_18\">\r\n    <defs>\r\n     <path d=\"M 0 3 \r\nC 0.795609 3 1.55874 2.683901 2.12132 2.12132 \r\nC 2.683901 1.55874 3 0.795609 3 0 \r\nC 3 -0.795609 2.683901 -1.55874 2.12132 -2.12132 \r\nC 1.55874 -2.683901 0.795609 -3 0 -3 \r\nC -0.795609 -3 -1.55874 -2.683901 -2.12132 -2.12132 \r\nC -2.683901 -1.55874 -3 -0.795609 -3 0 \r\nC -3 0.795609 -2.683901 1.55874 -2.12132 2.12132 \r\nC -1.55874 2.683901 -0.795609 3 0 3 \r\nz\r\n\" id=\"m203732ddf1\" style=\"stroke:#ff0000;stroke-opacity:0.517241;\"/>\r\n    </defs>\r\n    <g clip-path=\"url(#p634c86d550)\">\r\n     <use style=\"fill:#ff0000;fill-opacity:0.517241;stroke:#ff0000;stroke-opacity:0.517241;\" x=\"393.481076\" xlink:href=\"#m203732ddf1\" y=\"33.97367\"/>\r\n    </g>\r\n   </g>\r\n   <g id=\"PathCollection_19\">\r\n    <defs>\r\n     <path d=\"M 0 3 \r\nC 0.795609 3 1.55874 2.683901 2.12132 2.12132 \r\nC 2.683901 1.55874 3 0.795609 3 0 \r\nC 3 -0.795609 2.683901 -1.55874 2.12132 -2.12132 \r\nC 1.55874 -2.683901 0.795609 -3 0 -3 \r\nC -0.795609 -3 -1.55874 -2.683901 -2.12132 -2.12132 \r\nC -2.683901 -1.55874 -3 -0.795609 -3 0 \r\nC -3 0.795609 -2.683901 1.55874 -2.12132 2.12132 \r\nC -1.55874 2.683901 -0.795609 3 0 3 \r\nz\r\n\" id=\"mc1fe64d83b\" style=\"stroke:#ff0000;stroke-opacity:0.551724;\"/>\r\n    </defs>\r\n    <g clip-path=\"url(#p634c86d550)\">\r\n     <use style=\"fill:#ff0000;fill-opacity:0.551724;stroke:#ff0000;stroke-opacity:0.551724;\" x=\"389.827444\" xlink:href=\"#mc1fe64d83b\" y=\"36.635014\"/>\r\n    </g>\r\n   </g>\r\n   <g id=\"PathCollection_20\">\r\n    <defs>\r\n     <path d=\"M 0 3 \r\nC 0.795609 3 1.55874 2.683901 2.12132 2.12132 \r\nC 2.683901 1.55874 3 0.795609 3 0 \r\nC 3 -0.795609 2.683901 -1.55874 2.12132 -2.12132 \r\nC 1.55874 -2.683901 0.795609 -3 0 -3 \r\nC -0.795609 -3 -1.55874 -2.683901 -2.12132 -2.12132 \r\nC -2.683901 -1.55874 -3 -0.795609 -3 0 \r\nC -3 0.795609 -2.683901 1.55874 -2.12132 2.12132 \r\nC -1.55874 2.683901 -0.795609 3 0 3 \r\nz\r\n\" id=\"m0b5b735689\" style=\"stroke:#ff0000;stroke-opacity:0.586207;\"/>\r\n    </defs>\r\n    <g clip-path=\"url(#p634c86d550)\">\r\n     <use style=\"fill:#ff0000;fill-opacity:0.586207;stroke:#ff0000;stroke-opacity:0.586207;\" x=\"392.345232\" xlink:href=\"#m0b5b735689\" y=\"39.948117\"/>\r\n    </g>\r\n   </g>\r\n   <g id=\"PathCollection_21\">\r\n    <defs>\r\n     <path d=\"M 0 3 \r\nC 0.795609 3 1.55874 2.683901 2.12132 2.12132 \r\nC 2.683901 1.55874 3 0.795609 3 0 \r\nC 3 -0.795609 2.683901 -1.55874 2.12132 -2.12132 \r\nC 1.55874 -2.683901 0.795609 -3 0 -3 \r\nC -0.795609 -3 -1.55874 -2.683901 -2.12132 -2.12132 \r\nC -2.683901 -1.55874 -3 -0.795609 -3 0 \r\nC -3 0.795609 -2.683901 1.55874 -2.12132 2.12132 \r\nC -1.55874 2.683901 -0.795609 3 0 3 \r\nz\r\n\" id=\"m5abe65e1f2\" style=\"stroke:#ff0000;stroke-opacity:0.62069;\"/>\r\n    </defs>\r\n    <g clip-path=\"url(#p634c86d550)\">\r\n     <use style=\"fill:#ff0000;fill-opacity:0.62069;stroke:#ff0000;stroke-opacity:0.62069;\" x=\"393.954344\" xlink:href=\"#m5abe65e1f2\" y=\"43.09828\"/>\r\n    </g>\r\n   </g>\r\n   <g id=\"PathCollection_22\">\r\n    <defs>\r\n     <path d=\"M 0 3 \r\nC 0.795609 3 1.55874 2.683901 2.12132 2.12132 \r\nC 2.683901 1.55874 3 0.795609 3 0 \r\nC 3 -0.795609 2.683901 -1.55874 2.12132 -2.12132 \r\nC 1.55874 -2.683901 0.795609 -3 0 -3 \r\nC -0.795609 -3 -1.55874 -2.683901 -2.12132 -2.12132 \r\nC -2.683901 -1.55874 -3 -0.795609 -3 0 \r\nC -3 0.795609 -2.683901 1.55874 -2.12132 2.12132 \r\nC -1.55874 2.683901 -0.795609 3 0 3 \r\nz\r\n\" id=\"m96895c2619\" style=\"stroke:#ff0000;stroke-opacity:0.655172;\"/>\r\n    </defs>\r\n    <g clip-path=\"url(#p634c86d550)\">\r\n     <use style=\"fill:#ff0000;fill-opacity:0.655172;stroke:#ff0000;stroke-opacity:0.655172;\" x=\"396.339617\" xlink:href=\"#m96895c2619\" y=\"42.229269\"/>\r\n    </g>\r\n   </g>\r\n   <g id=\"PathCollection_23\">\r\n    <defs>\r\n     <path d=\"M 0 3 \r\nC 0.795609 3 1.55874 2.683901 2.12132 2.12132 \r\nC 2.683901 1.55874 3 0.795609 3 0 \r\nC 3 -0.795609 2.683901 -1.55874 2.12132 -2.12132 \r\nC 1.55874 -2.683901 0.795609 -3 0 -3 \r\nC -0.795609 -3 -1.55874 -2.683901 -2.12132 -2.12132 \r\nC -2.683901 -1.55874 -3 -0.795609 -3 0 \r\nC -3 0.795609 -2.683901 1.55874 -2.12132 2.12132 \r\nC -1.55874 2.683901 -0.795609 3 0 3 \r\nz\r\n\" id=\"m2734f9eb95\" style=\"stroke:#ff0000;stroke-opacity:0.689655;\"/>\r\n    </defs>\r\n    <g clip-path=\"url(#p634c86d550)\">\r\n     <use style=\"fill:#ff0000;fill-opacity:0.689655;stroke:#ff0000;stroke-opacity:0.689655;\" x=\"383.599232\" xlink:href=\"#m2734f9eb95\" y=\"30.71488\"/>\r\n    </g>\r\n   </g>\r\n   <g id=\"PathCollection_24\">\r\n    <defs>\r\n     <path d=\"M 0 3 \r\nC 0.795609 3 1.55874 2.683901 2.12132 2.12132 \r\nC 2.683901 1.55874 3 0.795609 3 0 \r\nC 3 -0.795609 2.683901 -1.55874 2.12132 -2.12132 \r\nC 1.55874 -2.683901 0.795609 -3 0 -3 \r\nC -0.795609 -3 -1.55874 -2.683901 -2.12132 -2.12132 \r\nC -2.683901 -1.55874 -3 -0.795609 -3 0 \r\nC -3 0.795609 -2.683901 1.55874 -2.12132 2.12132 \r\nC -1.55874 2.683901 -0.795609 3 0 3 \r\nz\r\n\" id=\"mcd618bb2a7\" style=\"stroke:#ff0000;stroke-opacity:0.724138;\"/>\r\n    </defs>\r\n    <g clip-path=\"url(#p634c86d550)\">\r\n     <use style=\"fill:#ff0000;fill-opacity:0.724138;stroke:#ff0000;stroke-opacity:0.724138;\" x=\"385.795197\" xlink:href=\"#mcd618bb2a7\" y=\"26.967273\"/>\r\n    </g>\r\n   </g>\r\n   <g id=\"PathCollection_25\">\r\n    <defs>\r\n     <path d=\"M 0 3 \r\nC 0.795609 3 1.55874 2.683901 2.12132 2.12132 \r\nC 2.683901 1.55874 3 0.795609 3 0 \r\nC 3 -0.795609 2.683901 -1.55874 2.12132 -2.12132 \r\nC 1.55874 -2.683901 0.795609 -3 0 -3 \r\nC -0.795609 -3 -1.55874 -2.683901 -2.12132 -2.12132 \r\nC -2.683901 -1.55874 -3 -0.795609 -3 0 \r\nC -3 0.795609 -2.683901 1.55874 -2.12132 2.12132 \r\nC -1.55874 2.683901 -0.795609 3 0 3 \r\nz\r\n\" id=\"mb9e0e0e9f0\" style=\"stroke:#ff0000;stroke-opacity:0.758621;\"/>\r\n    </defs>\r\n    <g clip-path=\"url(#p634c86d550)\">\r\n     <use style=\"fill:#ff0000;fill-opacity:0.758621;stroke:#ff0000;stroke-opacity:0.758621;\" x=\"387.40431\" xlink:href=\"#mb9e0e0e9f0\" y=\"50.593495\"/>\r\n    </g>\r\n   </g>\r\n   <g id=\"PathCollection_26\">\r\n    <defs>\r\n     <path d=\"M 0 3 \r\nC 0.795609 3 1.55874 2.683901 2.12132 2.12132 \r\nC 2.683901 1.55874 3 0.795609 3 0 \r\nC 3 -0.795609 2.683901 -1.55874 2.12132 -2.12132 \r\nC 1.55874 -2.683901 0.795609 -3 0 -3 \r\nC -0.795609 -3 -1.55874 -2.683901 -2.12132 -2.12132 \r\nC -2.683901 -1.55874 -3 -0.795609 -3 0 \r\nC -3 0.795609 -2.683901 1.55874 -2.12132 2.12132 \r\nC -1.55874 2.683901 -0.795609 3 0 3 \r\nz\r\n\" id=\"mee634ca51e\" style=\"stroke:#ff0000;stroke-opacity:0.793103;\"/>\r\n    </defs>\r\n    <g clip-path=\"url(#p634c86d550)\">\r\n     <use style=\"fill:#ff0000;fill-opacity:0.793103;stroke:#ff0000;stroke-opacity:0.793103;\" x=\"386.325258\" xlink:href=\"#mee634ca51e\" y=\"42.555148\"/>\r\n    </g>\r\n   </g>\r\n   <g id=\"PathCollection_27\">\r\n    <defs>\r\n     <path d=\"M 0 3 \r\nC 0.795609 3 1.55874 2.683901 2.12132 2.12132 \r\nC 2.683901 1.55874 3 0.795609 3 0 \r\nC 3 -0.795609 2.683901 -1.55874 2.12132 -2.12132 \r\nC 1.55874 -2.683901 0.795609 -3 0 -3 \r\nC -0.795609 -3 -1.55874 -2.683901 -2.12132 -2.12132 \r\nC -2.683901 -1.55874 -3 -0.795609 -3 0 \r\nC -3 0.795609 -2.683901 1.55874 -2.12132 2.12132 \r\nC -1.55874 2.683901 -0.795609 3 0 3 \r\nz\r\n\" id=\"m2e035dba55\" style=\"stroke:#ff0000;stroke-opacity:0.827586;\"/>\r\n    </defs>\r\n    <g clip-path=\"url(#p634c86d550)\">\r\n     <use style=\"fill:#ff0000;fill-opacity:0.827586;stroke:#ff0000;stroke-opacity:0.827586;\" x=\"388.767323\" xlink:href=\"#m2e035dba55\" y=\"37.015206\"/>\r\n    </g>\r\n   </g>\r\n   <g id=\"PathCollection_28\">\r\n    <defs>\r\n     <path d=\"M 0 3 \r\nC 0.795609 3 1.55874 2.683901 2.12132 2.12132 \r\nC 2.683901 1.55874 3 0.795609 3 0 \r\nC 3 -0.795609 2.683901 -1.55874 2.12132 -2.12132 \r\nC 1.55874 -2.683901 0.795609 -3 0 -3 \r\nC -0.795609 -3 -1.55874 -2.683901 -2.12132 -2.12132 \r\nC -2.683901 -1.55874 -3 -0.795609 -3 0 \r\nC -3 0.795609 -2.683901 1.55874 -2.12132 2.12132 \r\nC -1.55874 2.683901 -0.795609 3 0 3 \r\nz\r\n\" id=\"m47ce3c4906\" style=\"stroke:#ff0000;stroke-opacity:0.862069;\"/>\r\n    </defs>\r\n    <g clip-path=\"url(#p634c86d550)\">\r\n     <use style=\"fill:#ff0000;fill-opacity:0.862069;stroke:#ff0000;stroke-opacity:0.862069;\" x=\"390.603604\" xlink:href=\"#m47ce3c4906\" y=\"49.12704\"/>\r\n    </g>\r\n   </g>\r\n   <g id=\"PathCollection_29\">\r\n    <defs>\r\n     <path d=\"M 0 3 \r\nC 0.795609 3 1.55874 2.683901 2.12132 2.12132 \r\nC 2.683901 1.55874 3 0.795609 3 0 \r\nC 3 -0.795609 2.683901 -1.55874 2.12132 -2.12132 \r\nC 1.55874 -2.683901 0.795609 -3 0 -3 \r\nC -0.795609 -3 -1.55874 -2.683901 -2.12132 -2.12132 \r\nC -2.683901 -1.55874 -3 -0.795609 -3 0 \r\nC -3 0.795609 -2.683901 1.55874 -2.12132 2.12132 \r\nC -1.55874 2.683901 -0.795609 3 0 3 \r\nz\r\n\" id=\"m25c9e7912f\" style=\"stroke:#ff0000;stroke-opacity:0.896552;\"/>\r\n    </defs>\r\n    <g clip-path=\"url(#p634c86d550)\">\r\n     <use style=\"fill:#ff0000;fill-opacity:0.896552;stroke:#ff0000;stroke-opacity:0.896552;\" x=\"391.739448\" xlink:href=\"#m25c9e7912f\" y=\"53.309153\"/>\r\n    </g>\r\n   </g>\r\n   <g id=\"PathCollection_30\">\r\n    <defs>\r\n     <path d=\"M 0 3 \r\nC 0.795609 3 1.55874 2.683901 2.12132 2.12132 \r\nC 2.683901 1.55874 3 0.795609 3 0 \r\nC 3 -0.795609 2.683901 -1.55874 2.12132 -2.12132 \r\nC 1.55874 -2.683901 0.795609 -3 0 -3 \r\nC -0.795609 -3 -1.55874 -2.683901 -2.12132 -2.12132 \r\nC -2.683901 -1.55874 -3 -0.795609 -3 0 \r\nC -3 0.795609 -2.683901 1.55874 -2.12132 2.12132 \r\nC -1.55874 2.683901 -0.795609 3 0 3 \r\nz\r\n\" id=\"m5c6ac1e49c\" style=\"stroke:#ff0000;stroke-opacity:0.931034;\"/>\r\n    </defs>\r\n    <g clip-path=\"url(#p634c86d550)\">\r\n     <use style=\"fill:#ff0000;fill-opacity:0.931034;stroke:#ff0000;stroke-opacity:0.931034;\" x=\"392.742777\" xlink:href=\"#m5c6ac1e49c\" y=\"57.491266\"/>\r\n    </g>\r\n   </g>\r\n   <g id=\"PathCollection_31\">\r\n    <defs>\r\n     <path d=\"M 0 3 \r\nC 0.795609 3 1.55874 2.683901 2.12132 2.12132 \r\nC 2.683901 1.55874 3 0.795609 3 0 \r\nC 3 -0.795609 2.683901 -1.55874 2.12132 -2.12132 \r\nC 1.55874 -2.683901 0.795609 -3 0 -3 \r\nC -0.795609 -3 -1.55874 -2.683901 -2.12132 -2.12132 \r\nC -2.683901 -1.55874 -3 -0.795609 -3 0 \r\nC -3 0.795609 -2.683901 1.55874 -2.12132 2.12132 \r\nC -1.55874 2.683901 -0.795609 3 0 3 \r\nz\r\n\" id=\"mb949bbf888\" style=\"stroke:#ff0000;stroke-opacity:0.965517;\"/>\r\n    </defs>\r\n    <g clip-path=\"url(#p634c86d550)\">\r\n     <use style=\"fill:#ff0000;fill-opacity:0.965517;stroke:#ff0000;stroke-opacity:0.965517;\" x=\"401.450916\" xlink:href=\"#mb949bbf888\" y=\"51.408192\"/>\r\n    </g>\r\n   </g>\r\n   <g id=\"PathCollection_32\">\r\n    <defs>\r\n     <path d=\"M 0 3 \r\nC 0.795609 3 1.55874 2.683901 2.12132 2.12132 \r\nC 2.683901 1.55874 3 0.795609 3 0 \r\nC 3 -0.795609 2.683901 -1.55874 2.12132 -2.12132 \r\nC 1.55874 -2.683901 0.795609 -3 0 -3 \r\nC -0.795609 -3 -1.55874 -2.683901 -2.12132 -2.12132 \r\nC -2.683901 -1.55874 -3 -0.795609 -3 0 \r\nC -3 0.795609 -2.683901 1.55874 -2.12132 2.12132 \r\nC -1.55874 2.683901 -0.795609 3 0 3 \r\nz\r\n\" id=\"m479bc0c7aa\" style=\"stroke:#ff0000;stroke-opacity:1;\"/>\r\n    </defs>\r\n    <g clip-path=\"url(#p634c86d550)\">\r\n     <use style=\"fill:#ff0000;fill-opacity:1;stroke:#ff0000;stroke-opacity:1;\" x=\"393.897552\" xlink:href=\"#m479bc0c7aa\" y=\"53.037587\"/>\r\n    </g>\r\n   </g>\r\n   <g id=\"PathCollection_33\">\r\n    <defs>\r\n     <path d=\"M 0 3 \r\nC 0.795609 3 1.55874 2.683901 2.12132 2.12132 \r\nC 2.683901 1.55874 3 0.795609 3 0 \r\nC 3 -0.795609 2.683901 -1.55874 2.12132 -2.12132 \r\nC 1.55874 -2.683901 0.795609 -3 0 -3 \r\nC -0.795609 -3 -1.55874 -2.683901 -2.12132 -2.12132 \r\nC -2.683901 -1.55874 -3 -0.795609 -3 0 \r\nC -3 0.795609 -2.683901 1.55874 -2.12132 2.12132 \r\nC -1.55874 2.683901 -0.795609 3 0 3 \r\nz\r\n\" id=\"m4e5745601c\" style=\"stroke:#ff0000;stroke-opacity:0.142857;\"/>\r\n    </defs>\r\n    <g clip-path=\"url(#p634c86d550)\">\r\n     <use style=\"fill:#ff0000;fill-opacity:0.142857;stroke:#ff0000;stroke-opacity:0.142857;\" x=\"444.878024\" xlink:href=\"#m4e5745601c\" y=\"241.286982\"/>\r\n    </g>\r\n   </g>\r\n   <g id=\"PathCollection_34\">\r\n    <defs>\r\n     <path d=\"M 0 3 \r\nC 0.795609 3 1.55874 2.683901 2.12132 2.12132 \r\nC 2.683901 1.55874 3 0.795609 3 0 \r\nC 3 -0.795609 2.683901 -1.55874 2.12132 -2.12132 \r\nC 1.55874 -2.683901 0.795609 -3 0 -3 \r\nC -0.795609 -3 -1.55874 -2.683901 -2.12132 -2.12132 \r\nC -2.683901 -1.55874 -3 -0.795609 -3 0 \r\nC -3 0.795609 -2.683901 1.55874 -2.12132 2.12132 \r\nC -1.55874 2.683901 -0.795609 3 0 3 \r\nz\r\n\" id=\"mf74c63e124\" style=\"stroke:#ff0000;stroke-opacity:0.285714;\"/>\r\n    </defs>\r\n    <g clip-path=\"url(#p634c86d550)\">\r\n     <use style=\"fill:#ff0000;fill-opacity:0.285714;stroke:#ff0000;stroke-opacity:0.285714;\" x=\"447.206504\" xlink:href=\"#mf74c63e124\" y=\"242.264619\"/>\r\n    </g>\r\n   </g>\r\n   <g id=\"PathCollection_35\">\r\n    <defs>\r\n     <path d=\"M 0 3 \r\nC 0.795609 3 1.55874 2.683901 2.12132 2.12132 \r\nC 2.683901 1.55874 3 0.795609 3 0 \r\nC 3 -0.795609 2.683901 -1.55874 2.12132 -2.12132 \r\nC 1.55874 -2.683901 0.795609 -3 0 -3 \r\nC -0.795609 -3 -1.55874 -2.683901 -2.12132 -2.12132 \r\nC -2.683901 -1.55874 -3 -0.795609 -3 0 \r\nC -3 0.795609 -2.683901 1.55874 -2.12132 2.12132 \r\nC -1.55874 2.683901 -0.795609 3 0 3 \r\nz\r\n\" id=\"mb58a65174e\" style=\"stroke:#ff0000;stroke-opacity:0.428571;\"/>\r\n    </defs>\r\n    <g clip-path=\"url(#p634c86d550)\">\r\n     <use style=\"fill:#ff0000;fill-opacity:0.428571;stroke:#ff0000;stroke-opacity:0.428571;\" x=\"443.969348\" xlink:href=\"#mb58a65174e\" y=\"240.146406\"/>\r\n    </g>\r\n   </g>\r\n   <g id=\"PathCollection_36\">\r\n    <defs>\r\n     <path d=\"M 0 3 \r\nC 0.795609 3 1.55874 2.683901 2.12132 2.12132 \r\nC 2.683901 1.55874 3 0.795609 3 0 \r\nC 3 -0.795609 2.683901 -1.55874 2.12132 -2.12132 \r\nC 1.55874 -2.683901 0.795609 -3 0 -3 \r\nC -0.795609 -3 -1.55874 -2.683901 -2.12132 -2.12132 \r\nC -2.683901 -1.55874 -3 -0.795609 -3 0 \r\nC -3 0.795609 -2.683901 1.55874 -2.12132 2.12132 \r\nC -1.55874 2.683901 -0.795609 3 0 3 \r\nz\r\n\" id=\"m5813adbc62\" style=\"stroke:#ff0000;stroke-opacity:0.571429;\"/>\r\n    </defs>\r\n    <g clip-path=\"url(#p634c86d550)\">\r\n     <use style=\"fill:#ff0000;fill-opacity:0.571429;stroke:#ff0000;stroke-opacity:0.571429;\" x=\"446.638582\" xlink:href=\"#m5813adbc62\" y=\"240.961103\"/>\r\n    </g>\r\n   </g>\r\n   <g id=\"PathCollection_37\">\r\n    <defs>\r\n     <path d=\"M 0 3 \r\nC 0.795609 3 1.55874 2.683901 2.12132 2.12132 \r\nC 2.683901 1.55874 3 0.795609 3 0 \r\nC 3 -0.795609 2.683901 -1.55874 2.12132 -2.12132 \r\nC 1.55874 -2.683901 0.795609 -3 0 -3 \r\nC -0.795609 -3 -1.55874 -2.683901 -2.12132 -2.12132 \r\nC -2.683901 -1.55874 -3 -0.795609 -3 0 \r\nC -3 0.795609 -2.683901 1.55874 -2.12132 2.12132 \r\nC -1.55874 2.683901 -0.795609 3 0 3 \r\nz\r\n\" id=\"m37d048b77f\" style=\"stroke:#ff0000;stroke-opacity:0.714286;\"/>\r\n    </defs>\r\n    <g clip-path=\"url(#p634c86d550)\">\r\n     <use style=\"fill:#ff0000;fill-opacity:0.714286;stroke:#ff0000;stroke-opacity:0.714286;\" x=\"444.480478\" xlink:href=\"#m37d048b77f\" y=\"232.216685\"/>\r\n    </g>\r\n   </g>\r\n   <g id=\"PathCollection_38\">\r\n    <defs>\r\n     <path d=\"M 0 3 \r\nC 0.795609 3 1.55874 2.683901 2.12132 2.12132 \r\nC 2.683901 1.55874 3 0.795609 3 0 \r\nC 3 -0.795609 2.683901 -1.55874 2.12132 -2.12132 \r\nC 1.55874 -2.683901 0.795609 -3 0 -3 \r\nC -0.795609 -3 -1.55874 -2.683901 -2.12132 -2.12132 \r\nC -2.683901 -1.55874 -3 -0.795609 -3 0 \r\nC -3 0.795609 -2.683901 1.55874 -2.12132 2.12132 \r\nC -1.55874 2.683901 -0.795609 3 0 3 \r\nz\r\n\" id=\"mce6c3efb60\" style=\"stroke:#ff0000;stroke-opacity:0.857143;\"/>\r\n    </defs>\r\n    <g clip-path=\"url(#p634c86d550)\">\r\n     <use style=\"fill:#ff0000;fill-opacity:0.857143;stroke:#ff0000;stroke-opacity:0.857143;\" x=\"447.471534\" xlink:href=\"#mce6c3efb60\" y=\"248.836511\"/>\r\n    </g>\r\n   </g>\r\n   <g id=\"PathCollection_39\">\r\n    <g clip-path=\"url(#p634c86d550)\">\r\n     <use style=\"fill:#ff0000;fill-opacity:1;stroke:#ff0000;stroke-opacity:1;\" x=\"467.93566\" xlink:href=\"#m479bc0c7aa\" y=\"405.801528\"/>\r\n    </g>\r\n   </g>\r\n   <g id=\"PathCollection_40\">\r\n    <defs>\r\n     <path d=\"M 0 3 \r\nC 0.795609 3 1.55874 2.683901 2.12132 2.12132 \r\nC 2.683901 1.55874 3 0.795609 3 0 \r\nC 3 -0.795609 2.683901 -1.55874 2.12132 -2.12132 \r\nC 1.55874 -2.683901 0.795609 -3 0 -3 \r\nC -0.795609 -3 -1.55874 -2.683901 -2.12132 -2.12132 \r\nC -2.683901 -1.55874 -3 -0.795609 -3 0 \r\nC -3 0.795609 -2.683901 1.55874 -2.12132 2.12132 \r\nC -1.55874 2.683901 -0.795609 3 0 3 \r\nz\r\n\" id=\"m201c6e0945\" style=\"stroke:#ff0000;stroke-opacity:0.5;\"/>\r\n    </defs>\r\n    <g clip-path=\"url(#p634c86d550)\">\r\n     <use style=\"fill:#ff0000;fill-opacity:0.5;stroke:#ff0000;stroke-opacity:0.5;\" x=\"475.299716\" xlink:href=\"#m201c6e0945\" y=\"277.187977\"/>\r\n    </g>\r\n   </g>\r\n   <g id=\"PathCollection_41\">\r\n    <defs>\r\n     <path d=\"M 0 3 \r\nC 0.795609 3 1.55874 2.683901 2.12132 2.12132 \r\nC 2.683901 1.55874 3 0.795609 3 0 \r\nC 3 -0.795609 2.683901 -1.55874 2.12132 -2.12132 \r\nC 1.55874 -2.683901 0.795609 -3 0 -3 \r\nC -0.795609 -3 -1.55874 -2.683901 -2.12132 -2.12132 \r\nC -2.683901 -1.55874 -3 -0.795609 -3 0 \r\nC -3 0.795609 -2.683901 1.55874 -2.12132 2.12132 \r\nC -1.55874 2.683901 -0.795609 3 0 3 \r\nz\r\n\" id=\"md3df56f94c\" style=\"stroke:#ff0000;\"/>\r\n    </defs>\r\n    <g clip-path=\"url(#p634c86d550)\">\r\n     <use style=\"fill:#ff0000;stroke:#ff0000;\" x=\"447.017197\" xlink:href=\"#md3df56f94c\" y=\"243.513821\"/>\r\n    </g>\r\n   </g>\r\n   <g id=\"matplotlib.axis_1\">\r\n    <g id=\"xtick_1\">\r\n     <g id=\"line2d_1\">\r\n      <defs>\r\n       <path d=\"M 0 0 \r\nL 0 3.5 \r\n\" id=\"m7e96f63827\" style=\"stroke:#000000;stroke-width:0.8;\"/>\r\n      </defs>\r\n      <g>\r\n       <use style=\"stroke:#000000;stroke-width:0.8;\" x=\"133.069875\" xlink:href=\"#m7e96f63827\" y=\"442.08\"/>\r\n      </g>\r\n     </g>\r\n     <g id=\"text_1\">\r\n      <!-- 0.085 -->\r\n      <g transform=\"translate(118.755813 456.678437)scale(0.1 -0.1)\">\r\n       <defs>\r\n        <path d=\"M 31.78125 66.40625 \r\nQ 24.171875 66.40625 20.328125 58.90625 \r\nQ 16.5 51.421875 16.5 36.375 \r\nQ 16.5 21.390625 20.328125 13.890625 \r\nQ 24.171875 6.390625 31.78125 6.390625 \r\nQ 39.453125 6.390625 43.28125 13.890625 \r\nQ 47.125 21.390625 47.125 36.375 \r\nQ 47.125 51.421875 43.28125 58.90625 \r\nQ 39.453125 66.40625 31.78125 66.40625 \r\nz\r\nM 31.78125 74.21875 \r\nQ 44.046875 74.21875 50.515625 64.515625 \r\nQ 56.984375 54.828125 56.984375 36.375 \r\nQ 56.984375 17.96875 50.515625 8.265625 \r\nQ 44.046875 -1.421875 31.78125 -1.421875 \r\nQ 19.53125 -1.421875 13.0625 8.265625 \r\nQ 6.59375 17.96875 6.59375 36.375 \r\nQ 6.59375 54.828125 13.0625 64.515625 \r\nQ 19.53125 74.21875 31.78125 74.21875 \r\nz\r\n\" id=\"DejaVuSans-48\"/>\r\n        <path d=\"M 10.6875 12.40625 \r\nL 21 12.40625 \r\nL 21 0 \r\nL 10.6875 0 \r\nz\r\n\" id=\"DejaVuSans-46\"/>\r\n        <path d=\"M 31.78125 34.625 \r\nQ 24.75 34.625 20.71875 30.859375 \r\nQ 16.703125 27.09375 16.703125 20.515625 \r\nQ 16.703125 13.921875 20.71875 10.15625 \r\nQ 24.75 6.390625 31.78125 6.390625 \r\nQ 38.8125 6.390625 42.859375 10.171875 \r\nQ 46.921875 13.96875 46.921875 20.515625 \r\nQ 46.921875 27.09375 42.890625 30.859375 \r\nQ 38.875 34.625 31.78125 34.625 \r\nz\r\nM 21.921875 38.8125 \r\nQ 15.578125 40.375 12.03125 44.71875 \r\nQ 8.5 49.078125 8.5 55.328125 \r\nQ 8.5 64.0625 14.71875 69.140625 \r\nQ 20.953125 74.21875 31.78125 74.21875 \r\nQ 42.671875 74.21875 48.875 69.140625 \r\nQ 55.078125 64.0625 55.078125 55.328125 \r\nQ 55.078125 49.078125 51.53125 44.71875 \r\nQ 48 40.375 41.703125 38.8125 \r\nQ 48.828125 37.15625 52.796875 32.3125 \r\nQ 56.78125 27.484375 56.78125 20.515625 \r\nQ 56.78125 9.90625 50.3125 4.234375 \r\nQ 43.84375 -1.421875 31.78125 -1.421875 \r\nQ 19.734375 -1.421875 13.25 4.234375 \r\nQ 6.78125 9.90625 6.78125 20.515625 \r\nQ 6.78125 27.484375 10.78125 32.3125 \r\nQ 14.796875 37.15625 21.921875 38.8125 \r\nz\r\nM 18.3125 54.390625 \r\nQ 18.3125 48.734375 21.84375 45.5625 \r\nQ 25.390625 42.390625 31.78125 42.390625 \r\nQ 38.140625 42.390625 41.71875 45.5625 \r\nQ 45.3125 48.734375 45.3125 54.390625 \r\nQ 45.3125 60.0625 41.71875 63.234375 \r\nQ 38.140625 66.40625 31.78125 66.40625 \r\nQ 25.390625 66.40625 21.84375 63.234375 \r\nQ 18.3125 60.0625 18.3125 54.390625 \r\nz\r\n\" id=\"DejaVuSans-56\"/>\r\n        <path d=\"M 10.796875 72.90625 \r\nL 49.515625 72.90625 \r\nL 49.515625 64.59375 \r\nL 19.828125 64.59375 \r\nL 19.828125 46.734375 \r\nQ 21.96875 47.46875 24.109375 47.828125 \r\nQ 26.265625 48.1875 28.421875 48.1875 \r\nQ 40.625 48.1875 47.75 41.5 \r\nQ 54.890625 34.8125 54.890625 23.390625 \r\nQ 54.890625 11.625 47.5625 5.09375 \r\nQ 40.234375 -1.421875 26.90625 -1.421875 \r\nQ 22.3125 -1.421875 17.546875 -0.640625 \r\nQ 12.796875 0.140625 7.71875 1.703125 \r\nL 7.71875 11.625 \r\nQ 12.109375 9.234375 16.796875 8.0625 \r\nQ 21.484375 6.890625 26.703125 6.890625 \r\nQ 35.15625 6.890625 40.078125 11.328125 \r\nQ 45.015625 15.765625 45.015625 23.390625 \r\nQ 45.015625 31 40.078125 35.4375 \r\nQ 35.15625 39.890625 26.703125 39.890625 \r\nQ 22.75 39.890625 18.8125 39.015625 \r\nQ 14.890625 38.140625 10.796875 36.28125 \r\nz\r\n\" id=\"DejaVuSans-53\"/>\r\n       </defs>\r\n       <use xlink:href=\"#DejaVuSans-48\"/>\r\n       <use x=\"63.623047\" xlink:href=\"#DejaVuSans-46\"/>\r\n       <use x=\"95.410156\" xlink:href=\"#DejaVuSans-48\"/>\r\n       <use x=\"159.033203\" xlink:href=\"#DejaVuSans-56\"/>\r\n       <use x=\"222.65625\" xlink:href=\"#DejaVuSans-53\"/>\r\n      </g>\r\n     </g>\r\n    </g>\r\n    <g id=\"xtick_2\">\r\n     <g id=\"line2d_2\">\r\n      <g>\r\n       <use style=\"stroke:#000000;stroke-width:0.8;\" x=\"227.723554\" xlink:href=\"#m7e96f63827\" y=\"442.08\"/>\r\n      </g>\r\n     </g>\r\n     <g id=\"text_2\">\r\n      <!-- 0.090 -->\r\n      <g transform=\"translate(213.409492 456.678437)scale(0.1 -0.1)\">\r\n       <defs>\r\n        <path d=\"M 10.984375 1.515625 \r\nL 10.984375 10.5 \r\nQ 14.703125 8.734375 18.5 7.8125 \r\nQ 22.3125 6.890625 25.984375 6.890625 \r\nQ 35.75 6.890625 40.890625 13.453125 \r\nQ 46.046875 20.015625 46.78125 33.40625 \r\nQ 43.953125 29.203125 39.59375 26.953125 \r\nQ 35.25 24.703125 29.984375 24.703125 \r\nQ 19.046875 24.703125 12.671875 31.3125 \r\nQ 6.296875 37.9375 6.296875 49.421875 \r\nQ 6.296875 60.640625 12.9375 67.421875 \r\nQ 19.578125 74.21875 30.609375 74.21875 \r\nQ 43.265625 74.21875 49.921875 64.515625 \r\nQ 56.59375 54.828125 56.59375 36.375 \r\nQ 56.59375 19.140625 48.40625 8.859375 \r\nQ 40.234375 -1.421875 26.421875 -1.421875 \r\nQ 22.703125 -1.421875 18.890625 -0.6875 \r\nQ 15.09375 0.046875 10.984375 1.515625 \r\nz\r\nM 30.609375 32.421875 \r\nQ 37.25 32.421875 41.125 36.953125 \r\nQ 45.015625 41.5 45.015625 49.421875 \r\nQ 45.015625 57.28125 41.125 61.84375 \r\nQ 37.25 66.40625 30.609375 66.40625 \r\nQ 23.96875 66.40625 20.09375 61.84375 \r\nQ 16.21875 57.28125 16.21875 49.421875 \r\nQ 16.21875 41.5 20.09375 36.953125 \r\nQ 23.96875 32.421875 30.609375 32.421875 \r\nz\r\n\" id=\"DejaVuSans-57\"/>\r\n       </defs>\r\n       <use xlink:href=\"#DejaVuSans-48\"/>\r\n       <use x=\"63.623047\" xlink:href=\"#DejaVuSans-46\"/>\r\n       <use x=\"95.410156\" xlink:href=\"#DejaVuSans-48\"/>\r\n       <use x=\"159.033203\" xlink:href=\"#DejaVuSans-57\"/>\r\n       <use x=\"222.65625\" xlink:href=\"#DejaVuSans-48\"/>\r\n      </g>\r\n     </g>\r\n    </g>\r\n    <g id=\"xtick_3\">\r\n     <g id=\"line2d_3\">\r\n      <g>\r\n       <use style=\"stroke:#000000;stroke-width:0.8;\" x=\"322.377233\" xlink:href=\"#m7e96f63827\" y=\"442.08\"/>\r\n      </g>\r\n     </g>\r\n     <g id=\"text_3\">\r\n      <!-- 0.095 -->\r\n      <g transform=\"translate(308.06317 456.678437)scale(0.1 -0.1)\">\r\n       <use xlink:href=\"#DejaVuSans-48\"/>\r\n       <use x=\"63.623047\" xlink:href=\"#DejaVuSans-46\"/>\r\n       <use x=\"95.410156\" xlink:href=\"#DejaVuSans-48\"/>\r\n       <use x=\"159.033203\" xlink:href=\"#DejaVuSans-57\"/>\r\n       <use x=\"222.65625\" xlink:href=\"#DejaVuSans-53\"/>\r\n      </g>\r\n     </g>\r\n    </g>\r\n    <g id=\"xtick_4\">\r\n     <g id=\"line2d_4\">\r\n      <g>\r\n       <use style=\"stroke:#000000;stroke-width:0.8;\" x=\"417.030911\" xlink:href=\"#m7e96f63827\" y=\"442.08\"/>\r\n      </g>\r\n     </g>\r\n     <g id=\"text_4\">\r\n      <!-- 0.100 -->\r\n      <g transform=\"translate(402.716849 456.678437)scale(0.1 -0.1)\">\r\n       <defs>\r\n        <path d=\"M 12.40625 8.296875 \r\nL 28.515625 8.296875 \r\nL 28.515625 63.921875 \r\nL 10.984375 60.40625 \r\nL 10.984375 69.390625 \r\nL 28.421875 72.90625 \r\nL 38.28125 72.90625 \r\nL 38.28125 8.296875 \r\nL 54.390625 8.296875 \r\nL 54.390625 0 \r\nL 12.40625 0 \r\nz\r\n\" id=\"DejaVuSans-49\"/>\r\n       </defs>\r\n       <use xlink:href=\"#DejaVuSans-48\"/>\r\n       <use x=\"63.623047\" xlink:href=\"#DejaVuSans-46\"/>\r\n       <use x=\"95.410156\" xlink:href=\"#DejaVuSans-49\"/>\r\n       <use x=\"159.033203\" xlink:href=\"#DejaVuSans-48\"/>\r\n       <use x=\"222.65625\" xlink:href=\"#DejaVuSans-48\"/>\r\n      </g>\r\n     </g>\r\n    </g>\r\n    <g id=\"text_5\">\r\n     <!-- +1.18e2 -->\r\n     <g transform=\"translate(452.429688 469.356562)scale(0.1 -0.1)\">\r\n      <defs>\r\n       <path d=\"M 46 62.703125 \r\nL 46 35.5 \r\nL 73.1875 35.5 \r\nL 73.1875 27.203125 \r\nL 46 27.203125 \r\nL 46 0 \r\nL 37.796875 0 \r\nL 37.796875 27.203125 \r\nL 10.59375 27.203125 \r\nL 10.59375 35.5 \r\nL 37.796875 35.5 \r\nL 37.796875 62.703125 \r\nz\r\n\" id=\"DejaVuSans-43\"/>\r\n       <path d=\"M 56.203125 29.59375 \r\nL 56.203125 25.203125 \r\nL 14.890625 25.203125 \r\nQ 15.484375 15.921875 20.484375 11.0625 \r\nQ 25.484375 6.203125 34.421875 6.203125 \r\nQ 39.59375 6.203125 44.453125 7.46875 \r\nQ 49.3125 8.734375 54.109375 11.28125 \r\nL 54.109375 2.78125 \r\nQ 49.265625 0.734375 44.1875 -0.34375 \r\nQ 39.109375 -1.421875 33.890625 -1.421875 \r\nQ 20.796875 -1.421875 13.15625 6.1875 \r\nQ 5.515625 13.8125 5.515625 26.8125 \r\nQ 5.515625 40.234375 12.765625 48.109375 \r\nQ 20.015625 56 32.328125 56 \r\nQ 43.359375 56 49.78125 48.890625 \r\nQ 56.203125 41.796875 56.203125 29.59375 \r\nz\r\nM 47.21875 32.234375 \r\nQ 47.125 39.59375 43.09375 43.984375 \r\nQ 39.0625 48.390625 32.421875 48.390625 \r\nQ 24.90625 48.390625 20.390625 44.140625 \r\nQ 15.875 39.890625 15.1875 32.171875 \r\nz\r\n\" id=\"DejaVuSans-101\"/>\r\n       <path d=\"M 19.1875 8.296875 \r\nL 53.609375 8.296875 \r\nL 53.609375 0 \r\nL 7.328125 0 \r\nL 7.328125 8.296875 \r\nQ 12.9375 14.109375 22.625 23.890625 \r\nQ 32.328125 33.6875 34.8125 36.53125 \r\nQ 39.546875 41.84375 41.421875 45.53125 \r\nQ 43.3125 49.21875 43.3125 52.78125 \r\nQ 43.3125 58.59375 39.234375 62.25 \r\nQ 35.15625 65.921875 28.609375 65.921875 \r\nQ 23.96875 65.921875 18.8125 64.3125 \r\nQ 13.671875 62.703125 7.8125 59.421875 \r\nL 7.8125 69.390625 \r\nQ 13.765625 71.78125 18.9375 73 \r\nQ 24.125 74.21875 28.421875 74.21875 \r\nQ 39.75 74.21875 46.484375 68.546875 \r\nQ 53.21875 62.890625 53.21875 53.421875 \r\nQ 53.21875 48.921875 51.53125 44.890625 \r\nQ 49.859375 40.875 45.40625 35.40625 \r\nQ 44.1875 33.984375 37.640625 27.21875 \r\nQ 31.109375 20.453125 19.1875 8.296875 \r\nz\r\n\" id=\"DejaVuSans-50\"/>\r\n      </defs>\r\n      <use xlink:href=\"#DejaVuSans-43\"/>\r\n      <use x=\"83.789062\" xlink:href=\"#DejaVuSans-49\"/>\r\n      <use x=\"147.412109\" xlink:href=\"#DejaVuSans-46\"/>\r\n      <use x=\"179.199219\" xlink:href=\"#DejaVuSans-49\"/>\r\n      <use x=\"242.822266\" xlink:href=\"#DejaVuSans-56\"/>\r\n      <use x=\"306.445312\" xlink:href=\"#DejaVuSans-101\"/>\r\n      <use x=\"367.96875\" xlink:href=\"#DejaVuSans-50\"/>\r\n     </g>\r\n    </g>\r\n   </g>\r\n   <g id=\"matplotlib.axis_2\">\r\n    <g id=\"ytick_1\">\r\n     <g id=\"line2d_5\">\r\n      <defs>\r\n       <path d=\"M 0 0 \r\nL -3.5 0 \r\n\" id=\"ma54b0f49aa\" style=\"stroke:#000000;stroke-width:0.8;\"/>\r\n      </defs>\r\n      <g>\r\n       <use style=\"stroke:#000000;stroke-width:0.8;\" x=\"49.190625\" xlink:href=\"#ma54b0f49aa\" y=\"436.542774\"/>\r\n      </g>\r\n     </g>\r\n     <g id=\"text_6\">\r\n      <!-- 24.469 -->\r\n      <g transform=\"translate(7.2 440.341993)scale(0.1 -0.1)\">\r\n       <defs>\r\n        <path d=\"M 37.796875 64.3125 \r\nL 12.890625 25.390625 \r\nL 37.796875 25.390625 \r\nz\r\nM 35.203125 72.90625 \r\nL 47.609375 72.90625 \r\nL 47.609375 25.390625 \r\nL 58.015625 25.390625 \r\nL 58.015625 17.1875 \r\nL 47.609375 17.1875 \r\nL 47.609375 0 \r\nL 37.796875 0 \r\nL 37.796875 17.1875 \r\nL 4.890625 17.1875 \r\nL 4.890625 26.703125 \r\nz\r\n\" id=\"DejaVuSans-52\"/>\r\n        <path d=\"M 33.015625 40.375 \r\nQ 26.375 40.375 22.484375 35.828125 \r\nQ 18.609375 31.296875 18.609375 23.390625 \r\nQ 18.609375 15.53125 22.484375 10.953125 \r\nQ 26.375 6.390625 33.015625 6.390625 \r\nQ 39.65625 6.390625 43.53125 10.953125 \r\nQ 47.40625 15.53125 47.40625 23.390625 \r\nQ 47.40625 31.296875 43.53125 35.828125 \r\nQ 39.65625 40.375 33.015625 40.375 \r\nz\r\nM 52.59375 71.296875 \r\nL 52.59375 62.3125 \r\nQ 48.875 64.0625 45.09375 64.984375 \r\nQ 41.3125 65.921875 37.59375 65.921875 \r\nQ 27.828125 65.921875 22.671875 59.328125 \r\nQ 17.53125 52.734375 16.796875 39.40625 \r\nQ 19.671875 43.65625 24.015625 45.921875 \r\nQ 28.375 48.1875 33.59375 48.1875 \r\nQ 44.578125 48.1875 50.953125 41.515625 \r\nQ 57.328125 34.859375 57.328125 23.390625 \r\nQ 57.328125 12.15625 50.6875 5.359375 \r\nQ 44.046875 -1.421875 33.015625 -1.421875 \r\nQ 20.359375 -1.421875 13.671875 8.265625 \r\nQ 6.984375 17.96875 6.984375 36.375 \r\nQ 6.984375 53.65625 15.1875 63.9375 \r\nQ 23.390625 74.21875 37.203125 74.21875 \r\nQ 40.921875 74.21875 44.703125 73.484375 \r\nQ 48.484375 72.75 52.59375 71.296875 \r\nz\r\n\" id=\"DejaVuSans-54\"/>\r\n       </defs>\r\n       <use xlink:href=\"#DejaVuSans-50\"/>\r\n       <use x=\"63.623047\" xlink:href=\"#DejaVuSans-52\"/>\r\n       <use x=\"127.246094\" xlink:href=\"#DejaVuSans-46\"/>\r\n       <use x=\"159.033203\" xlink:href=\"#DejaVuSans-52\"/>\r\n       <use x=\"222.65625\" xlink:href=\"#DejaVuSans-54\"/>\r\n       <use x=\"286.279297\" xlink:href=\"#DejaVuSans-57\"/>\r\n      </g>\r\n     </g>\r\n    </g>\r\n    <g id=\"ytick_2\">\r\n     <g id=\"line2d_6\">\r\n      <g>\r\n       <use style=\"stroke:#000000;stroke-width:0.8;\" x=\"49.190625\" xlink:href=\"#ma54b0f49aa\" y=\"382.229619\"/>\r\n      </g>\r\n     </g>\r\n     <g id=\"text_7\">\r\n      <!-- 24.470 -->\r\n      <g transform=\"translate(7.2 386.028838)scale(0.1 -0.1)\">\r\n       <defs>\r\n        <path d=\"M 8.203125 72.90625 \r\nL 55.078125 72.90625 \r\nL 55.078125 68.703125 \r\nL 28.609375 0 \r\nL 18.3125 0 \r\nL 43.21875 64.59375 \r\nL 8.203125 64.59375 \r\nz\r\n\" id=\"DejaVuSans-55\"/>\r\n       </defs>\r\n       <use xlink:href=\"#DejaVuSans-50\"/>\r\n       <use x=\"63.623047\" xlink:href=\"#DejaVuSans-52\"/>\r\n       <use x=\"127.246094\" xlink:href=\"#DejaVuSans-46\"/>\r\n       <use x=\"159.033203\" xlink:href=\"#DejaVuSans-52\"/>\r\n       <use x=\"222.65625\" xlink:href=\"#DejaVuSans-55\"/>\r\n       <use x=\"286.279297\" xlink:href=\"#DejaVuSans-48\"/>\r\n      </g>\r\n     </g>\r\n    </g>\r\n    <g id=\"ytick_3\">\r\n     <g id=\"line2d_7\">\r\n      <g>\r\n       <use style=\"stroke:#000000;stroke-width:0.8;\" x=\"49.190625\" xlink:href=\"#ma54b0f49aa\" y=\"327.916464\"/>\r\n      </g>\r\n     </g>\r\n     <g id=\"text_8\">\r\n      <!-- 24.471 -->\r\n      <g transform=\"translate(7.2 331.715683)scale(0.1 -0.1)\">\r\n       <use xlink:href=\"#DejaVuSans-50\"/>\r\n       <use x=\"63.623047\" xlink:href=\"#DejaVuSans-52\"/>\r\n       <use x=\"127.246094\" xlink:href=\"#DejaVuSans-46\"/>\r\n       <use x=\"159.033203\" xlink:href=\"#DejaVuSans-52\"/>\r\n       <use x=\"222.65625\" xlink:href=\"#DejaVuSans-55\"/>\r\n       <use x=\"286.279297\" xlink:href=\"#DejaVuSans-49\"/>\r\n      </g>\r\n     </g>\r\n    </g>\r\n    <g id=\"ytick_4\">\r\n     <g id=\"line2d_8\">\r\n      <g>\r\n       <use style=\"stroke:#000000;stroke-width:0.8;\" x=\"49.190625\" xlink:href=\"#ma54b0f49aa\" y=\"273.603309\"/>\r\n      </g>\r\n     </g>\r\n     <g id=\"text_9\">\r\n      <!-- 24.472 -->\r\n      <g transform=\"translate(7.2 277.402528)scale(0.1 -0.1)\">\r\n       <use xlink:href=\"#DejaVuSans-50\"/>\r\n       <use x=\"63.623047\" xlink:href=\"#DejaVuSans-52\"/>\r\n       <use x=\"127.246094\" xlink:href=\"#DejaVuSans-46\"/>\r\n       <use x=\"159.033203\" xlink:href=\"#DejaVuSans-52\"/>\r\n       <use x=\"222.65625\" xlink:href=\"#DejaVuSans-55\"/>\r\n       <use x=\"286.279297\" xlink:href=\"#DejaVuSans-50\"/>\r\n      </g>\r\n     </g>\r\n    </g>\r\n    <g id=\"ytick_5\">\r\n     <g id=\"line2d_9\">\r\n      <g>\r\n       <use style=\"stroke:#000000;stroke-width:0.8;\" x=\"49.190625\" xlink:href=\"#ma54b0f49aa\" y=\"219.290154\"/>\r\n      </g>\r\n     </g>\r\n     <g id=\"text_10\">\r\n      <!-- 24.473 -->\r\n      <g transform=\"translate(7.2 223.089373)scale(0.1 -0.1)\">\r\n       <defs>\r\n        <path d=\"M 40.578125 39.3125 \r\nQ 47.65625 37.796875 51.625 33 \r\nQ 55.609375 28.21875 55.609375 21.1875 \r\nQ 55.609375 10.40625 48.1875 4.484375 \r\nQ 40.765625 -1.421875 27.09375 -1.421875 \r\nQ 22.515625 -1.421875 17.65625 -0.515625 \r\nQ 12.796875 0.390625 7.625 2.203125 \r\nL 7.625 11.71875 \r\nQ 11.71875 9.328125 16.59375 8.109375 \r\nQ 21.484375 6.890625 26.8125 6.890625 \r\nQ 36.078125 6.890625 40.9375 10.546875 \r\nQ 45.796875 14.203125 45.796875 21.1875 \r\nQ 45.796875 27.640625 41.28125 31.265625 \r\nQ 36.765625 34.90625 28.71875 34.90625 \r\nL 20.21875 34.90625 \r\nL 20.21875 43.015625 \r\nL 29.109375 43.015625 \r\nQ 36.375 43.015625 40.234375 45.921875 \r\nQ 44.09375 48.828125 44.09375 54.296875 \r\nQ 44.09375 59.90625 40.109375 62.90625 \r\nQ 36.140625 65.921875 28.71875 65.921875 \r\nQ 24.65625 65.921875 20.015625 65.03125 \r\nQ 15.375 64.15625 9.8125 62.3125 \r\nL 9.8125 71.09375 \r\nQ 15.4375 72.65625 20.34375 73.4375 \r\nQ 25.25 74.21875 29.59375 74.21875 \r\nQ 40.828125 74.21875 47.359375 69.109375 \r\nQ 53.90625 64.015625 53.90625 55.328125 \r\nQ 53.90625 49.265625 50.4375 45.09375 \r\nQ 46.96875 40.921875 40.578125 39.3125 \r\nz\r\n\" id=\"DejaVuSans-51\"/>\r\n       </defs>\r\n       <use xlink:href=\"#DejaVuSans-50\"/>\r\n       <use x=\"63.623047\" xlink:href=\"#DejaVuSans-52\"/>\r\n       <use x=\"127.246094\" xlink:href=\"#DejaVuSans-46\"/>\r\n       <use x=\"159.033203\" xlink:href=\"#DejaVuSans-52\"/>\r\n       <use x=\"222.65625\" xlink:href=\"#DejaVuSans-55\"/>\r\n       <use x=\"286.279297\" xlink:href=\"#DejaVuSans-51\"/>\r\n      </g>\r\n     </g>\r\n    </g>\r\n    <g id=\"ytick_6\">\r\n     <g id=\"line2d_10\">\r\n      <g>\r\n       <use style=\"stroke:#000000;stroke-width:0.8;\" x=\"49.190625\" xlink:href=\"#ma54b0f49aa\" y=\"164.976999\"/>\r\n      </g>\r\n     </g>\r\n     <g id=\"text_11\">\r\n      <!-- 24.474 -->\r\n      <g transform=\"translate(7.2 168.776218)scale(0.1 -0.1)\">\r\n       <use xlink:href=\"#DejaVuSans-50\"/>\r\n       <use x=\"63.623047\" xlink:href=\"#DejaVuSans-52\"/>\r\n       <use x=\"127.246094\" xlink:href=\"#DejaVuSans-46\"/>\r\n       <use x=\"159.033203\" xlink:href=\"#DejaVuSans-52\"/>\r\n       <use x=\"222.65625\" xlink:href=\"#DejaVuSans-55\"/>\r\n       <use x=\"286.279297\" xlink:href=\"#DejaVuSans-52\"/>\r\n      </g>\r\n     </g>\r\n    </g>\r\n    <g id=\"ytick_7\">\r\n     <g id=\"line2d_11\">\r\n      <g>\r\n       <use style=\"stroke:#000000;stroke-width:0.8;\" x=\"49.190625\" xlink:href=\"#ma54b0f49aa\" y=\"110.663844\"/>\r\n      </g>\r\n     </g>\r\n     <g id=\"text_12\">\r\n      <!-- 24.475 -->\r\n      <g transform=\"translate(7.2 114.463063)scale(0.1 -0.1)\">\r\n       <use xlink:href=\"#DejaVuSans-50\"/>\r\n       <use x=\"63.623047\" xlink:href=\"#DejaVuSans-52\"/>\r\n       <use x=\"127.246094\" xlink:href=\"#DejaVuSans-46\"/>\r\n       <use x=\"159.033203\" xlink:href=\"#DejaVuSans-52\"/>\r\n       <use x=\"222.65625\" xlink:href=\"#DejaVuSans-55\"/>\r\n       <use x=\"286.279297\" xlink:href=\"#DejaVuSans-53\"/>\r\n      </g>\r\n     </g>\r\n    </g>\r\n    <g id=\"ytick_8\">\r\n     <g id=\"line2d_12\">\r\n      <g>\r\n       <use style=\"stroke:#000000;stroke-width:0.8;\" x=\"49.190625\" xlink:href=\"#ma54b0f49aa\" y=\"56.35069\"/>\r\n      </g>\r\n     </g>\r\n     <g id=\"text_13\">\r\n      <!-- 24.476 -->\r\n      <g transform=\"translate(7.2 60.149908)scale(0.1 -0.1)\">\r\n       <use xlink:href=\"#DejaVuSans-50\"/>\r\n       <use x=\"63.623047\" xlink:href=\"#DejaVuSans-52\"/>\r\n       <use x=\"127.246094\" xlink:href=\"#DejaVuSans-46\"/>\r\n       <use x=\"159.033203\" xlink:href=\"#DejaVuSans-52\"/>\r\n       <use x=\"222.65625\" xlink:href=\"#DejaVuSans-55\"/>\r\n       <use x=\"286.279297\" xlink:href=\"#DejaVuSans-54\"/>\r\n      </g>\r\n     </g>\r\n    </g>\r\n   </g>\r\n   <g id=\"patch_3\">\r\n    <path d=\"M 49.190625 442.08 \r\nL 49.190625 7.2 \r\n\" style=\"fill:none;stroke:#000000;stroke-linecap:square;stroke-linejoin:miter;stroke-width:0.8;\"/>\r\n   </g>\r\n   <g id=\"patch_4\">\r\n    <path d=\"M 495.590625 442.08 \r\nL 495.590625 7.2 \r\n\" style=\"fill:none;stroke:#000000;stroke-linecap:square;stroke-linejoin:miter;stroke-width:0.8;\"/>\r\n   </g>\r\n   <g id=\"patch_5\">\r\n    <path d=\"M 49.190625 442.08 \r\nL 495.590625 442.08 \r\n\" style=\"fill:none;stroke:#000000;stroke-linecap:square;stroke-linejoin:miter;stroke-width:0.8;\"/>\r\n   </g>\r\n   <g id=\"patch_6\">\r\n    <path d=\"M 49.190625 7.2 \r\nL 495.590625 7.2 \r\n\" style=\"fill:none;stroke:#000000;stroke-linecap:square;stroke-linejoin:miter;stroke-width:0.8;\"/>\r\n   </g>\r\n  </g>\r\n </g>\r\n <defs>\r\n  <clipPath id=\"p634c86d550\">\r\n   <rect height=\"434.88\" width=\"446.4\" x=\"49.190625\" y=\"7.2\"/>\r\n  </clipPath>\r\n </defs>\r\n</svg>\r\n",
      "image/png": "[encoded data removed]"
     },
     "metadata": {
      "needs_background": "light"
     }
    }
   ],
   "source": [
    "lock_data = {'longitudes':[], 'latitudes': [], 'transparency': []}\n",
    "unlock_data = {'longitudes':[], 'latitudes': [], 'transparency': []}\n",
    "last_status = None #前一行开关锁状态\n",
    "tmp_saving_idx = []\n",
    "\n",
    "for idx in range(len(abnormal_example)):\n",
    "    cur_status = abnormal_example['LOCK_STATUS'].iloc[idx]\n",
    "    if cur_status == last_status or idx == 0:\n",
    "        tmp_saving_idx.append(idx)\n",
    "    else: #如果状态变化\n",
    "        step = 1/len(tmp_saving_idx) if tmp_saving_idx else 1\n",
    "        if cur_status == 0: #如果当前状态是开锁,即在tmp_saving_idx中保留的数据状态是关锁, 则关锁的数据应随时间增加变深\n",
    "            cur_trans = 1\n",
    "            while tmp_saving_idx:\n",
    "                curidx = tmp_saving_idx.pop()\n",
    "                lock_data['longitudes'].append(abnormal_example['LONGITUDE'].iloc[curidx])\n",
    "                lock_data['latitudes'].append(abnormal_example['LATITUDE'].iloc[curidx])\n",
    "                lock_data['transparency'].append(cur_trans)\n",
    "                cur_trans -= step\n",
    "        else:\n",
    "            cur_trans = step\n",
    "            while tmp_saving_idx:\n",
    "                curidx = tmp_saving_idx.pop()\n",
    "                unlock_data['longitudes'].append(abnormal_example['LONGITUDE'].iloc[curidx])\n",
    "                unlock_data['latitudes'].append(abnormal_example['LATITUDE'].iloc[curidx])\n",
    "                unlock_data['transparency'].append(min(1, cur_trans)) # prevent from overflow\n",
    "                cur_trans += step\n",
    "        tmp_saving_idx.append(idx)\n",
    "    last_status = cur_status\n",
    "# release data stored in tmp_saving_idx\n",
    "if tmp_saving_idx:\n",
    "    step = 1/len(tmp_saving_idx) if tmp_saving_idx else 1\n",
    "    if last_status == 0: #如果前面保存的状态时状态是开锁,则将tmp_saving_idx中保存的东西加入开锁\n",
    "        cur_trans = step\n",
    "        while tmp_saving_idx:\n",
    "            curidx = tmp_saving_idx.pop()\n",
    "            unlock_data['longitudes'].append(abnormal_example['LONGITUDE'].iloc[curidx])\n",
    "            unlock_data['latitudes'].append(abnormal_example['LATITUDE'].iloc[curidx])\n",
    "            unlock_data['transparency'].append(max(1, cur_trans)) # prevent from overflow\n",
    "            cur_trans += step\n",
    "    else:\n",
    "        cur_trans = 1\n",
    "        while tmp_saving_idx:\n",
    "            curidx = tmp_saving_idx.pop()\n",
    "            lock_data['longitudes'].append(abnormal_example['LONGITUDE'].iloc[curidx])\n",
    "            lock_data['latitudes'].append(abnormal_example['LATITUDE'].iloc[curidx])\n",
    "            lock_data['transparency'].append(cur_trans)\n",
    "            cur_trans -= step\n",
    "plt.figure(figsize=(8,8))\n",
    "for i in range(len(lock_data['latitudes'])):\n",
    "    plt.scatter(x = lock_data['longitudes'][i], y = lock_data['latitudes'][i], alpha = lock_data['transparency'][i], color = 'blue')\n",
    "for i in range(len(unlock_data['latitudes'])):\n",
    "    plt.scatter(x = unlock_data['longitudes'][i], y = unlock_data['latitudes'][i], alpha = unlock_data['transparency'][i], color = 'red')"
   ]
  },
  {
   "source": [
    "可以看出开锁数据在发生时,自行车是持续移动的,所以我们需要保留自行车状态(活动转为静止,或静止转为活动)变化时产生的数据.即,对于连续的开锁数据,仅保留第一个;对于连续的关锁数据,仅保留最后一个"
   ],
   "cell_type": "markdown",
   "metadata": {}
  },
  {
   "cell_type": "code",
   "execution_count": 25,
   "metadata": {},
   "outputs": [],
   "source": [
    "dd.sort_values([\"BICYCLE_ID\", \"UPDATE_TIME\"], ignore_index = True, inplace = True)\n",
    "outbikes = pd.DataFrame(dd[dd['LOCK_STATUS'] == 0], columns = ['BICYCLE_ID', 'DAY', 'LOCK_STATUS'])\n",
    "outbikes['IDX'] = outbikes.index\n",
    "\n",
    "inbikes = pd.DataFrame(dd[dd['LOCK_STATUS'] == 1], columns = ['BICYCLE_ID', 'DAY', 'LOCK_STATUS'])\n",
    "inbikes['IDX'] = inbikes.index\n",
    "\n",
    "outbikes = outbikes.loc[(outbikes['BICYCLE_ID'].shift(1) != outbikes['BICYCLE_ID'])|(outbikes['DAY'].shift(1) != outbikes['DAY'])|(outbikes['IDX'].shift(1) != outbikes['IDX'] - 1)]\n",
    "inbikes = inbikes.loc[(inbikes['BICYCLE_ID'].shift(-1) != inbikes['BICYCLE_ID'])|(inbikes['DAY'].shift(-1) != inbikes['DAY'])|(inbikes['IDX'].shift(-1) != inbikes['IDX'] + 1)]"
   ]
  },
  {
   "cell_type": "code",
   "execution_count": 26,
   "metadata": {},
   "outputs": [],
   "source": [
    "cleaned_col_idx = inbikes.index.values.tolist() + outbikes.index.values.tolist()\n",
    "cleaned_dd = dd.loc[cleaned_col_idx, :]\n",
    "cleaned_dd.sort_values([\"UPDATE_TIME\"], ignore_index = True, inplace = True)"
   ]
  },
  {
   "cell_type": "code",
   "execution_count": 27,
   "metadata": {},
   "outputs": [
    {
     "output_type": "error",
     "ename": "AttributeError",
     "evalue": "'NoneType' object has no attribute 'loc'",
     "traceback": [
      "\u001b[1;31m---------------------------------------------------------------------------\u001b[0m",
      "\u001b[1;31mAttributeError\u001b[0m                            Traceback (most recent call last)",
      "\u001b[1;32m<ipython-input-27-8f0b8e48203d>\u001b[0m in \u001b[0;36m<module>\u001b[1;34m\u001b[0m\n\u001b[1;32m----> 1\u001b[1;33m \u001b[0mcheck\u001b[0m \u001b[1;33m=\u001b[0m \u001b[0mcleaned_dd\u001b[0m\u001b[1;33m.\u001b[0m\u001b[0mloc\u001b[0m\u001b[1;33m[\u001b[0m\u001b[1;33m(\u001b[0m\u001b[0mcleaned_dd\u001b[0m\u001b[1;33m[\u001b[0m\u001b[1;34m'BICYCLE_ID'\u001b[0m\u001b[1;33m]\u001b[0m \u001b[1;33m==\u001b[0m \u001b[0mabnormal_bike\u001b[0m\u001b[1;33m)\u001b[0m \u001b[1;33m&\u001b[0m \u001b[1;33m(\u001b[0m\u001b[0mcleaned_dd\u001b[0m\u001b[1;33m[\u001b[0m\u001b[1;34m'DAY'\u001b[0m\u001b[1;33m]\u001b[0m \u001b[1;33m==\u001b[0m \u001b[0mabnormal_day\u001b[0m\u001b[1;33m)\u001b[0m\u001b[1;33m]\u001b[0m\u001b[1;33m.\u001b[0m\u001b[0mcopy\u001b[0m\u001b[1;33m(\u001b[0m\u001b[1;33m)\u001b[0m\u001b[1;33m\u001b[0m\u001b[1;33m\u001b[0m\u001b[0m\n\u001b[0m\u001b[0;32m      2\u001b[0m \u001b[0mcheck\u001b[0m\u001b[1;33m\u001b[0m\u001b[1;33m\u001b[0m\u001b[0m\n",
      "\u001b[1;31mAttributeError\u001b[0m: 'NoneType' object has no attribute 'loc'"
     ]
    }
   ],
   "source": [
    "check = cleaned_dd.loc[(cleaned_dd['BICYCLE_ID'] == abnormal_bike) & (cleaned_dd['DAY'] == abnormal_day)].copy()\n",
    "check"
   ]
  },
  {
   "cell_type": "code",
   "execution_count": null,
   "metadata": {},
   "outputs": [],
   "source": [
    "cleaned_dd.to_csv('removed_abnormal.csv', index = False)"
   ]
  },
  {
   "cell_type": "code",
   "execution_count": null,
   "metadata": {},
   "outputs": [],
   "source": []
  }
 ]
}