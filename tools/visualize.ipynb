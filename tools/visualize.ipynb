{
 "metadata": {
  "language_info": {
   "codemirror_mode": {
    "name": "ipython",
    "version": 3
   },
   "file_extension": ".py",
   "mimetype": "text/x-python",
   "name": "python",
   "nbconvert_exporter": "python",
   "pygments_lexer": "ipython3",
   "version": "3.7.1-final"
  },
  "orig_nbformat": 2,
  "kernelspec": {
   "name": "python3",
   "display_name": "Python 3",
   "language": "python"
  }
 },
 "nbformat": 4,
 "nbformat_minor": 2,
 "cells": [
  {
   "cell_type": "code",
   "execution_count": 8,
   "metadata": {},
   "outputs": [],
   "source": [
    "import pandas as pd\n",
    "import time"
   ]
  },
  {
   "cell_type": "code",
   "execution_count": 10,
   "metadata": {},
   "outputs": [],
   "source": [
    "# initialize a data frame\n",
    "df = pd.DataFrame()\n",
    "for i in range(1, 6):\n",
    "    fname = './data/gxdc_gj2020122' + str(i) + '.csv'\n",
    "    curdf = pd.read_csv(fname)\n",
    "    df = pd.concat([df, curdf], ignore_index= True)"
   ]
  },
  {
   "cell_type": "code",
   "execution_count": 12,
   "metadata": {},
   "outputs": [
    {
     "output_type": "execute_result",
     "data": {
      "text/plain": [
       "                               BICYCLE_ID       LOCATING_TIME   LATITUDE  \\\n",
       "990445   73be26cf0beba0127a34259dffedfcee  2020/12/24 6:06:47  24.486197   \n",
       "627503   f0b71dbda988b39923a1c66ea53abaca  2020/12/22 8:33:55  24.500540   \n",
       "1837595  849bcebbf5813e4bdebe6b9fb065204f  2020/12/25 7:51:10  24.520025   \n",
       "408038   d7186eb4bd22656d429ee8cb1c2834a7  2020/12/22 8:24:08  24.485566   \n",
       "90347    bb42f356bc66c3532df3a9e4c2d0d478  2020/12/21 9:12:35  24.491857   \n",
       "1786662  c08e0d9966490f1bb889b6774ce0ee82  2020/12/25 7:37:24  24.512253   \n",
       "246907   f308d1c2979f502a95004bd7a81cf49f  2020/12/21 9:54:08  24.500589   \n",
       "628529   8729073e04ad6941702cc69da70b77c1  2020/12/22 9:08:13  24.499983   \n",
       "1270329  809502edcde82ec81a0315cf87276d96  2020/12/24 8:39:05  24.501178   \n",
       "1528213  e6ad0d94f831bdabcf2bc3626fba301c  2020/12/25 9:11:52  24.490428   \n",
       "\n",
       "          LONGITUDE  \n",
       "990445   118.110811  \n",
       "627503   118.120047  \n",
       "1837595  118.116469  \n",
       "408038   118.112951  \n",
       "90347    118.123704  \n",
       "1786662  118.118354  \n",
       "246907   118.124444  \n",
       "628529   118.118589  \n",
       "1270329  118.121683  \n",
       "1528213  118.134692  "
      ],
      "text/html": "<div>\n<style scoped>\n    .dataframe tbody tr th:only-of-type {\n        vertical-align: middle;\n    }\n\n    .dataframe tbody tr th {\n        vertical-align: top;\n    }\n\n    .dataframe thead th {\n        text-align: right;\n    }\n</style>\n<table border=\"1\" class=\"dataframe\">\n  <thead>\n    <tr style=\"text-align: right;\">\n      <th></th>\n      <th>BICYCLE_ID</th>\n      <th>LOCATING_TIME</th>\n      <th>LATITUDE</th>\n      <th>LONGITUDE</th>\n    </tr>\n  </thead>\n  <tbody>\n    <tr>\n      <th>990445</th>\n      <td>73be26cf0beba0127a34259dffedfcee</td>\n      <td>2020/12/24 6:06:47</td>\n      <td>24.486197</td>\n      <td>118.110811</td>\n    </tr>\n    <tr>\n      <th>627503</th>\n      <td>f0b71dbda988b39923a1c66ea53abaca</td>\n      <td>2020/12/22 8:33:55</td>\n      <td>24.500540</td>\n      <td>118.120047</td>\n    </tr>\n    <tr>\n      <th>1837595</th>\n      <td>849bcebbf5813e4bdebe6b9fb065204f</td>\n      <td>2020/12/25 7:51:10</td>\n      <td>24.520025</td>\n      <td>118.116469</td>\n    </tr>\n    <tr>\n      <th>408038</th>\n      <td>d7186eb4bd22656d429ee8cb1c2834a7</td>\n      <td>2020/12/22 8:24:08</td>\n      <td>24.485566</td>\n      <td>118.112951</td>\n    </tr>\n    <tr>\n      <th>90347</th>\n      <td>bb42f356bc66c3532df3a9e4c2d0d478</td>\n      <td>2020/12/21 9:12:35</td>\n      <td>24.491857</td>\n      <td>118.123704</td>\n    </tr>\n    <tr>\n      <th>1786662</th>\n      <td>c08e0d9966490f1bb889b6774ce0ee82</td>\n      <td>2020/12/25 7:37:24</td>\n      <td>24.512253</td>\n      <td>118.118354</td>\n    </tr>\n    <tr>\n      <th>246907</th>\n      <td>f308d1c2979f502a95004bd7a81cf49f</td>\n      <td>2020/12/21 9:54:08</td>\n      <td>24.500589</td>\n      <td>118.124444</td>\n    </tr>\n    <tr>\n      <th>628529</th>\n      <td>8729073e04ad6941702cc69da70b77c1</td>\n      <td>2020/12/22 9:08:13</td>\n      <td>24.499983</td>\n      <td>118.118589</td>\n    </tr>\n    <tr>\n      <th>1270329</th>\n      <td>809502edcde82ec81a0315cf87276d96</td>\n      <td>2020/12/24 8:39:05</td>\n      <td>24.501178</td>\n      <td>118.121683</td>\n    </tr>\n    <tr>\n      <th>1528213</th>\n      <td>e6ad0d94f831bdabcf2bc3626fba301c</td>\n      <td>2020/12/25 9:11:52</td>\n      <td>24.490428</td>\n      <td>118.134692</td>\n    </tr>\n  </tbody>\n</table>\n</div>"
     },
     "metadata": {},
     "execution_count": 12
    }
   ],
   "source": [
    "df.sample(10)"
   ]
  },
  {
   "cell_type": "code",
   "execution_count": 14,
   "metadata": {},
   "outputs": [
    {
     "output_type": "execute_result",
     "data": {
      "text/plain": [
       "(1839868, 4)"
      ]
     },
     "metadata": {},
     "execution_count": 14
    }
   ],
   "source": [
    "df.shape"
   ]
  },
  {
   "cell_type": "code",
   "execution_count": 16,
   "metadata": {},
   "outputs": [
    {
     "output_type": "stream",
     "name": "stdout",
     "text": [
      "<class 'pandas.core.frame.DataFrame'>\nRangeIndex: 1839868 entries, 0 to 1839867\nData columns (total 4 columns):\n #   Column         Dtype  \n---  ------         -----  \n 0   BICYCLE_ID     object \n 1   LOCATING_TIME  object \n 2   LATITUDE       float64\n 3   LONGITUDE      float64\ndtypes: float64(2), object(2)\nmemory usage: 56.1+ MB\n"
     ]
    }
   ],
   "source": [
    "df.info()"
   ]
  },
  {
   "cell_type": "code",
   "execution_count": 17,
   "metadata": {},
   "outputs": [
    {
     "output_type": "execute_result",
     "data": {
      "text/plain": [
       "           LATITUDE     LONGITUDE\n",
       "count  1.839868e+06  1.839868e+06\n",
       "mean   2.449922e+01  1.181214e+02\n",
       "std    9.488904e-03  8.241933e-03\n",
       "min    2.448215e+01  1.181026e+02\n",
       "25%    2.449213e+01  1.181153e+02\n",
       "50%    2.449699e+01  1.181212e+02\n",
       "75%    2.450596e+01  1.181272e+02\n",
       "max    2.452017e+01  1.181405e+02"
      ],
      "text/html": "<div>\n<style scoped>\n    .dataframe tbody tr th:only-of-type {\n        vertical-align: middle;\n    }\n\n    .dataframe tbody tr th {\n        vertical-align: top;\n    }\n\n    .dataframe thead th {\n        text-align: right;\n    }\n</style>\n<table border=\"1\" class=\"dataframe\">\n  <thead>\n    <tr style=\"text-align: right;\">\n      <th></th>\n      <th>LATITUDE</th>\n      <th>LONGITUDE</th>\n    </tr>\n  </thead>\n  <tbody>\n    <tr>\n      <th>count</th>\n      <td>1.839868e+06</td>\n      <td>1.839868e+06</td>\n    </tr>\n    <tr>\n      <th>mean</th>\n      <td>2.449922e+01</td>\n      <td>1.181214e+02</td>\n    </tr>\n    <tr>\n      <th>std</th>\n      <td>9.488904e-03</td>\n      <td>8.241933e-03</td>\n    </tr>\n    <tr>\n      <th>min</th>\n      <td>2.448215e+01</td>\n      <td>1.181026e+02</td>\n    </tr>\n    <tr>\n      <th>25%</th>\n      <td>2.449213e+01</td>\n      <td>1.181153e+02</td>\n    </tr>\n    <tr>\n      <th>50%</th>\n      <td>2.449699e+01</td>\n      <td>1.181212e+02</td>\n    </tr>\n    <tr>\n      <th>75%</th>\n      <td>2.450596e+01</td>\n      <td>1.181272e+02</td>\n    </tr>\n    <tr>\n      <th>max</th>\n      <td>2.452017e+01</td>\n      <td>1.181405e+02</td>\n    </tr>\n  </tbody>\n</table>\n</div>"
     },
     "metadata": {},
     "execution_count": 17
    }
   ],
   "source": [
    "df.describe()"
   ]
  },
  {
   "source": [
    "We only need the bicycle data between 7:00 am to 9:00 am, so we need to delete rows with hour >= 9 and hour < 7\n",
    "\n",
    "That's see how many data are not useful"
   ],
   "cell_type": "markdown",
   "metadata": {}
  },
  {
   "cell_type": "code",
   "execution_count": 18,
   "metadata": {},
   "outputs": [
    {
     "output_type": "stream",
     "name": "stdout",
     "text": [
      "Data before 7:00 and after 9: 00: 590142\n"
     ]
    }
   ],
   "source": [
    "not_useful_rows = []\n",
    "for i in range(len(df['LOCATING_TIME'])):\n",
    "    t = df['LOCATING_TIME'][i]\n",
    "    clock = t.split(' ')\n",
    "    try:\n",
    "        h, m, s = clock[1].split(':')\n",
    "        h, m, s = int(h), int(m), int(s)\n",
    "        if h >= 9 or h < 7:\n",
    "            not_useful_rows.append(i)\n",
    "    # if something rare found\n",
    "    except:\n",
    "        print(clock)\n",
    "print('Data before 7:00 and after 9: 00: ' + str(len(not_useful_rows)))"
   ]
  },
  {
   "source": [
    "Delete those rows"
   ],
   "cell_type": "markdown",
   "metadata": {}
  },
  {
   "cell_type": "code",
   "execution_count": 19,
   "metadata": {},
   "outputs": [
    {
     "output_type": "execute_result",
     "data": {
      "text/plain": [
       "(1249726, 4)"
      ]
     },
     "metadata": {},
     "execution_count": 19
    }
   ],
   "source": [
    "df = df.drop(not_useful_rows, axis = 0)\n",
    "df.shape"
   ]
  },
  {
   "cell_type": "code",
   "execution_count": 20,
   "metadata": {},
   "outputs": [
    {
     "output_type": "stream",
     "name": "stdout",
     "text": [
      "<class 'pandas.core.frame.DataFrame'>\nInt64Index: 1249726 entries, 0 to 1839867\nData columns (total 4 columns):\n #   Column         Non-Null Count    Dtype  \n---  ------         --------------    -----  \n 0   BICYCLE_ID     1249726 non-null  object \n 1   LOCATING_TIME  1249726 non-null  object \n 2   LATITUDE       1249726 non-null  float64\n 3   LONGITUDE      1249726 non-null  float64\ndtypes: float64(2), object(2)\nmemory usage: 47.7+ MB\n"
     ]
    }
   ],
   "source": [
    "df.info()"
   ]
  },
  {
   "cell_type": "code",
   "execution_count": 21,
   "metadata": {},
   "outputs": [],
   "source": [
    "bikes = df.groupby('BICYCLE_ID')"
   ]
  },
  {
   "cell_type": "code",
   "execution_count": 22,
   "metadata": {},
   "outputs": [
    {
     "output_type": "execute_result",
     "data": {
      "text/plain": [
       "                                  LOCATING_TIME  LATITUDE  LONGITUDE\n",
       "BICYCLE_ID                                                          \n",
       "000152773681a23a7f2d9af8e8902703             16        16         16\n",
       "000245710f355aacddb89119a84941fc             24        24         24\n",
       "0003834cd38de5e96046abc0fa2b65ea            184       184        184\n",
       "00068ab20098fb2fc83ab4216b76c3a4              1         1          1\n",
       "0007846b8611922b2934ff713650dde2             96        96         96\n",
       "...                                         ...       ...        ...\n",
       "ffed660e49a54fb1718a81349131f33f             63        63         63\n",
       "ffedb3ea49fbf0fccdacd657da151efc              3         3          3\n",
       "fffaa78cca7c79b28f9f549d47855445             27        27         27\n",
       "fffaf6a2aac10d516f6026b2113a0d5f             24        24         24\n",
       "fffd29e01d4964222d603735ce59f35e              6         6          6\n",
       "\n",
       "[30452 rows x 3 columns]"
      ],
      "text/html": "<div>\n<style scoped>\n    .dataframe tbody tr th:only-of-type {\n        vertical-align: middle;\n    }\n\n    .dataframe tbody tr th {\n        vertical-align: top;\n    }\n\n    .dataframe thead th {\n        text-align: right;\n    }\n</style>\n<table border=\"1\" class=\"dataframe\">\n  <thead>\n    <tr style=\"text-align: right;\">\n      <th></th>\n      <th>LOCATING_TIME</th>\n      <th>LATITUDE</th>\n      <th>LONGITUDE</th>\n    </tr>\n    <tr>\n      <th>BICYCLE_ID</th>\n      <th></th>\n      <th></th>\n      <th></th>\n    </tr>\n  </thead>\n  <tbody>\n    <tr>\n      <th>000152773681a23a7f2d9af8e8902703</th>\n      <td>16</td>\n      <td>16</td>\n      <td>16</td>\n    </tr>\n    <tr>\n      <th>000245710f355aacddb89119a84941fc</th>\n      <td>24</td>\n      <td>24</td>\n      <td>24</td>\n    </tr>\n    <tr>\n      <th>0003834cd38de5e96046abc0fa2b65ea</th>\n      <td>184</td>\n      <td>184</td>\n      <td>184</td>\n    </tr>\n    <tr>\n      <th>00068ab20098fb2fc83ab4216b76c3a4</th>\n      <td>1</td>\n      <td>1</td>\n      <td>1</td>\n    </tr>\n    <tr>\n      <th>0007846b8611922b2934ff713650dde2</th>\n      <td>96</td>\n      <td>96</td>\n      <td>96</td>\n    </tr>\n    <tr>\n      <th>...</th>\n      <td>...</td>\n      <td>...</td>\n      <td>...</td>\n    </tr>\n    <tr>\n      <th>ffed660e49a54fb1718a81349131f33f</th>\n      <td>63</td>\n      <td>63</td>\n      <td>63</td>\n    </tr>\n    <tr>\n      <th>ffedb3ea49fbf0fccdacd657da151efc</th>\n      <td>3</td>\n      <td>3</td>\n      <td>3</td>\n    </tr>\n    <tr>\n      <th>fffaa78cca7c79b28f9f549d47855445</th>\n      <td>27</td>\n      <td>27</td>\n      <td>27</td>\n    </tr>\n    <tr>\n      <th>fffaf6a2aac10d516f6026b2113a0d5f</th>\n      <td>24</td>\n      <td>24</td>\n      <td>24</td>\n    </tr>\n    <tr>\n      <th>fffd29e01d4964222d603735ce59f35e</th>\n      <td>6</td>\n      <td>6</td>\n      <td>6</td>\n    </tr>\n  </tbody>\n</table>\n<p>30452 rows × 3 columns</p>\n</div>"
     },
     "metadata": {},
     "execution_count": 22
    }
   ],
   "source": [
    "bikes.count()"
   ]
  },
  {
   "cell_type": "code",
   "execution_count": null,
   "metadata": {},
   "outputs": [],
   "source": []
  }
 ]
}