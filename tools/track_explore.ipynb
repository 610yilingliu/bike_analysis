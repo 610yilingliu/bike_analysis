{
 "metadata": {
  "language_info": {
   "codemirror_mode": {
    "name": "ipython",
    "version": 3
   },
   "file_extension": ".py",
   "mimetype": "text/x-python",
   "name": "python",
   "nbconvert_exporter": "python",
   "pygments_lexer": "ipython3",
   "version": "3.8.5-final"
  },
  "orig_nbformat": 2,
  "kernelspec": {
   "name": "python3",
   "display_name": "Python 3.8.5 64-bit ('analyze': conda)",
   "metadata": {
    "interpreter": {
     "hash": "a333c0f8ebc677255208bd4e95a1a8fc090ff18064a07e3559187093626a8c24"
    }
   }
  }
 },
 "nbformat": 4,
 "nbformat_minor": 2,
 "cells": [
  {
   "cell_type": "code",
   "execution_count": 1,
   "metadata": {},
   "outputs": [],
   "source": [
    "import os\n",
    "import json\n",
    "import time\n",
    "import collections\n",
    "import pandas as pd\n",
    "# 禁用科学计数法\n",
    "pd.set_option('display.float_format',lambda x : '%.2f' % x)"
   ]
  },
  {
   "cell_type": "code",
   "execution_count": 2,
   "metadata": {},
   "outputs": [],
   "source": [
    "def convert_time(time_str):\n",
    "    \"\"\"\n",
    "    input example: 2020/12/21 8:09:14\n",
    "    \"\"\"\n",
    "    time_str = time_str.strip()\n",
    "    ymd, hmis = time_str.split(' ')\n",
    "    y, m, d = ymd.split('/')\n",
    "    y, m, d = int(y), int(m), int(d)\n",
    "    h, mi, s = hmis.split(':')\n",
    "    h, mi, s = int(h), int(mi), int(float(s))\n",
    "    time_tuple = (y, m, d, h, mi, s, 0, 0, 0)\n",
    "    return time.mktime(time_tuple)"
   ]
  },
  {
   "cell_type": "code",
   "execution_count": 3,
   "metadata": {},
   "outputs": [],
   "source": [
    "point_dict = collections.defaultdict(set)\n",
    "fpath = '../data/'\n",
    "files = os.listdir(fpath)\n",
    "track_data = []\n",
    "for f in files:\n",
    "    if f.startswith('gxdc_gj') and f.endswith('.csv'):\n",
    "        track_data.append(f)\n",
    "for fname in track_data:\n",
    "    day = fname[fname.find('2020') + len('2020'):fname.find('.csv')]\n",
    "    dd = day[2:]\n",
    "    df = pd.read_csv(fpath + fname)\n",
    "    era_start = time.mktime((2020, 12, int(dd), 6, 0, 0, 0, 0, 0))\n",
    "    era_end = time.mktime((2020, 12, int(dd), 10, 0, 0, 0, 0, 0))\n",
    "    df['MKTIME'] = df['LOCATING_TIME'].apply(convert_time)\n",
    "    df.sort_values(\"MKTIME\", inplace = True)\n",
    "    df.reset_index(drop = True, inplace = True)\n",
    "    curidx = 0\n",
    "    cur_timerange = era_start\n",
    "    curkey = time.strftime(\"%Y-%m-%d %H:%M:%S\", time.localtime(cur_timerange))\n",
    "    while curidx < len(df):\n",
    "        if df['MKTIME'][curidx] > cur_timerange + 1800:\n",
    "            # 30 min 一个区间,key是该区间起始时间\n",
    "            cur_timerange += 1800\n",
    "            curkey = time.strftime(\"%Y-%m-%d %H:%M:%S\", time.localtime(cur_timerange))\n",
    "        point_dict[curkey].add((df['LATITUDE'][curidx], df['LONGITUDE'][curidx]))\n",
    "        curidx += 1\n",
    "    for k in point_dict:\n",
    "        point_dict[k] = list(point_dict[k])\n",
    "    "
   ]
  },
  {
   "cell_type": "code",
   "execution_count": 4,
   "metadata": {},
   "outputs": [],
   "source": [
    "f = open(\"../cleaned_data/bike_tracks.json\",\"w\")\n",
    "f.write(json.dumps(point_dict))\n",
    "f.close()"
   ]
  },
  {
   "cell_type": "code",
   "execution_count": null,
   "metadata": {},
   "outputs": [],
   "source": []
  }
 ]
}