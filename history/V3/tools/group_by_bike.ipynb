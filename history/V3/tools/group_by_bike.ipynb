{
 "metadata": {
  "language_info": {
   "codemirror_mode": {
    "name": "ipython",
    "version": 3
   },
   "file_extension": ".py",
   "mimetype": "text/x-python",
   "name": "python",
   "nbconvert_exporter": "python",
   "pygments_lexer": "ipython3",
   "version": "3.8.5-final"
  },
  "orig_nbformat": 2,
  "kernelspec": {
   "name": "python3",
   "display_name": "Python 3.8.5 64-bit ('analyze': conda)",
   "metadata": {
    "interpreter": {
     "hash": "a333c0f8ebc677255208bd4e95a1a8fc090ff18064a07e3559187093626a8c24"
    }
   }
  }
 },
 "nbformat": 4,
 "nbformat_minor": 2,
 "cells": [
  {
   "cell_type": "code",
   "execution_count": 1,
   "metadata": {},
   "outputs": [],
   "source": [
    "import os\n",
    "import folium\n",
    "import random\n",
    "import collections\n",
    "import pandas as pd\n",
    "import numpy as np\n",
    "import matplotlib.pyplot as plt\n",
    "from sklearn.cluster import DBSCAN\n",
    "from shapely.geometry import Polygon, Point"
   ]
  },
  {
   "cell_type": "code",
   "execution_count": 2,
   "metadata": {},
   "outputs": [],
   "source": [
    "bikes = pd.read_csv('../cleaned_data/removed_abnormal.csv')\n",
    "if 'Unnamed: 0' in bikes.columns:\n",
    "    bikes.drop('Unnamed: 0', axis = 1)"
   ]
  },
  {
   "cell_type": "code",
   "execution_count": 3,
   "metadata": {},
   "outputs": [],
   "source": [
    "outliers = bikes[(bikes['NEAREST_FENCE'] == -1) | (bikes['DISTANCE'] > 50)]\n",
    "bikes_inside = bikes[(bikes['NEAREST_FENCE'] != -1) | (bikes['DISTANCE'] <= 50)]"
   ]
  },
  {
   "cell_type": "code",
   "execution_count": 4,
   "metadata": {},
   "outputs": [],
   "source": [
    "la = bikes_inside['LATITUDE'].tolist()\n",
    "lo = bikes_inside['LONGITUDE'].tolist()"
   ]
  },
  {
   "cell_type": "code",
   "execution_count": 5,
   "metadata": {},
   "outputs": [],
   "source": [
    "X = [(x1, x2) for x1, x2 in zip(la, lo)]\n",
    "cluster = DBSCAN(eps = 0.00002, min_samples = 1).fit_predict(X)"
   ]
  },
  {
   "cell_type": "code",
   "execution_count": 6,
   "metadata": {},
   "outputs": [],
   "source": [
    "c = collections.Counter(cluster)\n",
    "len(c)\n",
    "sort_by_num = sorted([(v, k) for k, v in c.items()], reverse = True)"
   ]
  },
  {
   "cell_type": "code",
   "execution_count": 7,
   "metadata": {},
   "outputs": [],
   "source": [
    "bikes['CLUSTER'] = cluster"
   ]
  },
  {
   "cell_type": "code",
   "execution_count": null,
   "metadata": {},
   "outputs": [],
   "source": []
  }
 ]
}